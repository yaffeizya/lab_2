{
 "cells": [
  {
   "cell_type": "markdown",
   "id": "9c8a9faf-622c-470b-b107-054c7daaaa35",
   "metadata": {},
   "source": [
    "class\n",
    "\n",
    "task 1\n"
   ]
  },
  {
   "cell_type": "code",
   "execution_count": 6,
   "id": "93284d65-782d-4a9c-99c1-bbc190c431b3",
   "metadata": {},
   "outputs": [
    {
     "name": "stdin",
     "output_type": "stream",
     "text": [
      "Enter your string: zig haile\n"
     ]
    },
    {
     "name": "stdout",
     "output_type": "stream",
     "text": [
      "ZIG HAILE\n"
     ]
    }
   ],
   "source": [
    "class Myclass():\n",
    "    def __init__(self):\n",
    "        self.string=\"\"\n",
    "    def getString(self):\n",
    "        self.string=str(input(\"Enter your string:\"))\n",
    "    def printString(self):\n",
    "        print(self.string.upper())\n",
    "x=Myclass()\n",
    "x.getString()\n",
    "x.printString()"
   ]
  },
  {
   "cell_type": "markdown",
   "id": "c09bdac5-94c4-4667-8aa7-04c122b03aac",
   "metadata": {},
   "source": [
    "task 2"
   ]
  },
  {
   "cell_type": "code",
   "execution_count": 13,
   "id": "778187d2-0e95-4b66-a132-f852ac3659e0",
   "metadata": {},
   "outputs": [
    {
     "name": "stdout",
     "output_type": "stream",
     "text": [
      "Area of the square is:  25\n",
      "Area of the shape is:  0\n"
     ]
    }
   ],
   "source": [
    "class Shape:\n",
    "    def area(self):\n",
    "        area = 0\n",
    "        print(\"Area of the shape is: \" , area)\n",
    "\n",
    "class Square(Shape):\n",
    "    def __init__ (self,length):\n",
    "        self.length = length\n",
    "\n",
    "    def area(self):\n",
    "        area = self.length*self.length\n",
    "        print(\"Area of the square is: \", area)\n",
    "\n",
    "example = Square(5)\n",
    "example.area()\n",
    "\n",
    "example1 = Shape()\n",
    "example1.area()"
   ]
  },
  {
   "cell_type": "markdown",
   "id": "af93811c-915d-41c0-ab8f-d74785874cca",
   "metadata": {},
   "source": [
    "task 3"
   ]
  },
  {
   "cell_type": "code",
   "execution_count": 21,
   "id": "143b62ac-df22-4e05-9e9e-d5e92a30e8cb",
   "metadata": {},
   "outputs": [
    {
     "name": "stdout",
     "output_type": "stream",
     "text": [
      "Area of the shape is: 0\n"
     ]
    },
    {
     "data": {
      "text/plain": [
       "('area is:', 25)"
      ]
     },
     "execution_count": 21,
     "metadata": {},
     "output_type": "execute_result"
    }
   ],
   "source": [
    "class Shape:\n",
    "    def area(self):\n",
    "        area = 0\n",
    "        print(\"Area of the shape is:\" , area)\n",
    "class Rectangle(Shape):\n",
    "    def __init__(self, length, width):\n",
    "        self.length=length\n",
    "        self.width=width\n",
    "    def area(self):\n",
    "        area= self.length*self.width\n",
    "        return (\"area is:\", area)\n",
    "y=Shape()\n",
    "y.area()\n",
    "x=Rectangle(5, 5)\n",
    "x.area()    "
   ]
  },
  {
   "cell_type": "markdown",
   "id": "09d40a64-628c-4eb1-9f59-5d3c84642b9a",
   "metadata": {},
   "source": [
    "task 4"
   ]
  },
  {
   "cell_type": "code",
   "execution_count": 24,
   "id": "e5835de4-49e5-49ee-acc0-fdaef26d32d6",
   "metadata": {},
   "outputs": [
    {
     "name": "stdout",
     "output_type": "stream",
     "text": [
      "Initial coordinates:\n",
      "(0, 0)\n",
      "(2, 2)\n",
      "moving coord\n",
      "(1, 1)\n",
      "(4, 4)\n",
      "Final dist:\n",
      "4.242640687119285\n"
     ]
    }
   ],
   "source": [
    "class Point():\n",
    "    def __init__(self, x, y):\n",
    "        self.x=x\n",
    "        self.y=y\n",
    "    def show(self):\n",
    "        print(f\"({self.x}, {self.y})\")\n",
    "    def move(self, x, y):\n",
    "        self.x=self.x+x\n",
    "        self.y=self.y+y\n",
    "    def dist(self, point):\n",
    "        return(((self.x-point.x)**2+(self.y-point.y)**2)**0.5)\n",
    "point1=Point(0,0)\n",
    "point2=Point(2,2)\n",
    "print(\"Initial coordinates:\")\n",
    "point1.show(), point2.show()\n",
    "print(\"moving coord\")\n",
    "point1.move(1,1), point2.move(2,2)\n",
    "point1.show(), point2.show()\n",
    "print(\"Final dist:\")\n",
    "print(point1.dist(point2))\n",
    "    "
   ]
  },
  {
   "cell_type": "markdown",
   "id": "bfcdecd6-8484-40f2-a930-4f81ef54993f",
   "metadata": {},
   "source": [
    "task 5"
   ]
  },
  {
   "cell_type": "code",
   "execution_count": 43,
   "id": "563258f1-9dbc-43fe-96aa-593d5f45d313",
   "metadata": {},
   "outputs": [
    {
     "name": "stdout",
     "output_type": "stream",
     "text": [
      "balance: 100\n",
      "Deposit: 1001 \n",
      " Available: 1101\n",
      "withdraw: 10100\n",
      "operation is not available\n"
     ]
    }
   ],
   "source": [
    "class Account():\n",
    "    def __init__(self, owner, balance):\n",
    "        self.owner=owner\n",
    "        self.balance=balance\n",
    "        print(\"balance:\", self.balance)\n",
    "    def deposit(self,dep):\n",
    "        self.balance += dep\n",
    "        print(f\"Deposit: {dep} \\n Available: {self.balance}\")\n",
    "    def withdraw(self,wtd):\n",
    "        print(\"withdraw:\", wtd)\n",
    "        self.balance-=wtd\n",
    "        if wtd>self.balance:\n",
    "            print(\"operation is not available\")\n",
    "        else :\n",
    "            print(\"operation is available\")\n",
    "\n",
    "myacc=Account(\"Izya\", 100)\n",
    "myacc.deposit(1001)\n",
    "myacc.withdraw(10100)\n",
    "\n",
    "        "
   ]
  },
  {
   "cell_type": "markdown",
   "id": "f9178d32-9437-45e5-a3e7-fe8825762324",
   "metadata": {},
   "source": [
    "task 6"
   ]
  },
  {
   "cell_type": "code",
   "execution_count": 46,
   "id": "8cc35c9e-4edd-4481-91d8-84bd0145d073",
   "metadata": {},
   "outputs": [
    {
     "name": "stdout",
     "output_type": "stream",
     "text": [
      "[1, 2, 3, 4, 5, 6, 7, 8, 9, 10, 11, 12, 13, 14, 15, 16, 17, 18, 19, 20] \n",
      "\n",
      "[3, 5, 7, 11, 13, 17, 19]\n"
     ]
    }
   ],
   "source": [
    "list1 = [1,2,3,4,5,6,7,8,9,10,11,12,13,14,15,16,17,18,19,20]\n",
    "print (list1, '\\n')\n",
    "\n",
    "def is_prime(n):\n",
    "    if n <= 2:\n",
    "        return False\n",
    "    for i in range(2, int(n ** 0.5) + 1):\n",
    "        if n % i == 0:\n",
    "            return False\n",
    "    return True\n",
    "\n",
    "prime_number = list(filter(lambda x: is_prime(x), list1))\n",
    "print(prime_number)"
   ]
  },
  {
   "cell_type": "markdown",
   "id": "a4495feb-dc16-4a2f-9871-88dea5543236",
   "metadata": {},
   "source": [
    "function\n",
    "\n",
    "task 1\n",
    "\n",
    "ounces = 28.3495231 * grams"
   ]
  },
  {
   "cell_type": "code",
   "execution_count": 48,
   "id": "30a9e556-afae-4415-a1f3-5675625f5d37",
   "metadata": {},
   "outputs": [
    {
     "name": "stdout",
     "output_type": "stream",
     "text": [
      "14174.76155\n"
     ]
    }
   ],
   "source": [
    "def conv(grams):\n",
    "    ounces= 28.3495231 * grams\n",
    "    print(ounces)\n",
    "conv(500)\n",
    "    \n",
    "    "
   ]
  },
  {
   "cell_type": "markdown",
   "id": "272e65d6-93dc-426d-8c86-1b0ae6311473",
   "metadata": {},
   "source": [
    "task 2\n",
    "\n",
    "C = (5 / 9) * (F – 32)"
   ]
  },
  {
   "cell_type": "code",
   "execution_count": 50,
   "id": "5d030ade-24ce-48c2-984c-d93116de1812",
   "metadata": {},
   "outputs": [
    {
     "name": "stdout",
     "output_type": "stream",
     "text": [
      "37.77777777777778\n"
     ]
    }
   ],
   "source": [
    "def conv(F):\n",
    "    Cc = (5 / 9) * (F-32)\n",
    "    print (Cc)\n",
    "conv(100)"
   ]
  },
  {
   "cell_type": "markdown",
   "id": "4d115543-c892-43fd-98d9-c5b2420eb0d1",
   "metadata": {},
   "source": [
    "task 3\n"
   ]
  },
  {
   "cell_type": "code",
   "execution_count": 51,
   "id": "ed2593a5-7922-4780-b475-8b1af3d97710",
   "metadata": {},
   "outputs": [
    {
     "name": "stdout",
     "output_type": "stream",
     "text": [
      "12 23\n"
     ]
    }
   ],
   "source": [
    "def solve(numheads, numlegs):\n",
    "    # x - rabbits, y - chickens\n",
    "    for x in range (0, numheads+1):\n",
    "        for y in range (0, numlegs+1):\n",
    "            if x+y == numheads and 4*x + 2*y == numlegs:\n",
    "                print(x, y)\n",
    "\n",
    "solve(35, 94)"
   ]
  },
  {
   "cell_type": "markdown",
   "id": "45f13606-28fa-45df-adcc-ac56ac0414a8",
   "metadata": {},
   "source": [
    "task 4"
   ]
  },
  {
   "cell_type": "code",
   "execution_count": 53,
   "id": "009a2672-4f9f-44af-921f-6654caa00774",
   "metadata": {},
   "outputs": [
    {
     "name": "stdout",
     "output_type": "stream",
     "text": [
      "[3, 5, 7, 11, 13, 17, 19]\n"
     ]
    }
   ],
   "source": [
    "list_of_numbers = \"1 2 3 4 5 6 7 8 9 10 11 12 13 14 15 16 17 18 19 20\"\n",
    "\n",
    "def filter_prime(numbers_str):\n",
    "\n",
    "    numbers = list(int(num) for num in list_of_numbers.split())\n",
    "    \n",
    "    def is_prime(n):\n",
    "        if n <=2:\n",
    "            return False\n",
    "        for i in range(2, int(n ** 0.5) + 1):\n",
    "            if n % i == 0:\n",
    "                return False\n",
    "        return True\n",
    "    \n",
    "\n",
    "    return list(filter(is_prime, numbers))\n",
    "\n",
    "prime_numbers = filter_prime(list_of_numbers)\n",
    "print(prime_numbers)"
   ]
  },
  {
   "cell_type": "markdown",
   "id": "0412f633-f15a-4ce3-90fd-fa18932952b9",
   "metadata": {},
   "source": [
    "task 5"
   ]
  },
  {
   "cell_type": "code",
   "execution_count": null,
   "id": "d3489751-b130-43ca-9aec-c2079835cd49",
   "metadata": {},
   "outputs": [],
   "source": [
    "def get_permutations(s):\n",
    "    permutations = [\"\"]\n",
    "    for char in s:\n",
    "        new_perms = []\n",
    "        for perm in permutations:\n",
    "            for i in range(len(perm) + 1):\n",
    "                new_perms.append(perm[:i] + char + perm[i:])\n",
    "        permutations = new_perms\n",
    "    return permutations\n",
    "\n",
    "user_input = input(\"Enter a string:  \")\n",
    "result = get_permutations(user_input)\n",
    "\n",
    "print(\"All perutations:\")\n",
    "c = 1\n",
    "for p in result:\n",
    "    print(f\"{c})  {p}\")\n",
    "    c += 1"
   ]
  },
  {
   "cell_type": "markdown",
   "id": "d532ba9a-7527-42af-9916-0edff92db834",
   "metadata": {},
   "source": [
    "task 6"
   ]
  },
  {
   "cell_type": "code",
   "execution_count": 3,
   "id": "9ed568ab-26ae-4fe5-9f05-de52c9851a1e",
   "metadata": {},
   "outputs": [
    {
     "name": "stdout",
     "output_type": "stream",
     "text": [
      "ready are we "
     ]
    }
   ],
   "source": [
    "def revv(s):\n",
    "    words=s.split()\n",
    "    words.reverse()\n",
    "    for word in words:\n",
    "        print(word, end=\" \")\n",
    "revv(\"we are ready\")\n",
    "    "
   ]
  },
  {
   "cell_type": "markdown",
   "id": "5fbe930a-d9a4-4b28-bbff-da2f7fa17d12",
   "metadata": {},
   "source": [
    "ефыл 7"
   ]
  },
  {
   "cell_type": "code",
   "execution_count": 4,
   "id": "96b5cf18-2b6a-4407-bf04-e874e3a670f5",
   "metadata": {},
   "outputs": [
    {
     "name": "stdout",
     "output_type": "stream",
     "text": [
      "True\n",
      "False\n",
      "False\n"
     ]
    }
   ],
   "source": [
    "def has_33(nums):\n",
    "    check = False\n",
    "    if check: return check\n",
    "    \n",
    "    for i in range(len(nums)-1):\n",
    "        if nums[i] == 3 and nums[i+1] == 3:\n",
    "            check = True\n",
    "\n",
    "    return check\n",
    "\n",
    "print(has_33([1, 3, 3]))       \n",
    "print(has_33([1, 3, 1, 3]))      \n",
    "print(has_33([3, 1, 3]))        "
   ]
  },
  {
   "cell_type": "markdown",
   "id": "f1678fc6-5ccd-4eea-a3fa-0a06dbd19e0a",
   "metadata": {},
   "source": [
    "task 8"
   ]
  },
  {
   "cell_type": "code",
   "execution_count": 6,
   "id": "56cb7697-d8ad-41eb-baa1-09d5f5d82bb6",
   "metadata": {},
   "outputs": [
    {
     "name": "stdout",
     "output_type": "stream",
     "text": [
      "True\n",
      "False\n",
      "False\n"
     ]
    }
   ],
   "source": [
    "def has_33(nums):\n",
    "    check = False\n",
    "    if check: return check\n",
    "    \n",
    "    for i in range(len(nums)-1):\n",
    "        if nums[i] == 0 and nums[i+1] == 0 and nums[i+2]:\n",
    "            check = True\n",
    "\n",
    "    return check\n",
    "print(has_33([1,2,4,0,0,7,5]))\n",
    "print(has_33([1,0,2,4,0,5,7])) \n",
    "print(has_33([1,7,2,0,4,5,0])) "
   ]
  },
  {
   "cell_type": "markdown",
   "id": "ff7ad6b4-fdea-49fa-bad9-55e1af4a9245",
   "metadata": {},
   "source": [
    "task 9"
   ]
  },
  {
   "cell_type": "code",
   "execution_count": 7,
   "id": "36cd9716-f720-4d34-a26f-9706651712b7",
   "metadata": {},
   "outputs": [
    {
     "name": "stdout",
     "output_type": "stream",
     "text": [
      "113.03999999999999\n"
     ]
    }
   ],
   "source": [
    "def get_volume(radius):\n",
    "    return 4/3 *  3.14 * radius**3\n",
    "\n",
    "print(get_volume(3)) "
   ]
  },
  {
   "cell_type": "markdown",
   "id": "9a8cd4ca-3681-4538-8849-6d53a691cb8d",
   "metadata": {},
   "source": [
    "task 10"
   ]
  },
  {
   "cell_type": "code",
   "execution_count": 8,
   "id": "8135f4ba-9d92-40d6-a69d-67c4719ef6ae",
   "metadata": {},
   "outputs": [
    {
     "name": "stdout",
     "output_type": "stream",
     "text": [
      "[1, 2, 3, 4, 5]\n"
     ]
    }
   ],
   "source": [
    "def unique(list):\n",
    "    new_list = []\n",
    "    for i in list:\n",
    "        if i not in new_list:\n",
    "            new_list.append(i)\n",
    "    return new_list\n",
    "\n",
    "print(unique([1, 1, 2, 2, 3, 3, 4, 4, 5, 5]))         "
   ]
  },
  {
   "cell_type": "markdown",
   "id": "cddb8413-841d-42df-a069-d74e7008cb37",
   "metadata": {},
   "source": [
    "task 11"
   ]
  },
  {
   "cell_type": "code",
   "execution_count": 9,
   "id": "55a5a133-fb1a-49e6-9b7e-1ce79da854fd",
   "metadata": {},
   "outputs": [
    {
     "name": "stdout",
     "output_type": "stream",
     "text": [
      "True\n",
      "False\n",
      "True\n"
     ]
    }
   ],
   "source": [
    "def is_polindrome(s):\n",
    "    return s == s[::-1]\n",
    "\n",
    "print(is_polindrome(\"madam\"))                \n",
    "print(is_polindrome(\"hello\"))                \n",
    "print(is_polindrome(\"hello olleh\"))"
   ]
  },
  {
   "cell_type": "markdown",
   "id": "0d390015-2559-4f55-83d9-ea86942bddd1",
   "metadata": {},
   "source": [
    "ефыл 12"
   ]
  },
  {
   "cell_type": "code",
   "execution_count": 22,
   "id": "70cccd6d-88ee-44a7-b6b6-921bf3ea4cae",
   "metadata": {},
   "outputs": [
    {
     "name": "stdout",
     "output_type": "stream",
     "text": [
      "**\n",
      "***\n",
      "**\n"
     ]
    }
   ],
   "source": [
    "def histogram(list):\n",
    "   for i in list:\n",
    "       for j in range(i):\n",
    "           print(\"*\",end=\"\")\n",
    "       print()\n",
    "histogram([2,3,2])"
   ]
  },
  {
   "cell_type": "markdown",
   "id": "2a5d59d1-c703-4717-9287-90097a3a3e5d",
   "metadata": {},
   "source": [
    "task 13"
   ]
  },
  {
   "cell_type": "code",
   "execution_count": 28,
   "id": "4bacd524-3905-4617-b6cb-e21754771552",
   "metadata": {},
   "outputs": [
    {
     "name": "stdin",
     "output_type": "stream",
     "text": [
      "Hello! What is your name?  ali\n"
     ]
    },
    {
     "name": "stdout",
     "output_type": "stream",
     "text": [
      "Well, ali, I am thinking of a number between 1 and 20.\n"
     ]
    },
    {
     "name": "stdin",
     "output_type": "stream",
     "text": [
      "Take a guess.  12\n"
     ]
    },
    {
     "name": "stdout",
     "output_type": "stream",
     "text": [
      "Your guess is too low.\n"
     ]
    },
    {
     "name": "stdin",
     "output_type": "stream",
     "text": [
      "Take a guess.  15\n"
     ]
    },
    {
     "name": "stdout",
     "output_type": "stream",
     "text": [
      "Your guess is too high.\n"
     ]
    },
    {
     "name": "stdin",
     "output_type": "stream",
     "text": [
      "Take a guess.  14\n"
     ]
    },
    {
     "name": "stdout",
     "output_type": "stream",
     "text": [
      "Your guess is too high.\n"
     ]
    },
    {
     "name": "stdin",
     "output_type": "stream",
     "text": [
      "Take a guess.  13\n"
     ]
    },
    {
     "name": "stdout",
     "output_type": "stream",
     "text": [
      "Your guess is too high.\n",
      "Good job, KBTU! You guessed my number in 4 guesses!\n"
     ]
    }
   ],
   "source": [
    "import random\n",
    "\n",
    "def random_number(name):\n",
    " \n",
    "    print (f\"Well, {name}, I am thinking of a number between 1 and 20.\")\n",
    "    rnum = random.randint(1, 20)\n",
    "    guess = 0\n",
    "    count = 0\n",
    "\n",
    "    while guess != rnum:\n",
    "        count += 1\n",
    "        guess = int(input(\"Take a guess. \"))\n",
    "\n",
    "        if guess < rnum:\n",
    "            print (\"Your guess is too low.\") \n",
    "\n",
    "        else:\n",
    "            print(\"Your guess is too high.\")\n",
    "    else:\n",
    "        print(f\"Good job, KBTU! You guessed my number in {count} guesses!\")\n",
    "\n",
    "random_number(str(input(\"Hello! What is your name? \")))"
   ]
  },
  {
   "cell_type": "markdown",
   "id": "8b0ae8fc-1967-4b70-bd1b-d75962db749c",
   "metadata": {},
   "source": [
    "task final"
   ]
  },
  {
   "cell_type": "code",
   "execution_count": null,
   "id": "4bbc1eb1-8e12-4b44-b2ca-7e49d2837a96",
   "metadata": {},
   "outputs": [
    {
     "name": "stdout",
     "output_type": "stream",
     "text": [
      "{'name': 'Usual Suspects', 'imdb': 7.0, 'category': 'Thriller'}\n"
     ]
    }
   ],
   "source": [
    "movies = [\n",
    "{\n",
    "\"name\": \"Usual Suspects\", \n",
    "\"imdb\": 7.0,\n",
    "\"category\": \"Thriller\"\n",
    "},\n",
    "{\n",
    "\"name\": \"Hitman\",\n",
    "\"imdb\": 6.3,\n",
    "\"category\": \"Action\"\n",
    "},\n",
    "{\n",
    "\"name\": \"Dark Knight\",\n",
    "\"imdb\": 9.0,\n",
    "\"category\": \"Adventure\"\n",
    "},\n",
    "{\n",
    "\"name\": \"The Help\",\n",
    "\"imdb\": 8.0,\n",
    "\"category\": \"Drama\"\n",
    "},\n",
    "{\n",
    "\"name\": \"The Choice\",\n",
    "\"imdb\": 6.2,\n",
    "\"category\": \"Romance\"\n",
    "},\n",
    "{\n",
    "\"name\": \"Colonia\",\n",
    "\"imdb\": 7.4,\n",
    "\"category\": \"Romance\"\n",
    "},\n",
    "{\n",
    "\"name\": \"Love\",\n",
    "\"imdb\": 6.0,\n",
    "\"category\": \"Romance\"\n",
    "},\n",
    "{\n",
    "\"name\": \"Bride Wars\",\n",
    "\"imdb\": 5.4,\n",
    "\"category\": \"Romance\"\n",
    "},\n",
    "{\n",
    "\"name\": \"AlphaJet\",\n",
    "\"imdb\": 3.2,\n",
    "\"category\": \"War\"\n",
    "},\n",
    "{\n",
    "\"name\": \"Ringing Crime\",\n",
    "\"imdb\": 4.0,\n",
    "\"category\": \"Crime\"\n",
    "},\n",
    "{\n",
    "\"name\": \"Joking muck\",\n",
    "\"imdb\": 7.2,\n",
    "\"category\": \"Comedy\"\n",
    "},\n",
    "{\n",
    "\"name\": \"What is the name\",\n",
    "\"imdb\": 9.2,\n",
    "\"category\": \"Suspense\"\n",
    "},\n",
    "{\n",
    "\"name\": \"Detective\",\n",
    "\"imdb\": 7.0,\n",
    "\"category\": \"Suspense\"\n",
    "},\n",
    "{\n",
    "\"name\": \"Exam\",\n",
    "\"imdb\": 4.2,\n",
    "\"category\": \"Thriller\"\n",
    "},\n",
    "{\n",
    "\"name\": \"We Two\",\n",
    "\"imdb\": 7.2,\n",
    "\"category\": \"Romance\"\n",
    "}\n",
    "]\n",
    "def great(title):\n",
    "    for i in range(len(movies)):\n",
    "        if movies[i][name]==title and movies[i][\"imdb\"]>5.5:\n",
    "            return true\n",
    "print(movies[0])\n",
    "print(great(str(input(\"write the title:\"))))\n"
   ]
  },
  {
   "cell_type": "markdown",
   "id": "a7b200d4-e1d6-4c65-ad57-3f009387e91b",
   "metadata": {},
   "source": [
    "task final 2\n"
   ]
  },
  {
   "cell_type": "code",
   "execution_count": null,
   "id": "a8272d2e-760f-4fe2-b214-60d288a9d5c2",
   "metadata": {},
   "outputs": [],
   "source": [
    "# Dictionary of movies\n",
    "\n",
    "movies = [\n",
    "{\n",
    "\"name\": \"Usual Suspects\", \n",
    "\"imdb\": 7.0,\n",
    "\"category\": \"Thriller\"\n",
    "},\n",
    "{\n",
    "\"name\": \"Hitman\",\n",
    "\"imdb\": 6.3,\n",
    "\"category\": \"Action\"\n",
    "},\n",
    "{\n",
    "\"name\": \"Dark Knight\",\n",
    "\"imdb\": 9.0,\n",
    "\"category\": \"Adventure\"\n",
    "},\n",
    "{\n",
    "\"name\": \"The Help\",\n",
    "\"imdb\": 8.0,\n",
    "\"category\": \"Drama\"\n",
    "},\n",
    "{\n",
    "\"name\": \"The Choice\",\n",
    "\"imdb\": 6.2,\n",
    "\"category\": \"Romance\"\n",
    "},\n",
    "{\n",
    "\"name\": \"Colonia\",\n",
    "\"imdb\": 7.4,\n",
    "\"category\": \"Romance\"\n",
    "},\n",
    "{\n",
    "\"name\": \"Love\",\n",
    "\"imdb\": 6.0,\n",
    "\"category\": \"Romance\"\n",
    "},\n",
    "{\n",
    "\"name\": \"Bride Wars\",\n",
    "\"imdb\": 5.4,\n",
    "\"category\": \"Romance\"\n",
    "},\n",
    "{\n",
    "\"name\": \"AlphaJet\",\n",
    "\"imdb\": 3.2,\n",
    "\"category\": \"War\"\n",
    "},\n",
    "{\n",
    "\"name\": \"Ringing Crime\",\n",
    "\"imdb\": 4.0,\n",
    "\"category\": \"Crime\"\n",
    "},\n",
    "{\n",
    "\"name\": \"Joking muck\",\n",
    "\"imdb\": 7.2,\n",
    "\"category\": \"Comedy\"\n",
    "},\n",
    "{\n",
    "\"name\": \"What is the name\",\n",
    "\"imdb\": 9.2,\n",
    "\"category\": \"Suspense\"\n",
    "},\n",
    "{\n",
    "\"name\": \"Detective\",\n",
    "\"imdb\": 7.0,\n",
    "\"category\": \"Suspense\"\n",
    "},\n",
    "{\n",
    "\"name\": \"Exam\",\n",
    "\"imdb\": 4.2,\n",
    "\"category\": \"Thriller\"\n",
    "},\n",
    "{\n",
    "\"name\": \"We Two\",\n",
    "\"imdb\": 7.2,\n",
    "\"category\": \"Romance\"\n",
    "}\n",
    "]\n",
    "\n",
    "def great_movies(rate=5.5):\n",
    "    great_list = []\n",
    "    for i in range(len(movies)):\n",
    "        if movies[i][\"imdb\"] > 5.5:\n",
    "            great_list.append(movies[i][\"name\"])\n",
    "    return great_list\n",
    "\n",
    "print(great_movies())"
   ]
  },
  {
   "cell_type": "markdown",
   "id": "bf2e83ef-b16f-4cf6-835e-a07e23099360",
   "metadata": {},
   "source": [
    "final task 3"
   ]
  },
  {
   "cell_type": "code",
   "execution_count": null,
   "id": "30e8fd0b-7197-4ef0-9102-fca6e271687d",
   "metadata": {},
   "outputs": [],
   "source": [
    "# Dictionary of movies\n",
    "\n",
    "movies = [\n",
    "{\n",
    "\"name\": \"Usual Suspects\", \n",
    "\"imdb\": 7.0,\n",
    "\"category\": \"Thriller\"\n",
    "},\n",
    "{\n",
    "\"name\": \"Hitman\",\n",
    "\"imdb\": 6.3,\n",
    "\"category\": \"Action\"\n",
    "},\n",
    "{\n",
    "\"name\": \"Dark Knight\",\n",
    "\"imdb\": 9.0,\n",
    "\"category\": \"Adventure\"\n",
    "},\n",
    "{\n",
    "\"name\": \"The Help\",\n",
    "\"imdb\": 8.0,\n",
    "\"category\": \"Drama\"\n",
    "},\n",
    "{\n",
    "\"name\": \"The Choice\",\n",
    "\"imdb\": 6.2,\n",
    "\"category\": \"Romance\"\n",
    "},\n",
    "{\n",
    "\"name\": \"Colonia\",\n",
    "\"imdb\": 7.4,\n",
    "\"category\": \"Romance\"\n",
    "},\n",
    "{\n",
    "\"name\": \"Love\",\n",
    "\"imdb\": 6.0,\n",
    "\"category\": \"Romance\"\n",
    "},\n",
    "{\n",
    "\"name\": \"Bride Wars\",\n",
    "\"imdb\": 5.4,\n",
    "\"category\": \"Romance\"\n",
    "},\n",
    "{\n",
    "\"name\": \"AlphaJet\",\n",
    "\"imdb\": 3.2,\n",
    "\"category\": \"War\"\n",
    "},\n",
    "{\n",
    "\"name\": \"Ringing Crime\",\n",
    "\"imdb\": 4.0,\n",
    "\"category\": \"Crime\"\n",
    "},\n",
    "{\n",
    "\"name\": \"Joking muck\",\n",
    "\"imdb\": 7.2,\n",
    "\"category\": \"Comedy\"\n",
    "},\n",
    "{\n",
    "\"name\": \"What is the name\",\n",
    "\"imdb\": 9.2,\n",
    "\"category\": \"Suspense\"\n",
    "},\n",
    "{\n",
    "\"name\": \"Detective\",\n",
    "\"imdb\": 7.0,\n",
    "\"category\": \"Suspense\"\n",
    "},\n",
    "{\n",
    "\"name\": \"Exam\",\n",
    "\"imdb\": 4.2,\n",
    "\"category\": \"Thriller\"\n",
    "},\n",
    "{\n",
    "\"name\": \"We Two\",\n",
    "\"imdb\": 7.2,\n",
    "\"category\": \"Romance\"\n",
    "}\n",
    "]\n",
    "def category (category):\n",
    "    sub_list = []\n",
    "    for i in range(len(movies)):\n",
    "        if movies[i][\"category\"] == category:\n",
    "            sub_list.append(movies[i][\"name\"])\n",
    "    return sub_list\n",
    "\n",
    "print(category(str(input(\"Choose category:  \"))))"
   ]
  },
  {
   "cell_type": "markdown",
   "id": "b84b7051-cd07-4561-a403-711e77e4200d",
   "metadata": {},
   "source": [
    "final task 4"
   ]
  },
  {
   "cell_type": "code",
   "execution_count": null,
   "id": "49b404cd-e330-467f-98d9-d4efce6f154b",
   "metadata": {},
   "outputs": [],
   "source": [
    "# Dictionary of movies\n",
    "\n",
    "movies = [\n",
    "{\n",
    "\"name\": \"Usual Suspects\", \n",
    "\"imdb\": 7.0,\n",
    "\"category\": \"Thriller\"\n",
    "},\n",
    "{\n",
    "\"name\": \"Hitman\",\n",
    "\"imdb\": 6.3,\n",
    "\"category\": \"Action\"\n",
    "},\n",
    "{\n",
    "\"name\": \"Dark Knight\",\n",
    "\"imdb\": 9.0,\n",
    "\"category\": \"Adventure\"\n",
    "},\n",
    "{\n",
    "\"name\": \"The Help\",\n",
    "\"imdb\": 8.0,\n",
    "\"category\": \"Drama\"\n",
    "},\n",
    "{\n",
    "\"name\": \"The Choice\",\n",
    "\"imdb\": 6.2,\n",
    "\"category\": \"Romance\"\n",
    "},\n",
    "{\n",
    "\"name\": \"Colonia\",\n",
    "\"imdb\": 7.4,\n",
    "\"category\": \"Romance\"\n",
    "},\n",
    "{\n",
    "\"name\": \"Love\",\n",
    "\"imdb\": 6.0,\n",
    "\"category\": \"Romance\"\n",
    "},\n",
    "{\n",
    "\"name\": \"Bride Wars\",\n",
    "\"imdb\": 5.4,\n",
    "\"category\": \"Romance\"\n",
    "},\n",
    "{\n",
    "\"name\": \"AlphaJet\",\n",
    "\"imdb\": 3.2,\n",
    "\"category\": \"War\"\n",
    "},\n",
    "{\n",
    "\"name\": \"Ringing Crime\",\n",
    "\"imdb\": 4.0,\n",
    "\"category\": \"Crime\"\n",
    "},\n",
    "{\n",
    "\"name\": \"Joking muck\",\n",
    "\"imdb\": 7.2,\n",
    "\"category\": \"Comedy\"\n",
    "},\n",
    "{\n",
    "\"name\": \"What is the name\",\n",
    "\"imdb\": 9.2,\n",
    "\"category\": \"Suspense\"\n",
    "},\n",
    "{\n",
    "\"name\": \"Detective\",\n",
    "\"imdb\": 7.0,\n",
    "\"category\": \"Suspense\"\n",
    "},\n",
    "{\n",
    "\"name\": \"Exam\",\n",
    "\"imdb\": 4.2,\n",
    "\"category\": \"Thriller\"\n",
    "},\n",
    "{\n",
    "\"name\": \"We Two\",\n",
    "\"imdb\": 7.2,\n",
    "\"category\": \"Romance\"\n",
    "}\n",
    "]\n",
    "def average_imdb ():\n",
    "    avrg = 0\n",
    "    count = 0\n",
    "    for i in range(len(movies)):\n",
    "       avrg += movies[i][\"imdb\"]\n",
    "       count += 1\n",
    "    return avrg/count\n",
    "\n",
    "print(average_imdb(str(input(\"Choose category:  \"))))"
   ]
  },
  {
   "cell_type": "markdown",
   "id": "5eda7945-d75b-4d22-80fc-249eb64bf7c7",
   "metadata": {},
   "source": [
    "final task 5"
   ]
  },
  {
   "cell_type": "code",
   "execution_count": null,
   "id": "00a3b085-c4c1-44b5-98a9-27b68da1a54f",
   "metadata": {},
   "outputs": [],
   "source": [
    "# Dictionary of movies\n",
    "\n",
    "movies = [\n",
    "{\n",
    "\"name\": \"Usual Suspects\", \n",
    "\"imdb\": 7.0,\n",
    "\"category\": \"Thriller\"\n",
    "},\n",
    "{\n",
    "\"name\": \"Hitman\",\n",
    "\"imdb\": 6.3,\n",
    "\"category\": \"Action\"\n",
    "},\n",
    "{\n",
    "\"name\": \"Dark Knight\",\n",
    "\"imdb\": 9.0,\n",
    "\"category\": \"Adventure\"\n",
    "},\n",
    "{\n",
    "\"name\": \"The Help\",\n",
    "\"imdb\": 8.0,\n",
    "\"category\": \"Drama\"\n",
    "},\n",
    "{\n",
    "\"name\": \"The Choice\",\n",
    "\"imdb\": 6.2,\n",
    "\"category\": \"Romance\"\n",
    "},\n",
    "{\n",
    "\"name\": \"Colonia\",\n",
    "\"imdb\": 7.4,\n",
    "\"category\": \"Romance\"\n",
    "},\n",
    "{\n",
    "\"name\": \"Love\",\n",
    "\"imdb\": 6.0,\n",
    "\"category\": \"Romance\"\n",
    "},\n",
    "{\n",
    "\"name\": \"Bride Wars\",\n",
    "\"imdb\": 5.4,\n",
    "\"category\": \"Romance\"\n",
    "},\n",
    "{\n",
    "\"name\": \"AlphaJet\",\n",
    "\"imdb\": 3.2,\n",
    "\"category\": \"War\"\n",
    "},\n",
    "{\n",
    "\"name\": \"Ringing Crime\",\n",
    "\"imdb\": 4.0,\n",
    "\"category\": \"Crime\"\n",
    "},\n",
    "{\n",
    "\"name\": \"Joking muck\",\n",
    "\"imdb\": 7.2,\n",
    "\"category\": \"Comedy\"\n",
    "},\n",
    "{\n",
    "\"name\": \"What is the name\",\n",
    "\"imdb\": 9.2,\n",
    "\"category\": \"Suspense\"\n",
    "},\n",
    "{\n",
    "\"name\": \"Detective\",\n",
    "\"imdb\": 7.0,\n",
    "\"category\": \"Suspense\"\n",
    "},\n",
    "{\n",
    "\"name\": \"Exam\",\n",
    "\"imdb\": 4.2,\n",
    "\"category\": \"Thriller\"\n",
    "},\n",
    "{\n",
    "\"name\": \"We Two\",\n",
    "\"imdb\": 7.2,\n",
    "\"category\": \"Romance\"\n",
    "}\n",
    "]\n",
    "def cat_average_imdb(category):\n",
    "    avrg = 0\n",
    "    count = 0\n",
    "    for i in range(len(movies)):\n",
    "        if movies[i][\"category\"] == category :   \n",
    "            avrg += movies[i][\"imdb\"]\n",
    "            count += 1\n",
    "    return avrg/count\n",
    "\n",
    "print(cat_average_imdb(str(input(\"Choose category:  \"))))"
   ]
  },
  {
   "cell_type": "code",
   "execution_count": null,
   "id": "a7e31193-293b-436d-b4d5-331200d59a88",
   "metadata": {},
   "outputs": [],
   "source": []
  }
 ],
 "metadata": {
  "kernelspec": {
   "display_name": "Python 3 (ipykernel)",
   "language": "python",
   "name": "python3"
  },
  "language_info": {
   "codemirror_mode": {
    "name": "ipython",
    "version": 3
   },
   "file_extension": ".py",
   "mimetype": "text/x-python",
   "name": "python",
   "nbconvert_exporter": "python",
   "pygments_lexer": "ipython3",
   "version": "3.12.7"
  }
 },
 "nbformat": 4,
 "nbformat_minor": 5
}
