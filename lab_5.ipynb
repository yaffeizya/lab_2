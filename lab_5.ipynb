{
 "cells": [
  {
   "cell_type": "markdown",
   "id": "5e54408f-dc3f-4b26-b848-f239dc056a36",
   "metadata": {},
   "source": [
    "task 1\n"
   ]
  },
  {
   "cell_type": "code",
   "execution_count": 10,
   "id": "1b724bcd-43c1-46ef-bf28-531635f7126d",
   "metadata": {},
   "outputs": [
    {
     "name": "stdin",
     "output_type": "stream",
     "text": [
      "your txt.. hellab a0\n"
     ]
    },
    {
     "name": "stdout",
     "output_type": "stream",
     "text": [
      "a\n",
      "b\n",
      "a\n"
     ]
    }
   ],
   "source": [
    "import re\n",
    "txt=str(input(\"your txt..\"))\n",
    "x=re.findall(\"[ab*]\",txt )\n",
    "print(x)\n"
   ]
  },
  {
   "cell_type": "markdown",
   "id": "f0d61e63-93e1-4e85-9244-ca9626d1e6c5",
   "metadata": {},
   "source": [
    "task 2"
   ]
  },
  {
   "cell_type": "code",
   "execution_count": 14,
   "id": "7e5df007-ce83-4ea2-be40-34900b6de7e7",
   "metadata": {},
   "outputs": [
    {
     "name": "stdin",
     "output_type": "stream",
     "text": [
      "your txt  hello abb abbb\n"
     ]
    },
    {
     "name": "stdout",
     "output_type": "stream",
     "text": [
      "['abb', 'abbb']\n"
     ]
    }
   ],
   "source": [
    "import re\n",
    "text=str(input('your txt '))\n",
    "x = re.findall('ab{2,3}', text)\n",
    "\n",
    "print(x)"
   ]
  },
  {
   "cell_type": "markdown",
   "id": "ccea3118-52a4-4515-b69e-4c37dedbb3dd",
   "metadata": {},
   "source": [
    "task 3\n"
   ]
  },
  {
   "cell_type": "code",
   "execution_count": 16,
   "id": "9186e2d1-2ed9-4edd-a00b-ce2b6d6d5bdf",
   "metadata": {},
   "outputs": [
    {
     "name": "stdin",
     "output_type": "stream",
     "text": [
      "your txt  hello_mmm, what is your name\n"
     ]
    },
    {
     "name": "stdout",
     "output_type": "stream",
     "text": [
      "['o_m']\n"
     ]
    }
   ],
   "source": [
    "import re\n",
    "txt=str(input('your txt '))\n",
    "x=re.findall('[a-z]_[a-z]', txt)\n",
    "print (x)"
   ]
  },
  {
   "cell_type": "markdown",
   "id": "b962d2b6-6a42-4322-96a3-ce443efa0375",
   "metadata": {},
   "source": [
    "task 4\n"
   ]
  },
  {
   "cell_type": "code",
   "execution_count": 3,
   "id": "ef368216-aaf8-4a8f-a009-709166e9bc41",
   "metadata": {},
   "outputs": [
    {
     "name": "stdin",
     "output_type": "stream",
     "text": [
      "your txt  Hello My frieNd\n"
     ]
    },
    {
     "name": "stdout",
     "output_type": "stream",
     "text": [
      "['He', 'My', 'Nd']\n"
     ]
    }
   ],
   "source": [
    "import re\n",
    "txt=str(input('your txt '))\n",
    "x=re.findall('[A-Z]+[a-z]', txt)\n",
    "print (x)"
   ]
  },
  {
   "cell_type": "markdown",
   "id": "a4b02d87-ead4-477c-8234-51a437be2c56",
   "metadata": {},
   "source": [
    "task 5"
   ]
  },
  {
   "cell_type": "code",
   "execution_count": 5,
   "id": "342bfa4a-982e-4791-a2ca-cc01bad98cb7",
   "metadata": {},
   "outputs": [
    {
     "name": "stdin",
     "output_type": "stream",
     "text": [
      "your txt  a privetb\n"
     ]
    },
    {
     "name": "stdout",
     "output_type": "stream",
     "text": [
      "['a privetb']\n"
     ]
    }
   ],
   "source": [
    "import re\n",
    "txt=str(input('your txt '))\n",
    "x=re.findall(\"^a.*b$\", txt)\n",
    "print(x)"
   ]
  },
  {
   "cell_type": "markdown",
   "id": "d9fc82f9-1b7e-447f-8885-609a5cdbeec6",
   "metadata": {},
   "source": [
    "task 6"
   ]
  },
  {
   "cell_type": "code",
   "execution_count": 3,
   "id": "41d60292-32f9-424f-a6d0-c3115a3db622",
   "metadata": {},
   "outputs": [
    {
     "name": "stderr",
     "output_type": "stream",
     "text": [
      "<>:3: SyntaxWarning: invalid escape sequence '\\s'\n",
      "<>:3: SyntaxWarning: invalid escape sequence '\\s'\n",
      "/var/folders/p1/wbk3qp_d0r11rcg_16ylzn480000gn/T/ipykernel_89066/708845899.py:3: SyntaxWarning: invalid escape sequence '\\s'\n",
      "  x=re.sub(\"\\s\", \":\" , txt)\n"
     ]
    },
    {
     "name": "stdin",
     "output_type": "stream",
     "text": [
      "your txt  berry strowberry,blueberry\n"
     ]
    },
    {
     "name": "stdout",
     "output_type": "stream",
     "text": [
      "berry:strowberry,blueberry\n"
     ]
    }
   ],
   "source": [
    "import re\n",
    "txt=str(input('your txt '))\n",
    "x=re.sub(\"\\s\", \":\" , txt)\n",
    "print (x)"
   ]
  },
  {
   "cell_type": "markdown",
   "id": "7528f04e-c336-4ed3-8902-fbed283e914b",
   "metadata": {},
   "source": [
    "task 7"
   ]
  },
  {
   "cell_type": "code",
   "execution_count": 4,
   "id": "ade0ec46-7b90-48eb-9c47-aa8c7c4f2f03",
   "metadata": {},
   "outputs": [
    {
     "name": "stdin",
     "output_type": "stream",
     "text": [
      "your txt  hello_my_name_is\n"
     ]
    },
    {
     "name": "stdout",
     "output_type": "stream",
     "text": [
      "HelloMyNameIs"
     ]
    }
   ],
   "source": [
    "import re\n",
    "text=str(input('your txt '))\n",
    "st2list = re.split('_', text)\n",
    "cap_list = []\n",
    "for i in st2list:\n",
    "    i = i.capitalize()\n",
    "    cap_list.append(i)\n",
    "\n",
    "for i in cap_list:\n",
    "    print(i, end='')"
   ]
  },
  {
   "cell_type": "markdown",
   "id": "7ef84111-343c-4937-9793-a6d5d47a242f",
   "metadata": {},
   "source": [
    "task 8"
   ]
  },
  {
   "cell_type": "code",
   "execution_count": 5,
   "id": "9eb1b73a-99d3-4e33-bce2-409a95eed543",
   "metadata": {},
   "outputs": [
    {
     "name": "stdin",
     "output_type": "stream",
     "text": [
      "your txt  HelloEveryBoddy\n"
     ]
    },
    {
     "name": "stdout",
     "output_type": "stream",
     "text": [
      "['Hello', 'Every', 'Boddy']\n"
     ]
    }
   ],
   "source": [
    "import re\n",
    "text=str(input('your txt '))\n",
    "result = re.findall('[A-Z][^A-Z]*', text)\n",
    "print(result)"
   ]
  },
  {
   "cell_type": "markdown",
   "id": "866f6bc2-7a37-4792-89fc-0fa4d54d36a0",
   "metadata": {},
   "source": [
    "task 9\n"
   ]
  },
  {
   "cell_type": "code",
   "execution_count": 6,
   "id": "35016770-0706-460e-a7e1-b08a67f11214",
   "metadata": {},
   "outputs": [
    {
     "name": "stdin",
     "output_type": "stream",
     "text": [
      "your txt  HelloPP\n"
     ]
    },
    {
     "name": "stdout",
     "output_type": "stream",
     "text": [
      "Hello P P "
     ]
    }
   ],
   "source": [
    "import re\n",
    "text=str(input('your txt '))\n",
    "result=re.findall('[A-Z][^A-Z]*', text)\n",
    "for i in result:\n",
    "    print(i, end=\" \")"
   ]
  },
  {
   "cell_type": "markdown",
   "id": "9087fc1f-f266-4413-ad98-098cbb6ac4ee",
   "metadata": {},
   "source": [
    "task 10"
   ]
  },
  {
   "cell_type": "code",
   "execution_count": 7,
   "id": "2931e424-d46c-4399-be7d-38944b1a6611",
   "metadata": {},
   "outputs": [
    {
     "name": "stdin",
     "output_type": "stream",
     "text": [
      "your txt  HkjghHHJKkjnjkJ\n"
     ]
    },
    {
     "name": "stdout",
     "output_type": "stream",
     "text": [
      "hkjgh_h_h_j_kkjnjk_j_"
     ]
    }
   ],
   "source": [
    "import re\n",
    "text=str(input('your txt '))\n",
    "st2list = re.findall('[A-Z][^A-Z]*', text)\n",
    "\n",
    "low_list = []\n",
    "\n",
    "for i in st2list:\n",
    "    i = i.casefold()\n",
    "    low_list.append(i)\n",
    "\n",
    "for i in low_list:\n",
    "    print(i, end='_')"
   ]
  },
  {
   "cell_type": "code",
   "execution_count": null,
   "id": "dc597347-d115-4ddc-9a30-9650c043d78b",
   "metadata": {},
   "outputs": [],
   "source": []
  }
 ],
 "metadata": {
  "kernelspec": {
   "display_name": "Python 3 (ipykernel)",
   "language": "python",
   "name": "python3"
  },
  "language_info": {
   "codemirror_mode": {
    "name": "ipython",
    "version": 3
   },
   "file_extension": ".py",
   "mimetype": "text/x-python",
   "name": "python",
   "nbconvert_exporter": "python",
   "pygments_lexer": "ipython3",
   "version": "3.12.7"
  }
 },
 "nbformat": 4,
 "nbformat_minor": 5
}
