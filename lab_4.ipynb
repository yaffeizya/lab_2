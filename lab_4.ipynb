{
 "cells": [
  {
   "cell_type": "markdown",
   "id": "d3b8b9a6-a3f0-4298-8b48-c1c7d3067684",
   "metadata": {},
   "source": [
    "DATE\n",
    "\n",
    "task 1\n",
    "\n"
   ]
  },
  {
   "cell_type": "code",
   "execution_count": 6,
   "id": "abe3fd42-73e1-4fb4-9ea2-eacbd41d60ed",
   "metadata": {},
   "outputs": [
    {
     "name": "stdout",
     "output_type": "stream",
     "text": [
      "10\n"
     ]
    }
   ],
   "source": [
    "import datetime\n",
    "x=datetime.datetime.now()\n",
    "print((x.day-5)%31)"
   ]
  },
  {
   "cell_type": "markdown",
   "id": "07852af5-d464-4a29-b9a9-d766c1d29c84",
   "metadata": {},
   "source": [
    "task 2"
   ]
  },
  {
   "cell_type": "code",
   "execution_count": 7,
   "id": "26abfd91-4745-412d-8d61-5928a9deeb32",
   "metadata": {},
   "outputs": [
    {
     "name": "stdout",
     "output_type": "stream",
     "text": [
      "14\n",
      "15\n",
      "16\n"
     ]
    }
   ],
   "source": [
    "import datetime\n",
    "x=datetime.datetime.now()\n",
    "print(x.day-1)\n",
    "print(x.day)\n",
    "print(x.day+1)"
   ]
  },
  {
   "cell_type": "markdown",
   "id": "893d555d-3347-439c-9ff9-5897d601ea9c",
   "metadata": {},
   "source": [
    "task 3"
   ]
  },
  {
   "cell_type": "code",
   "execution_count": 9,
   "id": "ad8e1b2a-2666-469f-9c49-2717924d8ac2",
   "metadata": {},
   "outputs": [
    {
     "name": "stdout",
     "output_type": "stream",
     "text": [
      "963710\n"
     ]
    }
   ],
   "source": [
    "import datetime\n",
    "x=datetime.datetime.now()\n",
    "print(x.strftime(\"%f\"))"
   ]
  },
  {
   "cell_type": "markdown",
   "id": "06d69338-4bc3-45a5-9122-231eb3419b04",
   "metadata": {},
   "source": [
    "task 4"
   ]
  },
  {
   "cell_type": "code",
   "execution_count": null,
   "id": "45a9feb6-8f65-4ddc-86cd-bbee3220eafb",
   "metadata": {},
   "outputs": [],
   "source": [
    "import datetime\n",
    "x=datetime.datetime.now()\n",
    "z=input(\"print your date \")\n",
    "y=datetime.datetime.strftime(z,\"%Y-%m-%d\")\n",
    "year_diff = x.year - y.year\n",
    "month_diff = x.month - y.month\n",
    "day_diff = x.day - y.day\n",
    "if month_diff <0:\n",
    "    year_diff-=1\n",
    "    month_diff+=12\n",
    "if day_diff <0:\n",
    "    month_diff-=1\n",
    "\n",
    "print (f\" the final result {year_diff} {month_diff} {day_diff}\" )"
   ]
  },
  {
   "cell_type": "markdown",
   "id": "40113b63-67cc-430a-87bc-313d27a35345",
   "metadata": {},
   "source": [
    "MATH\n",
    "\n",
    "task 1\n"
   ]
  },
  {
   "cell_type": "code",
   "execution_count": null,
   "id": "23f9355b-616b-463d-a647-5acedbb395ba",
   "metadata": {},
   "outputs": [],
   "source": [
    "import math\n",
    "z=float(input(\"Input degree: \"))\n",
    "x=math.pi\n",
    "y=x/180*z\n",
    "print(\"Output radian: \", y)\n"
   ]
  },
  {
   "cell_type": "markdown",
   "id": "e017b1b3-2d37-45ff-b77a-22d834f3dcaf",
   "metadata": {},
   "source": [
    "task 2"
   ]
  },
  {
   "cell_type": "code",
   "execution_count": 2,
   "id": "d5143026-2c1a-421c-99d5-db9996deef0b",
   "metadata": {},
   "outputs": [
    {
     "name": "stdin",
     "output_type": "stream",
     "text": [
      "Hieght:  3\n",
      "Base, first value:  5\n",
      "Base, second value:  6\n"
     ]
    },
    {
     "name": "stdout",
     "output_type": "stream",
     "text": [
      "area =  16.5\n"
     ]
    }
   ],
   "source": [
    "import math\n",
    "x=float(input(\"Hieght: \"))\n",
    "y=float(input(\"Base, first value: \"))\n",
    "z=float(input(\"Base, second value: \"))\n",
    "s=(y+z)/2*x\n",
    "print (\"area = \" , s)"
   ]
  },
  {
   "cell_type": "markdown",
   "id": "7fe8c139-ceaf-4c28-bc10-d3ed469169b6",
   "metadata": {},
   "source": [
    "\n",
    "task 3"
   ]
  },
  {
   "cell_type": "code",
   "execution_count": 1,
   "id": "b3e0d204-c204-4d04-a093-27b5e2bcd89c",
   "metadata": {},
   "outputs": [
    {
     "name": "stdin",
     "output_type": "stream",
     "text": [
      "Input number of sides:  5\n",
      "Input the length of a side:  17\n"
     ]
    },
    {
     "name": "stdout",
     "output_type": "stream",
     "text": [
      "The area of the polygon is:  497.2179687702114\n"
     ]
    }
   ],
   "source": [
    "import math\n",
    "n=float(input(\"Input number of sides: \"))\n",
    "s=float(input(\"Input the length of a side: \"))\n",
    "area = (n * s**2) / (4 * math.tan(math.pi / n))\n",
    "print(\"The area of the polygon is: \", area)"
   ]
  },
  {
   "cell_type": "markdown",
   "id": "3e0f1fe2-8f4e-46c6-9e91-9ebd7ea7c1a3",
   "metadata": {},
   "source": [
    "task 4"
   ]
  },
  {
   "cell_type": "code",
   "execution_count": 1,
   "id": "81175e68-2ec6-40d5-a0b8-5e4bda617fc3",
   "metadata": {},
   "outputs": [
    {
     "name": "stdin",
     "output_type": "stream",
     "text": [
      "Length of base:  5\n",
      "Height:  6\n"
     ]
    },
    {
     "name": "stdout",
     "output_type": "stream",
     "text": [
      "area=  30.0\n"
     ]
    }
   ],
   "source": [
    "import math\n",
    "x=float(input(\"Length of base: \"))\n",
    "y=float(input(\"Height: \"))\n",
    "s=float(x*y)\n",
    "print(\"area= \", s)"
   ]
  },
  {
   "cell_type": "markdown",
   "id": "ced9c8de-ac9a-4476-8071-f23c1070104e",
   "metadata": {},
   "source": [
    "Generators\n",
    "\n",
    "task 1"
   ]
  },
  {
   "cell_type": "code",
   "execution_count": 3,
   "id": "f2722576-7f55-4e12-895e-a274edb60444",
   "metadata": {},
   "outputs": [
    {
     "name": "stdin",
     "output_type": "stream",
     "text": [
      "print your number  30\n"
     ]
    },
    {
     "name": "stdout",
     "output_type": "stream",
     "text": [
      "0\n",
      "1\n",
      "4\n",
      "9\n",
      "16\n",
      "25\n",
      "36\n",
      "49\n",
      "64\n",
      "81\n",
      "100\n",
      "121\n",
      "144\n",
      "169\n",
      "196\n",
      "225\n",
      "256\n",
      "289\n",
      "324\n",
      "361\n",
      "400\n",
      "441\n",
      "484\n",
      "529\n",
      "576\n",
      "625\n",
      "676\n",
      "729\n",
      "784\n",
      "841\n",
      "900\n"
     ]
    }
   ],
   "source": [
    "N=int(input(\"print your number \"))\n",
    "i=0\n",
    "for i in range (i, N+1):\n",
    "    print (i**2)"
   ]
  },
  {
   "cell_type": "markdown",
   "id": "61a8f07c-bcba-4253-abd4-26d67e890dd1",
   "metadata": {},
   "source": [
    "task 2"
   ]
  },
  {
   "cell_type": "code",
   "execution_count": 6,
   "id": "a18c02e4-52b2-4108-ad36-b34a07905b48",
   "metadata": {},
   "outputs": [
    {
     "name": "stdin",
     "output_type": "stream",
     "text": [
      "print your number  30\n"
     ]
    },
    {
     "name": "stdout",
     "output_type": "stream",
     "text": [
      "0,2,4,6,8,10,12,14,16,18,20,22,24,26,28,30,"
     ]
    }
   ],
   "source": [
    "n=int(input(\"print your number \"))\n",
    "i=0\n",
    "for i in range (i,n+1):\n",
    "    if i%2==0:\n",
    "        print (i, end=(\",\"))\n",
    "\n",
    "    else:\n",
    "        pass\n",
    "    "
   ]
  },
  {
   "cell_type": "markdown",
   "id": "a4007ce0-f703-4225-92c0-947fc889aa22",
   "metadata": {},
   "source": [
    "task 3"
   ]
  },
  {
   "cell_type": "code",
   "execution_count": null,
   "id": "c48bf13a-1a4c-441a-aad3-2357e746031c",
   "metadata": {},
   "outputs": [],
   "source": [
    "n=int(input(\"print ypur number \"))\n",
    "i=0\n",
    "def myf(n):\n",
    "    for i in range (i, n+1):\n",
    "        if i%3==0 and i%4==0:\n",
    "            yield (i)\n",
    "        else :\n",
    "            pass\n",
    "myf(n)"
   ]
  },
  {
   "cell_type": "markdown",
   "id": "fbb10270-86d4-4e7d-acfc-0ca115ca71dd",
   "metadata": {},
   "source": [
    "task 4"
   ]
  },
  {
   "cell_type": "code",
   "execution_count": null,
   "id": "5a817584-fd0d-41ff-ad89-7239b05058db",
   "metadata": {},
   "outputs": [],
   "source": [
    "a=int(input(\"print a \"))\n",
    "b=int(input(\"print b \"))\n",
    "def squares(a,b):\n",
    "    for i in range(a,b+1):\n",
    "        yield i**2\n",
    "\n",
    "for i in squares(a,b):\n",
    "    print(i)\n",
    "    "
   ]
  },
  {
   "cell_type": "code",
   "execution_count": 1,
   "id": "ff2e072b-3746-4045-8a96-89310713b3a7",
   "metadata": {},
   "outputs": [
    {
     "name": "stdin",
     "output_type": "stream",
     "text": [
      "Input a:  10\n",
      "Input b:  12\n"
     ]
    },
    {
     "name": "stdout",
     "output_type": "stream",
     "text": [
      "100\n",
      "121\n",
      "144\n"
     ]
    }
   ],
   "source": [
    "a = int(input(\"Input a: \"))\n",
    "b = int(input(\"Input b: \"))\n",
    "\n",
    "def squares(a,b):\n",
    "    for i in range(a,b+1):\n",
    "        yield i**2\n",
    "\n",
    "for i in squares(a,b):\n",
    "    print(i)"
   ]
  },
  {
   "cell_type": "markdown",
   "id": "8c62ee8a-4108-4926-8846-a83aab5c1b2f",
   "metadata": {},
   "source": [
    "task 5"
   ]
  },
  {
   "cell_type": "code",
   "execution_count": 2,
   "id": "fbc5333c-d57a-466d-9e95-edbb707297c3",
   "metadata": {},
   "outputs": [
    {
     "name": "stdin",
     "output_type": "stream",
     "text": [
      "Input n:  20\n"
     ]
    },
    {
     "name": "stdout",
     "output_type": "stream",
     "text": [
      "20 19 18 17 16 15 14 13 12 11 10 9 8 7 6 5 4 3 2 1 0 "
     ]
    }
   ],
   "source": [
    "n = int(input(\"Input n: \"))\n",
    "\n",
    "def tozero(n):\n",
    "    for i in range(n,-1,-1):\n",
    "        yield i\n",
    "\n",
    "for i in tozero(n):\n",
    "    print(i, end=\" \")"
   ]
  },
  {
   "cell_type": "markdown",
   "id": "eef48b41-a996-45b1-a61b-cc382f819573",
   "metadata": {},
   "source": [
    "JSON стэтхэм"
   ]
  },
  {
   "cell_type": "code",
   "execution_count": 6,
   "id": "05498a8d-953f-4780-8805-38b3f40c5d31",
   "metadata": {},
   "outputs": [
    {
     "name": "stdout",
     "output_type": "stream",
     "text": [
      "Interface Status\n",
      "================================================================================\n",
      "DN                                                 Description           Speed    MTU  \n",
      "-------------------------------------------------- --------------------  ------  ------\n",
      "topology/pod-1/node-201/sys/phys-[eth1/33]                              inherit  9150  \n",
      "topology/pod-1/node-201/sys/phys-[eth1/34]                              inherit  9150  \n",
      "topology/pod-1/node-201/sys/phys-[eth1/35]                              inherit  9150  \n",
      "topology/pod-1/node-201/sys/phys-[eth1/36]                              inherit  9150  \n",
      "topology/pod-1/node-201/sys/phys-[eth1/1]                               inherit  9150  \n",
      "topology/pod-1/node-201/sys/phys-[eth1/2]                               inherit  9150  \n",
      "topology/pod-1/node-201/sys/phys-[eth1/3]                               inherit  9150  \n",
      "topology/pod-1/node-201/sys/phys-[eth1/4]                               inherit  9150  \n",
      "topology/pod-1/node-201/sys/phys-[eth1/5]                               inherit  9150  \n",
      "topology/pod-1/node-201/sys/phys-[eth1/6]                               inherit  9150  \n",
      "topology/pod-1/node-201/sys/phys-[eth1/7]                               inherit  9150  \n",
      "topology/pod-1/node-201/sys/phys-[eth1/8]                               inherit  9150  \n",
      "topology/pod-1/node-201/sys/phys-[eth1/9]                               inherit  9150  \n",
      "topology/pod-1/node-201/sys/phys-[eth1/10]                              inherit  9150  \n",
      "topology/pod-1/node-201/sys/phys-[eth1/11]                              inherit  9150  \n",
      "topology/pod-1/node-201/sys/phys-[eth1/12]                              inherit  9150  \n",
      "topology/pod-1/node-201/sys/phys-[eth1/13]                              inherit  9150  \n",
      "topology/pod-1/node-201/sys/phys-[eth1/14]                              inherit  9150  \n"
     ]
    }
   ],
   "source": [
    "\n",
    "\n",
    "import json\n",
    "\n",
    "\n",
    "\n",
    "json_file = 'sample-data.json'\n",
    "with open(json_file, 'r') as file:\n",
    "    data = json.load(file)\n",
    "\n",
    "\n",
    "\n",
    "print(\"Interface Status\")\n",
    "print(\"================================================================================\")\n",
    "print(\"DN                                                 Description           Speed    MTU  \")\n",
    "print(\"-------------------------------------------------- --------------------  ------  ------\")\n",
    "\n",
    "\n",
    "for item in data[\"imdata\"]:\n",
    "    attributes = item[\"l1PhysIf\"][\"attributes\"]\n",
    "    dn = attributes[\"dn\"]\n",
    "    descr = attributes[\"descr\"]\n",
    "    speed = attributes[\"speed\"]\n",
    "    mtu = attributes[\"mtu\"]\n",
    "    print(f\"{dn:<50} {descr:<20} {speed:<8} {mtu:<6}\")"
   ]
  },
  {
   "cell_type": "code",
   "execution_count": null,
   "id": "6d23268a-5b70-4594-83a4-fef7f2fe9551",
   "metadata": {},
   "outputs": [],
   "source": []
  }
 ],
 "metadata": {
  "kernelspec": {
   "display_name": "Python 3 (ipykernel)",
   "language": "python",
   "name": "python3"
  },
  "language_info": {
   "codemirror_mode": {
    "name": "ipython",
    "version": 3
   },
   "file_extension": ".py",
   "mimetype": "text/x-python",
   "name": "python",
   "nbconvert_exporter": "python",
   "pygments_lexer": "ipython3",
   "version": "3.12.7"
  }
 },
 "nbformat": 4,
 "nbformat_minor": 5
}
