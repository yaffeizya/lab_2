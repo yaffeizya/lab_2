{
 "cells": [
  {
   "cell_type": "markdown",
   "id": "bbc5917e-7cc8-4dbd-8065-6ebc6f9c2fb3",
   "metadata": {},
   "source": [
    "task 1"
   ]
  },
  {
   "cell_type": "code",
   "execution_count": 1,
   "id": "ee01ffa5-3c41-4ee4-a953-1bc8c6f38f77",
   "metadata": {},
   "outputs": [
    {
     "name": "stdout",
     "output_type": "stream",
     "text": [
      "True\n",
      "False\n",
      "False\n"
     ]
    }
   ],
   "source": [
    "print(10>9)\n",
    "print (10 == 9)\n",
    "print (10<9)"
   ]
  },
  {
   "cell_type": "markdown",
   "id": "047b0299-ef86-448a-b100-05eb1d124ed1",
   "metadata": {},
   "source": [
    "task 2"
   ]
  },
  {
   "cell_type": "code",
   "execution_count": 2,
   "id": "8e026dea-eeed-4f3d-a855-7f6eff79932f",
   "metadata": {},
   "outputs": [
    {
     "name": "stdout",
     "output_type": "stream",
     "text": [
      "a is greater then b\n"
     ]
    }
   ],
   "source": [
    "a=2\n",
    "b=1\n",
    "if b>a:\n",
    " print (\"b is greater then a\")\n",
    "else:\n",
    " print (\"a is greater then b\")"
   ]
  },
  {
   "cell_type": "markdown",
   "id": "f2e79ba5-ca9a-4236-beb9-39d0d7e1914f",
   "metadata": {},
   "source": [
    "task 3\n"
   ]
  },
  {
   "cell_type": "code",
   "execution_count": 3,
   "id": "20ae2685-5943-4d4e-8a56-e58160fd708a",
   "metadata": {},
   "outputs": [
    {
     "name": "stdout",
     "output_type": "stream",
     "text": [
      "True\n",
      "True\n"
     ]
    }
   ],
   "source": [
    "print(bool(\"Hello\"))\n",
    "print(bool(15))\n"
   ]
  },
  {
   "cell_type": "markdown",
   "id": "f2296194-8c22-41e5-a577-94979c85a525",
   "metadata": {},
   "source": [
    "task 4"
   ]
  },
  {
   "cell_type": "code",
   "execution_count": 4,
   "id": "b0a0e374-a8ae-4d26-83b3-7b5733faa10d",
   "metadata": {},
   "outputs": [
    {
     "name": "stdout",
     "output_type": "stream",
     "text": [
      "True\n",
      "True\n"
     ]
    }
   ],
   "source": [
    "x=\"Hello\"\n",
    "y=15\n",
    "print(bool(x))\n",
    "print(bool(y))"
   ]
  },
  {
   "cell_type": "markdown",
   "id": "f57a88f1-e557-4279-9c4f-7b2d64e1375b",
   "metadata": {},
   "source": [
    "task 5"
   ]
  },
  {
   "cell_type": "code",
   "execution_count": 5,
   "id": "e072a252-bafa-4942-b106-d4dd2c5a1a8e",
   "metadata": {},
   "outputs": [
    {
     "name": "stdout",
     "output_type": "stream",
     "text": [
      "True\n",
      "True\n",
      "True\n"
     ]
    }
   ],
   "source": [
    "print(bool(123))\n",
    "print (bool(\"Hell\"))\n",
    "print (bool([\"apple\", \"cherry\"]))"
   ]
  },
  {
   "cell_type": "markdown",
   "id": "439a36de-e2e9-4d41-a73b-2afb46bc55f6",
   "metadata": {},
   "source": [
    "task 6"
   ]
  },
  {
   "cell_type": "code",
   "execution_count": 6,
   "id": "005f3f10-4b97-4ba1-b6e6-d80bd0f5915b",
   "metadata": {},
   "outputs": [
    {
     "name": "stdout",
     "output_type": "stream",
     "text": [
      "False\n",
      "False\n",
      "False\n",
      "False\n",
      "False\n",
      "False\n"
     ]
    }
   ],
   "source": [
    "print(bool(0))\n",
    "print (bool(\"\"))\n",
    "print(bool(None))\n",
    "print(bool(()))\n",
    "print(bool([]))\n",
    "print(bool({}))\n"
   ]
  },
  {
   "cell_type": "markdown",
   "id": "3be24f27-52e5-4383-9260-695ca2c7e735",
   "metadata": {},
   "source": [
    "task 7\n"
   ]
  },
  {
   "cell_type": "code",
   "execution_count": 7,
   "id": "57d7ddfa-4f6b-4183-946f-11f41612b7c3",
   "metadata": {},
   "outputs": [
    {
     "name": "stdout",
     "output_type": "stream",
     "text": [
      "False\n"
     ]
    }
   ],
   "source": [
    "class myclass():\n",
    " def __len__(self):\n",
    "  return 0\n",
    "myobj = myclass()\n",
    "print(bool(myobj))\n"
   ]
  },
  {
   "cell_type": "markdown",
   "id": "36ad130d-032a-4b01-8d44-56948f09455b",
   "metadata": {},
   "source": [
    "task 8"
   ]
  },
  {
   "cell_type": "code",
   "execution_count": 8,
   "id": "a5fb6612-c6db-40e8-8e06-af245256c541",
   "metadata": {},
   "outputs": [
    {
     "name": "stdout",
     "output_type": "stream",
     "text": [
      "True\n"
     ]
    }
   ],
   "source": [
    "def myfunctin():\n",
    " return True\n",
    "print (myfunctin())"
   ]
  },
  {
   "cell_type": "markdown",
   "id": "30b6b066-849b-44bf-9181-31beb77f9428",
   "metadata": {},
   "source": [
    "task 9"
   ]
  },
  {
   "cell_type": "code",
   "execution_count": 9,
   "id": "d88f5b4d-0e3b-408e-8389-0162952e153e",
   "metadata": {},
   "outputs": [
    {
     "name": "stdout",
     "output_type": "stream",
     "text": [
      "YES\n"
     ]
    }
   ],
   "source": [
    "def muf():\n",
    " return True\n",
    "\n",
    "\n",
    "if muf():\n",
    " print (\"YES\")\n",
    "else :\n",
    " print (\"NO\")"
   ]
  },
  {
   "cell_type": "markdown",
   "id": "fda96e9e-b641-4a8d-b56a-8e86f8873200",
   "metadata": {},
   "source": [
    "task 10"
   ]
  },
  {
   "cell_type": "code",
   "execution_count": 10,
   "id": "f03f71fe-b24b-4687-b084-2a44253b301a",
   "metadata": {},
   "outputs": [
    {
     "name": "stdout",
     "output_type": "stream",
     "text": [
      "False\n"
     ]
    }
   ],
   "source": [
    "x=200.00\n",
    "print(isinstance(x, int))"
   ]
  },
  {
   "cell_type": "markdown",
   "id": "657aee02-fe99-4f85-9171-30299340eaad",
   "metadata": {},
   "source": [
    "task 11"
   ]
  },
  {
   "cell_type": "code",
   "execution_count": 11,
   "id": "546e20d2-ac64-4dd3-b9e8-557f4c0ad136",
   "metadata": {},
   "outputs": [
    {
     "name": "stdout",
     "output_type": "stream",
     "text": [
      "8\n"
     ]
    }
   ],
   "source": [
    "x = 5\n",
    "y = 3\n",
    "\n",
    "print(x + y)\n"
   ]
  },
  {
   "cell_type": "markdown",
   "id": "c956b9f8-d918-46c7-bb95-429f9c071cf9",
   "metadata": {},
   "source": [
    "task 12"
   ]
  },
  {
   "cell_type": "code",
   "execution_count": 12,
   "id": "0b8da0a5-7578-494f-85e4-b01648857a54",
   "metadata": {},
   "outputs": [
    {
     "name": "stdout",
     "output_type": "stream",
     "text": [
      "2\n"
     ]
    }
   ],
   "source": [
    "x = 5\n",
    "y = 3\n",
    "\n",
    "print(x - y)"
   ]
  },
  {
   "cell_type": "markdown",
   "id": "7539951a-f593-4d28-a977-6116d656a6eb",
   "metadata": {},
   "source": [
    "task 13"
   ]
  },
  {
   "cell_type": "code",
   "execution_count": 14,
   "id": "8634c44a-5f24-4889-8007-927d47d34b19",
   "metadata": {},
   "outputs": [
    {
     "name": "stdout",
     "output_type": "stream",
     "text": [
      "15\n"
     ]
    }
   ],
   "source": [
    "x = 5\n",
    "y = 3\n",
    "\n",
    "print(x * y)"
   ]
  },
  {
   "cell_type": "markdown",
   "id": "737f58ec-20b0-4f55-b0cd-a499c26e0f4a",
   "metadata": {},
   "source": [
    "task 14"
   ]
  },
  {
   "cell_type": "code",
   "execution_count": 15,
   "id": "12389555-4e8f-4275-ae49-f8e24b5b028b",
   "metadata": {},
   "outputs": [
    {
     "name": "stdout",
     "output_type": "stream",
     "text": [
      "4.333333333333333\n"
     ]
    }
   ],
   "source": [
    "x = 13\n",
    "y = 3\n",
    "\n",
    "print(x / y)\n"
   ]
  },
  {
   "cell_type": "markdown",
   "id": "7f5a3597-96e2-4853-bb87-7e4ea840b753",
   "metadata": {},
   "source": [
    "task 15"
   ]
  },
  {
   "cell_type": "code",
   "execution_count": 16,
   "id": "22b2ac87-5102-46cb-94af-ff238732609a",
   "metadata": {},
   "outputs": [
    {
     "name": "stdout",
     "output_type": "stream",
     "text": [
      "1\n"
     ]
    }
   ],
   "source": [
    "x = 5\n",
    "y = 2\n",
    "\n",
    "print(x % y)"
   ]
  },
  {
   "cell_type": "markdown",
   "id": "687782e3-129e-4289-9aec-fa1e63d2ef5a",
   "metadata": {},
   "source": [
    "task 16"
   ]
  },
  {
   "cell_type": "code",
   "execution_count": 17,
   "id": "a880b853-4149-45e9-a0c5-1e261c870688",
   "metadata": {},
   "outputs": [
    {
     "name": "stdout",
     "output_type": "stream",
     "text": [
      "32\n"
     ]
    }
   ],
   "source": [
    "x = 2\n",
    "y = 5\n",
    "\n",
    "print(x ** y)\n",
    "#like degree"
   ]
  },
  {
   "cell_type": "markdown",
   "id": "c3875454-a725-4719-bb35-3cbe7959ebda",
   "metadata": {},
   "source": [
    "task 17"
   ]
  },
  {
   "cell_type": "code",
   "execution_count": 18,
   "id": "54427b5d-f971-4545-a20c-8424ec91fac8",
   "metadata": {},
   "outputs": [
    {
     "name": "stdout",
     "output_type": "stream",
     "text": [
      "7\n"
     ]
    }
   ],
   "source": [
    "x = 15\n",
    "y = 2\n",
    "\n",
    "print(x // y)\n",
    "#round under"
   ]
  },
  {
   "cell_type": "markdown",
   "id": "1b39e9eb-5631-4b9e-8f7d-0c3fd7b8fbeb",
   "metadata": {},
   "source": [
    "task 18"
   ]
  },
  {
   "cell_type": "code",
   "execution_count": 19,
   "id": "f0ad78e9-b309-4fb5-bb31-6882d46ab935",
   "metadata": {},
   "outputs": [
    {
     "name": "stdout",
     "output_type": "stream",
     "text": [
      "1\n"
     ]
    }
   ],
   "source": [
    "x = 5\n",
    "\n",
    "x &= 3\n",
    "\n",
    "print(x)"
   ]
  },
  {
   "cell_type": "markdown",
   "id": "35365404-b2a4-4105-ba3f-5d2913fec0eb",
   "metadata": {},
   "source": [
    "task 19"
   ]
  },
  {
   "cell_type": "code",
   "execution_count": 20,
   "id": "978894c5-58b2-4b04-9513-c1889f40e3d2",
   "metadata": {},
   "outputs": [
    {
     "name": "stdout",
     "output_type": "stream",
     "text": [
      "7\n"
     ]
    }
   ],
   "source": [
    "x = 5\n",
    "\n",
    "x |= 3\n",
    "\n",
    "print(x)\n"
   ]
  },
  {
   "cell_type": "markdown",
   "id": "7ad78f83-73ac-47c4-9c8e-ffbd6d0b3523",
   "metadata": {},
   "source": [
    "task 20"
   ]
  },
  {
   "cell_type": "code",
   "execution_count": 21,
   "id": "e740068f-0f5b-40c0-b490-25820d86e023",
   "metadata": {},
   "outputs": [
    {
     "name": "stdout",
     "output_type": "stream",
     "text": [
      "6\n"
     ]
    }
   ],
   "source": [
    "x = 5\n",
    "\n",
    "x ^= 3\n",
    "\n",
    "print(x)"
   ]
  },
  {
   "cell_type": "markdown",
   "id": "5cb0180c-831c-4b74-8f45-876b34d7806d",
   "metadata": {},
   "source": [
    "task 21"
   ]
  },
  {
   "cell_type": "code",
   "execution_count": 22,
   "id": "3e0fc5b3-95d5-4526-8921-1f80ebcc3377",
   "metadata": {},
   "outputs": [
    {
     "name": "stdout",
     "output_type": "stream",
     "text": [
      "0\n"
     ]
    }
   ],
   "source": [
    "x = 5\n",
    "\n",
    "x >>= 3\n",
    "\n",
    "print(x)"
   ]
  },
  {
   "cell_type": "markdown",
   "id": "4a6c72f0-a056-4816-89a0-c761f0ebbb60",
   "metadata": {},
   "source": [
    "rask 22"
   ]
  },
  {
   "cell_type": "code",
   "execution_count": 23,
   "id": "c87d36ec-7e8c-4469-83ab-76f3ba74e009",
   "metadata": {},
   "outputs": [
    {
     "name": "stdout",
     "output_type": "stream",
     "text": [
      "40\n"
     ]
    }
   ],
   "source": [
    "x = 5\n",
    "\n",
    "x <<= 3\n",
    "\n",
    "print(x)"
   ]
  },
  {
   "cell_type": "markdown",
   "id": "e4e02317-a97d-4468-b628-19e32eced828",
   "metadata": {
    "scrolled": true
   },
   "source": [
    "task 23"
   ]
  },
  {
   "cell_type": "code",
   "execution_count": 29,
   "id": "79658113-43d8-4b91-a8f9-b2ee81288944",
   "metadata": {},
   "outputs": [
    {
     "name": "stdout",
     "output_type": "stream",
     "text": [
      "3\n"
     ]
    },
    {
     "data": {
      "text/plain": [
       "'\\nx=3\\nprint(x)\\n'"
      ]
     },
     "execution_count": 29,
     "metadata": {},
     "output_type": "execute_result"
    }
   ],
   "source": [
    "print(x := 3)\n",
    "\"\"\"\n",
    "x=3\n",
    "print(x)\n",
    "\"\"\""
   ]
  },
  {
   "cell_type": "markdown",
   "id": "769b3f53-a443-4a67-bd6e-87f95c0f6988",
   "metadata": {},
   "source": [
    "task 24"
   ]
  },
  {
   "cell_type": "code",
   "execution_count": 30,
   "id": "b2934597-9e18-4680-9376-8c0d740298a4",
   "metadata": {},
   "outputs": [
    {
     "name": "stdout",
     "output_type": "stream",
     "text": [
      "True\n"
     ]
    }
   ],
   "source": [
    "x = 5\n",
    "\n",
    "print(x > 3 and x < 10)\n"
   ]
  },
  {
   "cell_type": "markdown",
   "id": "83856864-9c90-46d1-bf60-276a73530a6c",
   "metadata": {},
   "source": [
    "task 25"
   ]
  },
  {
   "cell_type": "code",
   "execution_count": 31,
   "id": "76a3f426-7761-4e08-a42c-300e2953bc89",
   "metadata": {},
   "outputs": [
    {
     "name": "stdout",
     "output_type": "stream",
     "text": [
      "True\n"
     ]
    }
   ],
   "source": [
    "x = 5\n",
    "\n",
    "print(x > 3 or x < 4)"
   ]
  },
  {
   "cell_type": "code",
   "execution_count": 32,
   "id": "21782c10-0a7c-4958-993c-608f94c5815e",
   "metadata": {},
   "outputs": [
    {
     "name": "stdout",
     "output_type": "stream",
     "text": [
      "False\n"
     ]
    }
   ],
   "source": [
    "x = 5\n",
    "\n",
    "print(not(x > 3 and x < 10))\n",
    "#not can reverce the result"
   ]
  },
  {
   "cell_type": "markdown",
   "id": "2ced8e6a-0c65-4637-84b1-6bb34b2b971f",
   "metadata": {},
   "source": [
    "task 26"
   ]
  },
  {
   "cell_type": "code",
   "execution_count": 33,
   "id": "0c930e8b-deda-404f-997c-0100c667b4e5",
   "metadata": {},
   "outputs": [
    {
     "name": "stdout",
     "output_type": "stream",
     "text": [
      "True\n",
      "False\n",
      "True\n"
     ]
    }
   ],
   "source": [
    "x = [\"AAAA\", \"BBBB\"]\n",
    "y = [\"AAAA\", \"BBBB\"]\n",
    "z = x\n",
    "\n",
    "print(x is z)\n",
    "\n",
    "# returns True because z is the same object as x\n",
    "\n",
    "print(x is y)\n",
    "\n",
    "# returns False because x is not the same object as y, even if they have the same content\n",
    "\n",
    "print(x == y)\n",
    "\n",
    "# to demonstrate the difference betweeen \"is\" and \"==\": this comparison returns True because x is equal to y\n"
   ]
  },
  {
   "cell_type": "markdown",
   "id": "b81977d5-bcec-46c2-b4fe-a8a53666aff1",
   "metadata": {},
   "source": [
    "task 37"
   ]
  },
  {
   "cell_type": "code",
   "execution_count": 34,
   "id": "1ead71a6-7d02-46af-8ee6-db543b89990b",
   "metadata": {},
   "outputs": [
    {
     "name": "stdout",
     "output_type": "stream",
     "text": [
      "['apple', 'banana', 'cherry']\n"
     ]
    }
   ],
   "source": [
    "thislist = [\"apple\", \"banana\", \"cherry\"]\n",
    "print(thislist)"
   ]
  },
  {
   "cell_type": "markdown",
   "id": "30b351be-6279-4ee6-8ac3-7284fc71f021",
   "metadata": {},
   "source": [
    "task 28"
   ]
  },
  {
   "cell_type": "code",
   "execution_count": 35,
   "id": "420e892d-d893-45d2-91ca-ca962b099e2c",
   "metadata": {},
   "outputs": [
    {
     "name": "stdout",
     "output_type": "stream",
     "text": [
      "['apple', 'banana', 'cherry', 'apple', 'cherry']\n"
     ]
    }
   ],
   "source": [
    "thislist = [\"apple\", \"banana\", \"cherry\", \"apple\", \"cherry\"]\n",
    "print(thislist)"
   ]
  },
  {
   "cell_type": "markdown",
   "id": "0c1a7162-4b56-43af-a4b0-9e7f76cb5692",
   "metadata": {},
   "source": [
    "task 29"
   ]
  },
  {
   "cell_type": "code",
   "execution_count": 36,
   "id": "85674c83-740a-47d9-b3ea-81d5aaa4e628",
   "metadata": {},
   "outputs": [
    {
     "name": "stdout",
     "output_type": "stream",
     "text": [
      "3\n"
     ]
    }
   ],
   "source": [
    "thislist = [\"apple\", \"banana\", \"cherry\"]\n",
    "print(len(thislist))"
   ]
  },
  {
   "cell_type": "markdown",
   "id": "1af09cc6-b21f-4a55-b15a-3c3da39224b9",
   "metadata": {},
   "source": [
    "task 30"
   ]
  },
  {
   "cell_type": "code",
   "execution_count": 37,
   "id": "347da8ee-41e5-4bb5-90b2-2e24e49191cf",
   "metadata": {},
   "outputs": [
    {
     "name": "stdout",
     "output_type": "stream",
     "text": [
      "['apple', 'banana', 'cherry']\n",
      "[1, 5, 7, 9, 3]\n",
      "[True, False, False]\n"
     ]
    }
   ],
   "source": [
    "list1 = [\"apple\", \"banana\", \"cherry\"]\n",
    "list2 = [1, 5, 7, 9, 3]\n",
    "list3 = [True, False, False]\n",
    "\n",
    "print(list1)\n",
    "print(list2)\n",
    "print(list3)"
   ]
  },
  {
   "cell_type": "markdown",
   "id": "170f8f72-d2a0-4b20-a887-b10951d64a40",
   "metadata": {},
   "source": [
    "task 31"
   ]
  },
  {
   "cell_type": "code",
   "execution_count": 39,
   "id": "1b875498-39cd-427e-9245-c638372fbc24",
   "metadata": {},
   "outputs": [
    {
     "name": "stdout",
     "output_type": "stream",
     "text": [
      "['abc', 34, True, 40, 'male']\n"
     ]
    }
   ],
   "source": [
    "list1 = [\"abc\", 34, True, 40, \"male\"]\n",
    "\n",
    "print(list1)\n"
   ]
  },
  {
   "cell_type": "markdown",
   "id": "e8d978fb-76ef-4925-9245-472f85e0f6ae",
   "metadata": {},
   "source": [
    "task 32"
   ]
  },
  {
   "cell_type": "code",
   "execution_count": 40,
   "id": "902cd36f-f22e-4a7c-a47b-25a472095b12",
   "metadata": {},
   "outputs": [
    {
     "name": "stdout",
     "output_type": "stream",
     "text": [
      "<class 'list'>\n"
     ]
    }
   ],
   "source": [
    "mylist = [\"apple\", \"banana\", \"cherry\"]\n",
    "print(type(mylist))"
   ]
  },
  {
   "cell_type": "markdown",
   "id": "2c287cba-cbc3-44d0-ae75-94c51f93799a",
   "metadata": {},
   "source": [
    "task 33"
   ]
  },
  {
   "cell_type": "code",
   "execution_count": 42,
   "id": "dde38962-97b5-4946-8314-395c4e1f831b",
   "metadata": {},
   "outputs": [
    {
     "name": "stdout",
     "output_type": "stream",
     "text": [
      "['apple', 'banana', 'cherry']\n"
     ]
    }
   ],
   "source": [
    "thislist = list((\"apple\", \"banana\", \"cherry\"))\n",
    "print(thislist)\n",
    "#double (())"
   ]
  },
  {
   "cell_type": "markdown",
   "id": "55037e13-a79b-4f7b-af08-9437304b12fc",
   "metadata": {},
   "source": [
    "tsk 35"
   ]
  },
  {
   "cell_type": "code",
   "execution_count": 43,
   "id": "76796c0d-fc7e-4a72-ab97-d809def152f5",
   "metadata": {},
   "outputs": [
    {
     "name": "stdout",
     "output_type": "stream",
     "text": [
      "banana\n"
     ]
    }
   ],
   "source": [
    "thislist = [\"apple\", \"banana\", \"cherry\"]\n",
    "print(thislist[1])\n",
    "#index=0"
   ]
  },
  {
   "cell_type": "markdown",
   "id": "32376076-dc78-4be0-8ef1-14f86a0a7caa",
   "metadata": {},
   "source": [
    "task 36\n"
   ]
  },
  {
   "cell_type": "code",
   "execution_count": 44,
   "id": "250a6e9d-c7ec-4209-b9e4-5e78cb9e5edb",
   "metadata": {},
   "outputs": [
    {
     "name": "stdout",
     "output_type": "stream",
     "text": [
      "cherry\n"
     ]
    }
   ],
   "source": [
    "thislist = [\"apple\", \"banana\", \"cherry\"]\n",
    "print(thislist[-1])\n"
   ]
  },
  {
   "cell_type": "markdown",
   "id": "5b0e4c34-fb89-47a4-9f8a-5cf74d4d2d4c",
   "metadata": {},
   "source": [
    "task 37"
   ]
  },
  {
   "cell_type": "code",
   "execution_count": 46,
   "id": "924a0042-34f0-40fa-a481-5011869deabf",
   "metadata": {},
   "outputs": [
    {
     "name": "stdout",
     "output_type": "stream",
     "text": [
      "['cherry', 'orange', 'kiwi']\n"
     ]
    }
   ],
   "source": [
    "thislist = [\"apple\", \"banana\", \"cherry\", \"orange\", \"kiwi\", \"melon\", \"mango\"]\n",
    "print(thislist[2:5])"
   ]
  },
  {
   "cell_type": "markdown",
   "id": "d6615acf-6b19-4b78-b017-e0621e9169ae",
   "metadata": {},
   "source": [
    "task 38"
   ]
  },
  {
   "cell_type": "code",
   "execution_count": 47,
   "id": "7572c0c4-d0c7-4785-b759-76ef8e1cf7f7",
   "metadata": {},
   "outputs": [
    {
     "name": "stdout",
     "output_type": "stream",
     "text": [
      "['apple', 'banana', 'cherry', 'orange']\n"
     ]
    }
   ],
   "source": [
    "thislist = [\"apple\", \"banana\", \"cherry\", \"orange\", \"kiwi\", \"melon\", \"mango\"]\n",
    "print(thislist[:4])"
   ]
  },
  {
   "cell_type": "markdown",
   "id": "e4ca8255-6a0f-411e-8c10-36340a6d9e37",
   "metadata": {},
   "source": [
    "task 39"
   ]
  },
  {
   "cell_type": "code",
   "execution_count": 48,
   "id": "c0ab499e-2a13-4d4d-82f8-1751515f4362",
   "metadata": {},
   "outputs": [
    {
     "name": "stdout",
     "output_type": "stream",
     "text": [
      "['cherry', 'orange', 'kiwi', 'melon', 'mango']\n"
     ]
    }
   ],
   "source": [
    "thislist = [\"apple\", \"banana\", \"cherry\", \"orange\", \"kiwi\", \"melon\", \"mango\"]\n",
    "print(thislist[2:])"
   ]
  },
  {
   "cell_type": "markdown",
   "id": "e63e3027-3b79-469a-bae5-9c253c1a66b5",
   "metadata": {},
   "source": [
    "    TASK 40"
   ]
  },
  {
   "cell_type": "code",
   "execution_count": 58,
   "id": "aba74e3f-f48b-47e5-8b67-e1ea63d43cda",
   "metadata": {},
   "outputs": [
    {
     "name": "stdout",
     "output_type": "stream",
     "text": [
      "['cherry', 'orange', 'kiwi', 'melon']\n"
     ]
    }
   ],
   "source": [
    "thislist = [\"apple\", \"banana\", \"cherry\", \"orange\", \"kiwi\", \"melon\", \"mango\"]\n",
    "print(thislist[-5:-1])\n"
   ]
  },
  {
   "cell_type": "markdown",
   "id": "363516a3-7642-4b21-a1c4-4e73f62b9c90",
   "metadata": {},
   "source": [
    "tas k 41"
   ]
  },
  {
   "cell_type": "code",
   "execution_count": 59,
   "id": "e769aaeb-cd37-4c8e-8881-996817705baf",
   "metadata": {},
   "outputs": [
    {
     "name": "stdout",
     "output_type": "stream",
     "text": [
      "Yes, 'apple' is in the fruits list\n"
     ]
    }
   ],
   "source": [
    "thislist = [\"apple\", \"banana\", \"cherry\"]\n",
    "if \"apple\" in thislist:\n",
    "  print(\"Yes, 'apple' is in the fruits list\")"
   ]
  },
  {
   "cell_type": "markdown",
   "id": "2cfa784c-274f-4f16-a9c2-4ebd1a25054a",
   "metadata": {},
   "source": [
    "task 42"
   ]
  },
  {
   "cell_type": "code",
   "execution_count": 60,
   "id": "c7b6296a-cd5c-40b5-b208-0dc5ff979a87",
   "metadata": {},
   "outputs": [
    {
     "name": "stdout",
     "output_type": "stream",
     "text": [
      "['apple', 'blackcurrant', 'cherry']\n"
     ]
    }
   ],
   "source": [
    "thislist = [\"apple\", \"banana\", \"cherry\"]\n",
    "thislist[1] = \"blackcurrant\"\n",
    "print(thislist)"
   ]
  },
  {
   "cell_type": "markdown",
   "id": "d50ed3d2-760b-4c10-8f1a-dee2b24dee42",
   "metadata": {},
   "source": [
    "task 43"
   ]
  },
  {
   "cell_type": "code",
   "execution_count": 63,
   "id": "01fe6bb9-37ce-4784-9924-e110b97f26be",
   "metadata": {},
   "outputs": [
    {
     "name": "stdout",
     "output_type": "stream",
     "text": [
      "['apple', 'blackcurrant', 'watermelon', 'orange', 'kiwi', 'mango']\n"
     ]
    }
   ],
   "source": [
    "thislist = [\"apple\", \"banana\", \"cherry\", \"orange\", \"kiwi\", \"mango\"]\n",
    "thislist[1:3] = [\"blackcurrant\", \"watermelon\"]\n",
    "print(thislist)"
   ]
  },
  {
   "cell_type": "markdown",
   "id": "16761651-505c-48ac-8105-c6b30fee6521",
   "metadata": {},
   "source": [
    "task 44\n"
   ]
  },
  {
   "cell_type": "code",
   "execution_count": 64,
   "id": "1b115d1f-2037-486a-ae4c-ed4633d0d091",
   "metadata": {},
   "outputs": [
    {
     "name": "stdout",
     "output_type": "stream",
     "text": [
      "['apple', 'blackcurrant', 'watermelon', 'cherry']\n"
     ]
    }
   ],
   "source": [
    "thislist = [\"apple\", \"banana\", \"cherry\"]\n",
    "thislist[1:2] = [\"blackcurrant\", \"watermelon\"]\n",
    "print(thislist)"
   ]
  },
  {
   "cell_type": "markdown",
   "id": "ba520b34-a265-495f-9795-ef6471419fe4",
   "metadata": {},
   "source": [
    "task 45"
   ]
  },
  {
   "cell_type": "code",
   "execution_count": 65,
   "id": "9a9281f4-489c-4260-96cc-48e9bb96dbc0",
   "metadata": {},
   "outputs": [
    {
     "name": "stdout",
     "output_type": "stream",
     "text": [
      "['apple', 'watermelon']\n"
     ]
    }
   ],
   "source": [
    "thislist = [\"apple\", \"banana\", \"cherry\"]\n",
    "thislist[1:3] = [\"watermelon\"]\n",
    "print(thislist)"
   ]
  },
  {
   "cell_type": "markdown",
   "id": "c28bb180-821b-4970-b16a-9c5b33cec288",
   "metadata": {},
   "source": [
    "task 46"
   ]
  },
  {
   "cell_type": "code",
   "execution_count": 67,
   "id": "5b67c09f-8f3a-4c46-ac0c-e4ac3e014e14",
   "metadata": {},
   "outputs": [
    {
     "name": "stdout",
     "output_type": "stream",
     "text": [
      "['apple', 'banana', 'watermelon', 'cherry']\n"
     ]
    }
   ],
   "source": [
    "thislist = [\"apple\", \"banana\", \"cherry\"]\n",
    "thislist.insert(2, \"watermelon\")\n",
    "print(thislist)"
   ]
  },
  {
   "cell_type": "markdown",
   "id": "e0ebfa6e-286c-466a-8fb4-75b5a6ac4e32",
   "metadata": {},
   "source": [
    "task 47"
   ]
  },
  {
   "cell_type": "code",
   "execution_count": 68,
   "id": "dd2fb45e-dce4-46a1-adca-b1ce0f7dc1e8",
   "metadata": {},
   "outputs": [
    {
     "name": "stdout",
     "output_type": "stream",
     "text": [
      "['apple', 'banana', 'cherry', 'orange']\n"
     ]
    }
   ],
   "source": [
    "thislist = [\"apple\", \"banana\", \"cherry\"]\n",
    "thislist.append(\"orange\")\n",
    "print(thislist)"
   ]
  },
  {
   "cell_type": "markdown",
   "id": "7d693ebc-f934-4cd4-bcb4-c1cc3a27192a",
   "metadata": {},
   "source": [
    "tas k48"
   ]
  },
  {
   "cell_type": "code",
   "execution_count": 69,
   "id": "c0f0cb48-b77f-43c0-b2b0-21e72b353437",
   "metadata": {},
   "outputs": [
    {
     "name": "stdout",
     "output_type": "stream",
     "text": [
      "['apple', 'orange', 'banana', 'cherry']\n"
     ]
    }
   ],
   "source": [
    "thislist = [\"apple\", \"banana\", \"cherry\"]\n",
    "thislist.insert(1, \"orange\")\n",
    "print(thislist)"
   ]
  },
  {
   "cell_type": "markdown",
   "id": "b2c6c474-23e4-41f9-b8c5-8cf2e681f5cd",
   "metadata": {},
   "source": [
    "task 49"
   ]
  },
  {
   "cell_type": "code",
   "execution_count": 70,
   "id": "54099b88-6b93-4785-ae85-b8c0cfff2661",
   "metadata": {},
   "outputs": [
    {
     "name": "stdout",
     "output_type": "stream",
     "text": [
      "['apple', 'banana', 'cherry', 'mango', 'pineapple', 'papaya']\n"
     ]
    }
   ],
   "source": [
    "thislist = [\"apple\", \"banana\", \"cherry\"]\n",
    "tropical = [\"mango\", \"pineapple\", \"papaya\"]\n",
    "thislist.extend(tropical)\n",
    "print(thislist)"
   ]
  },
  {
   "cell_type": "markdown",
   "id": "7815e291-e135-4357-b6e3-6df16900ff17",
   "metadata": {},
   "source": [
    "task 50\n"
   ]
  },
  {
   "cell_type": "code",
   "execution_count": 71,
   "id": "0902146f-0471-40b0-9c79-73e8828e0113",
   "metadata": {},
   "outputs": [
    {
     "name": "stdout",
     "output_type": "stream",
     "text": [
      "['apple', 'cherry', 'banana', 'orangw']\n"
     ]
    }
   ],
   "source": [
    "list1= [\"apple\", \"cherry\"]\n",
    "list2= [\"banana\", \"orangw\"]\n",
    "list1.extend(list2)\n",
    "print (list1)"
   ]
  },
  {
   "cell_type": "markdown",
   "id": "4870dc19-c29b-4549-a94c-3b120a7861c5",
   "metadata": {},
   "source": [
    "task 51"
   ]
  },
  {
   "cell_type": "code",
   "execution_count": 72,
   "id": "b27ecd18-96cc-4d6a-b287-f866d18d6f32",
   "metadata": {},
   "outputs": [
    {
     "name": "stdout",
     "output_type": "stream",
     "text": [
      "['apple', 'cherry']\n"
     ]
    }
   ],
   "source": [
    "thislist = [\"apple\", \"banana\", \"cherry\"]\n",
    "thislist.remove(\"banana\")\n",
    "print(thislist)"
   ]
  },
  {
   "cell_type": "markdown",
   "id": "75d25063-4b06-460d-8ae0-e91e7ee2ccfc",
   "metadata": {},
   "source": [
    "task 52"
   ]
  },
  {
   "cell_type": "code",
   "execution_count": 75,
   "id": "9e2a74f2-6475-4c77-a67b-c8490a5664d0",
   "metadata": {},
   "outputs": [
    {
     "name": "stdout",
     "output_type": "stream",
     "text": [
      "['apple', 'cherry']\n"
     ]
    }
   ],
   "source": [
    "thislist = [\"apple\", \"banana\", \"cherry\"]\n",
    "thislist.pop(1)\n",
    "print(thislist)"
   ]
  },
  {
   "cell_type": "markdown",
   "id": "a0fdc389-230c-40ce-ab3e-24e1ded78550",
   "metadata": {},
   "source": [
    "task 53"
   ]
  },
  {
   "cell_type": "code",
   "execution_count": 77,
   "id": "b4ccf7e5-2c18-416a-8993-2ba0d5cdb6fb",
   "metadata": {},
   "outputs": [
    {
     "name": "stdout",
     "output_type": "stream",
     "text": [
      "['apple', 'banana']\n"
     ]
    }
   ],
   "source": [
    "thislist = [\"apple\", \"banana\", \"cherry\"]\n",
    "thislist.pop()\n",
    "print(thislist)\n",
    "#the last element"
   ]
  },
  {
   "cell_type": "markdown",
   "id": "d0728d50-4b68-4f7d-bc69-7b4a28fd83a8",
   "metadata": {},
   "source": [
    "task 54"
   ]
  },
  {
   "cell_type": "code",
   "execution_count": 78,
   "id": "83f29f48-9085-4591-bacb-0ab332b49eb4",
   "metadata": {},
   "outputs": [
    {
     "name": "stdout",
     "output_type": "stream",
     "text": [
      "['banana', 'cherry']\n"
     ]
    }
   ],
   "source": [
    "thislist = [\"apple\", \"banana\", \"cherry\"]\n",
    "del thislist[0]\n",
    "print(thislist)"
   ]
  },
  {
   "cell_type": "markdown",
   "id": "d573e233-3467-4e35-a048-91e830a1d72b",
   "metadata": {},
   "source": [
    "task 55"
   ]
  },
  {
   "cell_type": "code",
   "execution_count": 81,
   "id": "05c91e75-f8e2-4358-8a8e-63f4884b61e8",
   "metadata": {},
   "outputs": [
    {
     "name": "stdout",
     "output_type": "stream",
     "text": [
      "[]\n"
     ]
    }
   ],
   "source": [
    "thislist = [\"apple\", \"banana\", \"cherry\"]\n",
    "thislist.clear()\n",
    "print(thislist)"
   ]
  },
  {
   "cell_type": "markdown",
   "id": "4d2b8e1a-fab2-4be0-9bae-acc3129b1301",
   "metadata": {},
   "source": [
    "tassk 56"
   ]
  },
  {
   "cell_type": "code",
   "execution_count": 82,
   "id": "8f8baa87-b353-441d-9b8d-ec4a91dbf97f",
   "metadata": {},
   "outputs": [
    {
     "name": "stdout",
     "output_type": "stream",
     "text": [
      "apple\n",
      "banana\n"
     ]
    }
   ],
   "source": [
    "list1=[\"apple\", \"banana\"]\n",
    "for x in list1:\n",
    " print(x)"
   ]
  },
  {
   "cell_type": "markdown",
   "id": "493228c7-05ad-4090-9b32-d6a281eae4f5",
   "metadata": {},
   "source": [
    "task 57"
   ]
  },
  {
   "cell_type": "code",
   "execution_count": 83,
   "id": "a0659039-ce1e-4b59-8edf-fec648741089",
   "metadata": {},
   "outputs": [
    {
     "name": "stdout",
     "output_type": "stream",
     "text": [
      "apple\n",
      "banana\n",
      "cherry\n"
     ]
    }
   ],
   "source": [
    "thislist = [\"apple\", \"banana\", \"cherry\"]\n",
    "for i in range(len(thislist)):\n",
    "  print(thislist[i])"
   ]
  },
  {
   "cell_type": "markdown",
   "id": "f1163c2a-09da-43f6-a52b-657239d44d68",
   "metadata": {},
   "source": [
    "task 58"
   ]
  },
  {
   "cell_type": "code",
   "execution_count": 84,
   "id": "fadc41c8-440c-443a-afa6-104933821a53",
   "metadata": {},
   "outputs": [
    {
     "name": "stdout",
     "output_type": "stream",
     "text": [
      "banana\n",
      "apple\n",
      "cherry\n"
     ]
    }
   ],
   "source": [
    "list1=[\"banana\", \"apple\", \"cherry\"]\n",
    "i=0\n",
    "while i<len(list1) :\n",
    "    print (list1[i])\n",
    "    i=i+1"
   ]
  },
  {
   "cell_type": "markdown",
   "id": "c0fe5a1f-f514-4f90-bdc1-4677ebcec258",
   "metadata": {},
   "source": [
    "task 59"
   ]
  },
  {
   "cell_type": "code",
   "execution_count": 86,
   "id": "065b9d14-c7a8-467c-95cf-2bb7bf16844e",
   "metadata": {},
   "outputs": [
    {
     "name": "stdout",
     "output_type": "stream",
     "text": [
      "banana\n",
      "orrange\n"
     ]
    },
    {
     "data": {
      "text/plain": [
       "[None, None]"
      ]
     },
     "execution_count": 86,
     "metadata": {},
     "output_type": "execute_result"
    }
   ],
   "source": [
    "list1=[\"banana\", \"orrange\"]\n",
    "[print(x) for x in list1]"
   ]
  },
  {
   "cell_type": "markdown",
   "id": "30f8cec5-8b1e-46e3-bd2e-5f3d986d4b97",
   "metadata": {},
   "source": [
    "task 60"
   ]
  },
  {
   "cell_type": "code",
   "execution_count": 92,
   "id": "66505316-7caf-4803-b064-39455fe727d7",
   "metadata": {},
   "outputs": [
    {
     "name": "stdout",
     "output_type": "stream",
     "text": [
      "['banana']\n"
     ]
    }
   ],
   "source": [
    "fruit=[\"banana\",\"apple\"]\n",
    "newlist=[]\n",
    "\n",
    "for x in fruit:\n",
    "    if 'n' in x:\n",
    "        newlist.append(x)\n",
    "print (newlist)"
   ]
  },
  {
   "cell_type": "markdown",
   "id": "d4b7d458-366d-4386-aa92-246c528e5a0f",
   "metadata": {},
   "source": [
    "task 61"
   ]
  },
  {
   "cell_type": "code",
   "execution_count": 88,
   "id": "dd7690f8-7f07-4248-9ff2-40288aa7c288",
   "metadata": {},
   "outputs": [
    {
     "name": "stdout",
     "output_type": "stream",
     "text": [
      "['apple', 'banana', 'mango']\n"
     ]
    }
   ],
   "source": [
    "fruits = [\"apple\", \"banana\", \"cherry\", \"kiwi\", \"mango\"]\n",
    "\n",
    "newlist = [x for x in fruits if \"a\" in x]\n",
    "\n",
    "print(newlist)"
   ]
  },
  {
   "cell_type": "markdown",
   "id": "47840c59-f70b-4b83-ba18-713ca0b03af2",
   "metadata": {},
   "source": [
    "tsk 62\n"
   ]
  },
  {
   "cell_type": "code",
   "execution_count": 89,
   "id": "f566e0f1-87ea-419b-9942-aecd3c1895a4",
   "metadata": {},
   "outputs": [
    {
     "name": "stdout",
     "output_type": "stream",
     "text": [
      "['banana', 'cherry', 'kiwi', 'mango']\n"
     ]
    }
   ],
   "source": [
    "fruits = [\"apple\", \"banana\", \"cherry\", \"kiwi\", \"mango\"]\n",
    "\n",
    "newlist = [x for x in fruits if x != \"apple\"]\n",
    "\n",
    "print(newlist)"
   ]
  },
  {
   "cell_type": "markdown",
   "id": "e4cc4746-e150-49bc-be4b-662a859ffa95",
   "metadata": {},
   "source": [
    "task 63"
   ]
  },
  {
   "cell_type": "code",
   "execution_count": 93,
   "id": "b9514e0e-7c9b-43ee-87bc-441300f78c16",
   "metadata": {},
   "outputs": [
    {
     "name": "stdout",
     "output_type": "stream",
     "text": [
      "[0, 1, 2, 3, 4, 5, 6, 7, 8, 9]\n"
     ]
    }
   ],
   "source": [
    "newlist = [x for x in range(10)]\n",
    "\n",
    "print(newlist)"
   ]
  },
  {
   "cell_type": "markdown",
   "id": "cc05286a-3892-47dc-bccf-1d9d788a2b51",
   "metadata": {},
   "source": [
    "task 64"
   ]
  },
  {
   "cell_type": "code",
   "execution_count": 94,
   "id": "63e92d07-8db1-45a5-be44-5259bacabd6f",
   "metadata": {},
   "outputs": [
    {
     "name": "stdout",
     "output_type": "stream",
     "text": [
      "[0, 1, 2, 3, 4]\n"
     ]
    }
   ],
   "source": [
    "newlist = [x for x in range(10) if x < 5]\n",
    "\n",
    "print(newlist)"
   ]
  },
  {
   "cell_type": "markdown",
   "id": "dbbfd4c0-68b9-46ea-9280-e8ba1d03b37e",
   "metadata": {},
   "source": [
    "task 65"
   ]
  },
  {
   "cell_type": "code",
   "execution_count": 96,
   "id": "9b49d97e-5414-4213-9d5e-fa025765695f",
   "metadata": {},
   "outputs": [
    {
     "name": "stdout",
     "output_type": "stream",
     "text": [
      "['APPLE', 'BANANA', 'CHERRY']\n"
     ]
    }
   ],
   "source": [
    "fruits=[\"apple\", \"banana\", \"cherry\"]\n",
    "newlist=[x.upper() for x in fruits]\n",
    "print(newlist)"
   ]
  },
  {
   "cell_type": "markdown",
   "id": "e603abae-faae-48d3-9b8d-42c6f22d2020",
   "metadata": {},
   "source": [
    "task 66"
   ]
  },
  {
   "cell_type": "code",
   "execution_count": 98,
   "id": "3bffee64-1956-43f6-843a-d0cdf05524da",
   "metadata": {},
   "outputs": [
    {
     "name": "stdout",
     "output_type": "stream",
     "text": [
      "['hello', 'hello', 'hello']\n"
     ]
    }
   ],
   "source": [
    "fruit=['apple', 'banana', 'cherrry']\n",
    "newlist = ['hello' for x in fruit]\n",
    "print(newlist)"
   ]
  },
  {
   "cell_type": "markdown",
   "id": "f4cd28a7-d432-4b89-8047-f6ca76ac03e9",
   "metadata": {},
   "source": [
    "task 67"
   ]
  },
  {
   "cell_type": "code",
   "execution_count": 100,
   "id": "700b96db-f1fa-4e09-9c65-585a8016555b",
   "metadata": {},
   "outputs": [
    {
     "name": "stdout",
     "output_type": "stream",
     "text": [
      "['banana', 'cherry', 'apple']\n"
     ]
    }
   ],
   "source": [
    "fruit=['banana', 'orange', 'apple']\n",
    "newlist=[x if x!='orange' else 'cherry' for x in fruit]\n",
    "print (newlist)"
   ]
  },
  {
   "cell_type": "markdown",
   "id": "0af6e930-9b90-426c-9702-fa6e00b35537",
   "metadata": {},
   "source": [
    "task 68"
   ]
  },
  {
   "cell_type": "code",
   "execution_count": 101,
   "id": "d8d99cfd-1d44-49cf-8d76-a4e5aea2a094",
   "metadata": {},
   "outputs": [
    {
     "name": "stdout",
     "output_type": "stream",
     "text": [
      "['banana', 'kiwi', 'mango', 'orange', 'pineapple']\n"
     ]
    }
   ],
   "source": [
    "thislist = [\"orange\", \"mango\", \"kiwi\", \"pineapple\", \"banana\"]\n",
    "\n",
    "thislist.sort()\n",
    "\n",
    "print(thislist)\n"
   ]
  },
  {
   "cell_type": "markdown",
   "id": "074c59fb-2cb9-4d0d-955e-d1b0d63f040a",
   "metadata": {},
   "source": [
    "task 69"
   ]
  },
  {
   "cell_type": "code",
   "execution_count": 102,
   "id": "12e6e259-afca-4dac-98f1-3e93718e412a",
   "metadata": {},
   "outputs": [
    {
     "name": "stdout",
     "output_type": "stream",
     "text": [
      "[23, 50, 65, 82, 100]\n"
     ]
    }
   ],
   "source": [
    "thislist = [100, 50, 65, 82, 23]\n",
    "thislist.sort()\n",
    "print(thislist)"
   ]
  },
  {
   "cell_type": "markdown",
   "id": "bba54867-38d3-43cd-8609-d89d78f085bf",
   "metadata": {},
   "source": [
    "task 70"
   ]
  },
  {
   "cell_type": "code",
   "execution_count": 103,
   "id": "709058bc-360c-4651-ab2b-ebb9abbc86bf",
   "metadata": {},
   "outputs": [
    {
     "name": "stdout",
     "output_type": "stream",
     "text": [
      "['pineapple', 'orange', 'mango', 'kiwi', 'banana']\n"
     ]
    }
   ],
   "source": [
    "thislist = [\"orange\", \"mango\", \"kiwi\", \"pineapple\", \"banana\"]\n",
    "thislist.sort(reverse = True)\n",
    "print(thislist)"
   ]
  },
  {
   "cell_type": "markdown",
   "id": "b37f0e17-f15a-4b7b-a94c-25703b26e5ed",
   "metadata": {},
   "source": []
  },
  {
   "cell_type": "markdown",
   "id": "bfeb8478-1776-44bf-ae50-79e614eadd46",
   "metadata": {},
   "source": [
    "task 71"
   ]
  },
  {
   "cell_type": "code",
   "execution_count": 104,
   "id": "390a05ff-f141-4321-b41b-78baa3630868",
   "metadata": {},
   "outputs": [
    {
     "name": "stdout",
     "output_type": "stream",
     "text": [
      "[100, 82, 65, 50, 23]\n"
     ]
    }
   ],
   "source": [
    "thislist = [100, 50, 65, 82, 23]\n",
    "thislist.sort(reverse = True)\n",
    "print(thislist)"
   ]
  },
  {
   "cell_type": "markdown",
   "id": "5e6d07a1-de4c-4956-862c-a266db313ded",
   "metadata": {},
   "source": [
    "task 72"
   ]
  },
  {
   "cell_type": "code",
   "execution_count": 105,
   "id": "3f8ca1a3-894c-458e-81e0-68460d72d589",
   "metadata": {},
   "outputs": [
    {
     "name": "stdout",
     "output_type": "stream",
     "text": [
      "[50, 65, 23, 82, 100]\n"
     ]
    }
   ],
   "source": [
    "def myfunc(x):\n",
    "  return abs(x - 50)\n",
    "\n",
    "thislist = [100, 50, 65, 82, 23]\n",
    "\n",
    "thislist.sort(key = myfunc)\n",
    "\n",
    "print(thislist)\n"
   ]
  },
  {
   "cell_type": "markdown",
   "id": "24f044f3-cdb9-4cca-ae4b-dcd0ba6d4145",
   "metadata": {},
   "source": [
    "task 73"
   ]
  },
  {
   "cell_type": "code",
   "execution_count": 106,
   "id": "2187a6a6-32db-4cda-ae71-19de36181fc2",
   "metadata": {},
   "outputs": [
    {
     "name": "stdout",
     "output_type": "stream",
     "text": [
      "['banana', 'cherry', 'Kiwi', 'Orange']\n"
     ]
    }
   ],
   "source": [
    "thislist = [\"banana\", \"Orange\", \"Kiwi\", \"cherry\"]\n",
    "\n",
    "thislist.sort(key = str.lower)\n",
    "\n",
    "print(thislist)\n"
   ]
  },
  {
   "cell_type": "markdown",
   "id": "623d85a2-335c-4c77-8904-ce00f33699ae",
   "metadata": {},
   "source": [
    "task 74\n"
   ]
  },
  {
   "cell_type": "code",
   "execution_count": 107,
   "id": "9e84e46f-30e7-4412-9fe0-93df35af824e",
   "metadata": {},
   "outputs": [
    {
     "name": "stdout",
     "output_type": "stream",
     "text": [
      "['cherry', 'Kiwi', 'Orange', 'banana']\n"
     ]
    }
   ],
   "source": [
    "thislist = [\"banana\", \"Orange\", \"Kiwi\", \"cherry\"]\n",
    "thislist.reverse()\n",
    "print(thislist)"
   ]
  },
  {
   "cell_type": "markdown",
   "id": "da75a77c-9b94-4c06-b9d7-cea19e064400",
   "metadata": {},
   "source": [
    "TASK 75"
   ]
  },
  {
   "cell_type": "code",
   "execution_count": 108,
   "id": "c727820d-31f2-45c7-b476-1030ed099c72",
   "metadata": {},
   "outputs": [
    {
     "name": "stdout",
     "output_type": "stream",
     "text": [
      "['apple', 'banana', 'cherry']\n"
     ]
    }
   ],
   "source": [
    "thislist = [\"apple\", \"banana\", \"cherry\"]\n",
    "mylist = thislist.copy()\n",
    "print(mylist)"
   ]
  },
  {
   "cell_type": "markdown",
   "id": "6da0e4fb-d545-4e46-b8eb-e4fb746e241a",
   "metadata": {},
   "source": [
    "TASK 76"
   ]
  },
  {
   "cell_type": "code",
   "execution_count": 109,
   "id": "199c61e3-61eb-4bdc-8c03-37a33cdf0589",
   "metadata": {},
   "outputs": [
    {
     "name": "stdout",
     "output_type": "stream",
     "text": [
      "['apple', 'banana', 'cherry']\n"
     ]
    }
   ],
   "source": [
    "thislist = [\"apple\", \"banana\", \"cherry\"]\n",
    "mylist = list(thislist)\n",
    "print(mylist)\n"
   ]
  },
  {
   "cell_type": "markdown",
   "id": "9b01704b-038b-4e1b-b402-74d5dae578e1",
   "metadata": {},
   "source": [
    "Task 77"
   ]
  },
  {
   "cell_type": "code",
   "execution_count": 110,
   "id": "d92ee2af-d973-44fa-af29-e78b8f13beff",
   "metadata": {},
   "outputs": [
    {
     "name": "stdout",
     "output_type": "stream",
     "text": [
      "['apple', 'banana', 'cherry']\n"
     ]
    }
   ],
   "source": [
    "thislist = [\"apple\", \"banana\", \"cherry\"]\n",
    "mylist = thislist[:]\n",
    "print(mylist)"
   ]
  },
  {
   "cell_type": "markdown",
   "id": "085d9682-ecd3-48ca-8151-2a777855fe49",
   "metadata": {},
   "source": [
    "task 78"
   ]
  },
  {
   "cell_type": "code",
   "execution_count": 111,
   "id": "4c5de321-d605-4e2a-b21f-1b5a84d3475d",
   "metadata": {},
   "outputs": [
    {
     "name": "stdout",
     "output_type": "stream",
     "text": [
      "['a', 'b', 'c', 1, 2, 3]\n"
     ]
    }
   ],
   "source": [
    "list1 = [\"a\", \"b\", \"c\"]\n",
    "list2 = [1, 2, 3]\n",
    "\n",
    "list3 = list1 + list2\n",
    "print(list3)"
   ]
  },
  {
   "cell_type": "markdown",
   "id": "00076a06-e80d-4474-b99c-cce96d2a2cc9",
   "metadata": {},
   "source": [
    "Task 79"
   ]
  },
  {
   "cell_type": "code",
   "execution_count": 112,
   "id": "8096f8af-5e69-4687-936e-9cd17d8e7885",
   "metadata": {},
   "outputs": [
    {
     "name": "stdout",
     "output_type": "stream",
     "text": [
      "['a', 'b', 'c', 1, 2, 3]\n"
     ]
    }
   ],
   "source": [
    "ist1 = [\"a\", \"b\" , \"c\"]\n",
    "list2 = [1, 2, 3]\n",
    "\n",
    "for x in list2:\n",
    "  list1.append(x)\n",
    "\n",
    "print(list1)"
   ]
  },
  {
   "cell_type": "markdown",
   "id": "30687d1d-6f4d-4eba-9fbf-1eeb001d9d62",
   "metadata": {},
   "source": [
    "task 80"
   ]
  },
  {
   "cell_type": "code",
   "execution_count": 113,
   "id": "69b819c0-e8f7-4ce5-b651-dd063f99da02",
   "metadata": {},
   "outputs": [
    {
     "name": "stdout",
     "output_type": "stream",
     "text": [
      "['a', 'b', 'c', 1, 2, 3]\n"
     ]
    }
   ],
   "source": [
    "list1 = [\"a\", \"b\" , \"c\"]\n",
    "list2 = [1, 2, 3]\n",
    "\n",
    "list1.extend(list2)\n",
    "print(list1)"
   ]
  },
  {
   "cell_type": "markdown",
   "id": "6b8c6931-d4bc-4d0e-92d5-f0cfcf92a1dd",
   "metadata": {},
   "source": [
    "task 81"
   ]
  },
  {
   "cell_type": "code",
   "execution_count": 114,
   "id": "80178fe6-9ccc-42bb-a8da-872ddddfc87c",
   "metadata": {},
   "outputs": [
    {
     "name": "stdout",
     "output_type": "stream",
     "text": [
      "1\n"
     ]
    }
   ],
   "source": [
    "fruits = [\"apple\", \"banana\", \"cherry\"]\n",
    "\n",
    "x = fruits.count(\"cherry\")\n",
    "\n",
    "print(x)"
   ]
  },
  {
   "cell_type": "markdown",
   "id": "d8f82654-ac0b-4ad5-bcec-b0319a1d5abb",
   "metadata": {},
   "source": [
    "task 82"
   ]
  },
  {
   "cell_type": "code",
   "execution_count": 115,
   "id": "2b98689f-282b-4e27-a786-3e7656b47c55",
   "metadata": {},
   "outputs": [
    {
     "name": "stdout",
     "output_type": "stream",
     "text": [
      "('apple', 'banana', 'cherry')\n"
     ]
    }
   ],
   "source": [
    "thistuple = (\"apple\", \"banana\", \"cherry\")\n",
    "print(thistuple)\n"
   ]
  },
  {
   "cell_type": "markdown",
   "id": "1a50c1f0-92f7-48d4-ab7d-f6072d9d5c80",
   "metadata": {},
   "source": [
    "task 83"
   ]
  },
  {
   "cell_type": "code",
   "execution_count": 116,
   "id": "31910405-40a8-4ae9-8ff4-604a5dd71d59",
   "metadata": {},
   "outputs": [
    {
     "name": "stdout",
     "output_type": "stream",
     "text": [
      "('apple', 'banana', 'cherry', 'apple', 'cherry')\n"
     ]
    }
   ],
   "source": [
    "thistuple = (\"apple\", \"banana\", \"cherry\", \"apple\", \"cherry\")\n",
    "print(thistuple)"
   ]
  },
  {
   "cell_type": "markdown",
   "id": "ce7ac415-036e-4dd5-83bb-4d4d4a039906",
   "metadata": {},
   "source": [
    "task 84"
   ]
  },
  {
   "cell_type": "code",
   "execution_count": 117,
   "id": "b56c6423-20b2-41bd-8aa6-b44fb0a35e8c",
   "metadata": {},
   "outputs": [
    {
     "name": "stdout",
     "output_type": "stream",
     "text": [
      "2\n"
     ]
    }
   ],
   "source": [
    "thistuple = ( \"banana\", \"apple\")\n",
    "print(len(thistuple))"
   ]
  },
  {
   "cell_type": "markdown",
   "id": "f8b359e0-3fb7-4e7d-858e-2c1143d98afa",
   "metadata": {},
   "source": [
    "task 85"
   ]
  },
  {
   "cell_type": "code",
   "execution_count": 118,
   "id": "c1d54319-ec18-42ca-81d1-599a9127f96f",
   "metadata": {},
   "outputs": [
    {
     "name": "stdout",
     "output_type": "stream",
     "text": [
      "<class 'tuple'>\n",
      "<class 'str'>\n"
     ]
    }
   ],
   "source": [
    "#To create a tuple with only one item, you have to add a comma after the item, otherwise Python will not recognize it as a tuple\n",
    "thistuple = (\"apple\",)\n",
    "print(type(thistuple))\n",
    "\n",
    "thistuple = (\"apple\")\n",
    "print(type(thistuple))"
   ]
  },
  {
   "cell_type": "markdown",
   "id": "0eb880da-fbf8-45af-a73a-a1b24fa87cc4",
   "metadata": {},
   "source": [
    "task 86"
   ]
  },
  {
   "cell_type": "code",
   "execution_count": 119,
   "id": "1fa9e159-4d7d-486f-ab65-a7814fb259da",
   "metadata": {},
   "outputs": [
    {
     "name": "stdout",
     "output_type": "stream",
     "text": [
      "('apple', 'banana', 'cherry')\n",
      "(1, 5, 7, 9, 3)\n",
      "(True, False, False)\n"
     ]
    }
   ],
   "source": [
    "tuple1 = (\"apple\", \"banana\", \"cherry\")\n",
    "tuple2 = (1, 5, 7, 9, 3)\n",
    "tuple3 = (True, False, False)\n",
    "\n",
    "print(tuple1)\n",
    "print(tuple2)\n",
    "print(tuple3)"
   ]
  },
  {
   "cell_type": "markdown",
   "id": "98605337-5a28-429f-b736-cd8652e9b2dd",
   "metadata": {},
   "source": [
    "task 87"
   ]
  },
  {
   "cell_type": "code",
   "execution_count": 120,
   "id": "76323824-440d-4afb-91a9-3773b012d6ef",
   "metadata": {},
   "outputs": [
    {
     "name": "stdout",
     "output_type": "stream",
     "text": [
      "('abc', 123, True, False)\n"
     ]
    }
   ],
   "source": [
    "tuple=(\"abc\", 123, True, False)\n",
    "print (tuple)"
   ]
  },
  {
   "cell_type": "markdown",
   "id": "a1015982-86e9-4901-8a15-63c58cd26189",
   "metadata": {},
   "source": [
    "task 88"
   ]
  },
  {
   "cell_type": "code",
   "execution_count": 124,
   "id": "a780673b-05cd-4eb1-aae3-de82e8e98a1a",
   "metadata": {},
   "outputs": [
    {
     "name": "stdout",
     "output_type": "stream",
     "text": [
      "banana\n"
     ]
    }
   ],
   "source": [
    "thistuple = (\"apple\", \"banana\", \"cherry\")\n",
    "print(thistuple[1])"
   ]
  },
  {
   "cell_type": "markdown",
   "id": "deb24ca7-9c99-4371-ad9a-acb93a774004",
   "metadata": {},
   "source": [
    "task 89"
   ]
  },
  {
   "cell_type": "code",
   "execution_count": 125,
   "id": "d7ebd077-1ec5-4218-aa26-473fbe037d16",
   "metadata": {},
   "outputs": [
    {
     "name": "stdout",
     "output_type": "stream",
     "text": [
      "mers\n"
     ]
    }
   ],
   "source": [
    "tuple=('apple', 'banana', 'mers')\n",
    "print(tuple[-1])"
   ]
  },
  {
   "cell_type": "markdown",
   "id": "3c3f33aa-2e72-4bcb-9672-2428b175d7bf",
   "metadata": {},
   "source": [
    "task 90"
   ]
  },
  {
   "cell_type": "code",
   "execution_count": 126,
   "id": "3fde25d5-5284-45a2-96b5-e3bf19bb15cd",
   "metadata": {},
   "outputs": [
    {
     "name": "stdout",
     "output_type": "stream",
     "text": [
      "('cherry', 'orange', 'kiwi')\n"
     ]
    }
   ],
   "source": [
    "thistuple = (\"apple\", \"banana\", \"cherry\", \"orange\", \"kiwi\", \"melon\", \"mango\")\n",
    "print(thistuple[2:5])"
   ]
  },
  {
   "cell_type": "markdown",
   "id": "67ae419e-9e93-4401-bcfa-c6f590c3d7fa",
   "metadata": {},
   "source": [
    "task 91"
   ]
  },
  {
   "cell_type": "code",
   "execution_count": 127,
   "id": "578f6b82-e67c-46f4-8dae-20f7f8677932",
   "metadata": {},
   "outputs": [
    {
     "name": "stdout",
     "output_type": "stream",
     "text": [
      "('orange', 'kiwi', 'melon')\n"
     ]
    }
   ],
   "source": [
    "thistuple = (\"apple\", \"banana\", \"cherry\", \"orange\", \"kiwi\", \"melon\", \"mango\")\n",
    "print(thistuple[-4:-1])"
   ]
  },
  {
   "cell_type": "markdown",
   "id": "74e26183-e770-4e2e-8914-4816e170507e",
   "metadata": {},
   "source": [
    "task 92"
   ]
  },
  {
   "cell_type": "code",
   "execution_count": 128,
   "id": "b4f72a03-fb7c-48d0-8d20-7ab3fa71a964",
   "metadata": {},
   "outputs": [
    {
     "name": "stdout",
     "output_type": "stream",
     "text": [
      "Yes, 'apple' is in the fruits tuple\n"
     ]
    }
   ],
   "source": [
    "thistuple = (\"apple\", \"banana\", \"cherry\")\n",
    "if \"apple\" in thistuple:\n",
    "  print(\"Yes, 'apple' is in the fruits tuple\")"
   ]
  },
  {
   "cell_type": "markdown",
   "id": "92cfb157-2c8f-4d37-8021-fda3d6228025",
   "metadata": {},
   "source": [
    "task 93"
   ]
  },
  {
   "cell_type": "code",
   "execution_count": 1,
   "id": "965bd893-72d2-47b9-b7d4-ede59a8664f4",
   "metadata": {},
   "outputs": [
    {
     "name": "stdout",
     "output_type": "stream",
     "text": [
      "['apple', 'kiwi']\n"
     ]
    }
   ],
   "source": [
    "x = (\"apple\", \"cherry\")\n",
    "y = list(x)\n",
    "y[1] = \"kiwi\"\n",
    "x = list(y)\n",
    "\n",
    "print(x)"
   ]
  },
  {
   "cell_type": "markdown",
   "id": "6475068e-38fd-49f3-92be-03e5f31f7d43",
   "metadata": {},
   "source": [
    "task 94"
   ]
  },
  {
   "cell_type": "code",
   "execution_count": 2,
   "id": "50a80d02-14b3-4b0b-b8d6-33c60f06c863",
   "metadata": {},
   "outputs": [
    {
     "name": "stdout",
     "output_type": "stream",
     "text": [
      "['apple', 'banana', 'cherry', 'orange']\n"
     ]
    }
   ],
   "source": [
    "thistuple = (\"apple\", \"banana\", \"cherry\")\n",
    "y = list(thistuple)\n",
    "y.append(\"orange\")\n",
    "thistuple = list(y)\n",
    "\n",
    "print(thistuple)"
   ]
  },
  {
   "cell_type": "markdown",
   "id": "658012ee-1227-445c-b6e8-35aed56a97e4",
   "metadata": {},
   "source": [
    "task 95"
   ]
  },
  {
   "cell_type": "code",
   "execution_count": 135,
   "id": "486f07ae-83b0-496b-8fee-0b18b29a4ab7",
   "metadata": {},
   "outputs": [
    {
     "name": "stdout",
     "output_type": "stream",
     "text": [
      "('apple', 'banana', 'cherry', 'orange')\n"
     ]
    }
   ],
   "source": [
    "thistuple = (\"apple\", \"banana\", \"cherry\")\n",
    "y = (\"orange\",)\n",
    "thistuple =thistuple + y\n",
    "\n",
    "print(thistuple)"
   ]
  },
  {
   "cell_type": "markdown",
   "id": "d2e6cdfb-cc26-473b-8f19-e29d008fa016",
   "metadata": {},
   "source": [
    "task 96"
   ]
  },
  {
   "cell_type": "code",
   "execution_count": 4,
   "id": "b5523d67-1faa-4d7a-b079-baa302df80d9",
   "metadata": {},
   "outputs": [
    {
     "name": "stdout",
     "output_type": "stream",
     "text": [
      "['banana', 'cherry']\n"
     ]
    }
   ],
   "source": [
    "thistuple = (\"apple\", \"banana\", \"cherry\")\n",
    "y = list(thistuple)\n",
    "y.remove(\"apple\")\n",
    "thistuple = list(y)\n",
    "\n",
    "print(thistuple)"
   ]
  },
  {
   "cell_type": "markdown",
   "id": "73b637cd-bab8-480e-bf05-23ac2cadc04e",
   "metadata": {},
   "source": [
    "task 97"
   ]
  },
  {
   "cell_type": "code",
   "execution_count": 139,
   "id": "f30b6efd-19e7-4a1e-af8d-6d43c51eac97",
   "metadata": {},
   "outputs": [
    {
     "name": "stdout",
     "output_type": "stream",
     "text": [
      "apple\n",
      "banana\n",
      "cherry\n"
     ]
    }
   ],
   "source": [
    "#unpacking\n",
    "fruits = (\"apple\", \"banana\", \"cherry\")\n",
    "\n",
    "(green, yellow, red) = fruits\n",
    "\n",
    "print(green)\n",
    "print(yellow)\n",
    "print(red)\n"
   ]
  },
  {
   "cell_type": "markdown",
   "id": "aef23ba3-2806-4808-be32-0d959248a6c9",
   "metadata": {},
   "source": [
    "task 98"
   ]
  },
  {
   "cell_type": "code",
   "execution_count": 140,
   "id": "780be7ca-ec8f-4043-a9e2-9aab1db2081b",
   "metadata": {},
   "outputs": [
    {
     "name": "stdout",
     "output_type": "stream",
     "text": [
      "apple\n",
      "mango\n",
      "['papaya', 'pineapple', 'cherry']\n"
     ]
    }
   ],
   "source": [
    "fruits = (\"apple\", \"mango\", \"papaya\", \"pineapple\", \"cherry\")\n",
    "\n",
    "(green, tropic, *red) = fruits\n",
    "\n",
    "print(green)\n",
    "print(tropic)\n",
    "print(red)"
   ]
  },
  {
   "cell_type": "markdown",
   "id": "a4de2488-2561-4821-9ea0-9aa17f514cf7",
   "metadata": {},
   "source": [
    "task 99"
   ]
  },
  {
   "cell_type": "code",
   "execution_count": 141,
   "id": "64e29bce-2ece-424c-a1ae-8546441171e6",
   "metadata": {},
   "outputs": [
    {
     "name": "stdout",
     "output_type": "stream",
     "text": [
      "apple\n",
      "['mango', 'papaya', 'pineapple']\n",
      "cherry\n"
     ]
    }
   ],
   "source": [
    "fruits = (\"apple\", \"mango\", \"papaya\", \"pineapple\", \"cherry\")\n",
    "\n",
    "(green, *tropic, red) = fruits\n",
    "\n",
    "print(green)\n",
    "print(tropic)\n",
    "print(red)"
   ]
  },
  {
   "cell_type": "markdown",
   "id": "d7f4ff1b-19d3-409d-a38b-859a98f16a1d",
   "metadata": {},
   "source": [
    "task 100"
   ]
  },
  {
   "cell_type": "code",
   "execution_count": 142,
   "id": "80da674b-9d8b-4f10-9b0c-32abf4d493a0",
   "metadata": {},
   "outputs": [
    {
     "name": "stdout",
     "output_type": "stream",
     "text": [
      "apple\n",
      "banana\n",
      "cherry\n"
     ]
    }
   ],
   "source": [
    "thistuple = (\"apple\", \"banana\", \"cherry\")\n",
    "for x in thistuple:\n",
    "  print(x)"
   ]
  },
  {
   "cell_type": "markdown",
   "id": "80cde1b4-6b60-4f96-a64a-0b590cbed5d3",
   "metadata": {},
   "source": [
    "task 101"
   ]
  },
  {
   "cell_type": "code",
   "execution_count": 144,
   "id": "c473620e-3488-4400-b80b-7839948b6a31",
   "metadata": {},
   "outputs": [
    {
     "name": "stdout",
     "output_type": "stream",
     "text": [
      "apple\n",
      "banana\n",
      "cherry\n"
     ]
    }
   ],
   "source": [
    "thistuple = (\"apple\", \"banana\", \"cherry\")\n",
    "for i in range(len(thistuple)):\n",
    "  print(thistuple[i])"
   ]
  },
  {
   "cell_type": "markdown",
   "id": "cb5d33f6-929c-4d55-8ed6-a427229498f5",
   "metadata": {},
   "source": [
    "task 102"
   ]
  },
  {
   "cell_type": "code",
   "execution_count": 145,
   "id": "74764960-5ab0-4fa1-b845-d5537c13adb9",
   "metadata": {},
   "outputs": [
    {
     "name": "stdout",
     "output_type": "stream",
     "text": [
      "apple\n",
      "banana\n",
      "cherry\n"
     ]
    }
   ],
   "source": [
    "thistuple = (\"apple\", \"banana\", \"cherry\")\n",
    "i = 0\n",
    "while i < len(thistuple):\n",
    "  print(thistuple[i])\n",
    "  i = i + 1"
   ]
  },
  {
   "cell_type": "markdown",
   "id": "0ecd4de1-d458-4f0f-be1d-6a17970a4b56",
   "metadata": {},
   "source": [
    "task 103"
   ]
  },
  {
   "cell_type": "code",
   "execution_count": 146,
   "id": "8c0a7191-38c9-4beb-9914-0100c4ecef7f",
   "metadata": {},
   "outputs": [
    {
     "name": "stdout",
     "output_type": "stream",
     "text": [
      "apple\n",
      "banana\n",
      "cherry\n"
     ]
    }
   ],
   "source": [
    "thistuple = (\"apple\", \"banana\", \"cherry\")\n",
    "i = 0\n",
    "while i < len(thistuple):\n",
    "  print(thistuple[i])\n",
    "  i = i + 1"
   ]
  },
  {
   "cell_type": "markdown",
   "id": "c7d1dc95-24c3-408e-8562-990083825405",
   "metadata": {},
   "source": [
    "task 104"
   ]
  },
  {
   "cell_type": "code",
   "execution_count": 147,
   "id": "4faf5691-d0b6-48f5-bcae-7c27eb071d44",
   "metadata": {},
   "outputs": [
    {
     "name": "stdout",
     "output_type": "stream",
     "text": [
      "('a', 'b', 'c', 1, 2, 3)\n"
     ]
    }
   ],
   "source": [
    "tuple1 = (\"a\", \"b\" , \"c\")\n",
    "tuple2 = (1, 2, 3)\n",
    "\n",
    "tuple3 = tuple1 + tuple2\n",
    "print(tuple3)"
   ]
  },
  {
   "cell_type": "markdown",
   "id": "236c0165-8ff1-4688-ae85-b2433051e5fa",
   "metadata": {},
   "source": [
    "task 105"
   ]
  },
  {
   "cell_type": "code",
   "execution_count": 148,
   "id": "b070e8b5-2ce2-4353-bea3-944a1395cfe6",
   "metadata": {},
   "outputs": [
    {
     "name": "stdout",
     "output_type": "stream",
     "text": [
      "('apple', 'banana', 'cherry', 'apple', 'banana', 'cherry')\n"
     ]
    }
   ],
   "source": [
    "fruits = (\"apple\", \"banana\", \"cherry\")\n",
    "mytuple = fruits * 2\n",
    "\n",
    "print(mytuple)"
   ]
  },
  {
   "cell_type": "markdown",
   "id": "ece4e7a1-00f3-487d-bd39-e6056281deac",
   "metadata": {},
   "source": [
    "task 106"
   ]
  },
  {
   "cell_type": "code",
   "execution_count": 149,
   "id": "dc31804b-ce41-4aeb-a04a-adbe9063268d",
   "metadata": {},
   "outputs": [
    {
     "name": "stdout",
     "output_type": "stream",
     "text": [
      "2\n"
     ]
    }
   ],
   "source": [
    "thistuple = (1, 3, 7, 8, 7, 5, 4, 6, 8, 5)\n",
    "\n",
    "x = thistuple.count(5)\n",
    "\n",
    "print(x)"
   ]
  },
  {
   "cell_type": "markdown",
   "id": "6fb388ef-34d8-45a7-a305-e866ffb2bf52",
   "metadata": {},
   "source": [
    "task 107"
   ]
  },
  {
   "cell_type": "code",
   "execution_count": 150,
   "id": "93ebf90b-4eb7-4f9b-8790-84a8743d986c",
   "metadata": {},
   "outputs": [
    {
     "name": "stdout",
     "output_type": "stream",
     "text": [
      "3\n"
     ]
    }
   ],
   "source": [
    "thistuple = (1, 3, 7, 8, 7, 5, 4, 6, 8, 5)\n",
    "\n",
    "x = thistuple.index(8)\n",
    "\n",
    "print(x)"
   ]
  },
  {
   "cell_type": "markdown",
   "id": "6de34f9b-e772-4001-95c6-a5af3487ad88",
   "metadata": {},
   "source": [
    "task 108"
   ]
  },
  {
   "cell_type": "code",
   "execution_count": 151,
   "id": "74c7f381-754b-4c5d-ac5c-582f274d5a96",
   "metadata": {},
   "outputs": [
    {
     "name": "stdout",
     "output_type": "stream",
     "text": [
      "{'banana', 'apple', 'cherry'}\n"
     ]
    }
   ],
   "source": [
    "#unorder set\n",
    "thisset = {\"apple\", \"banana\", \"cherry\"}\n",
    "print(thisset)"
   ]
  },
  {
   "cell_type": "markdown",
   "id": "8e0431a5-6862-4779-951c-cf3c0c264159",
   "metadata": {},
   "source": [
    "task 109"
   ]
  },
  {
   "cell_type": "code",
   "execution_count": 153,
   "id": "e3452fe3-6bf1-42b9-9ca0-02aec2c330f4",
   "metadata": {},
   "outputs": [
    {
     "name": "stdout",
     "output_type": "stream",
     "text": [
      "{True, 2, 'apple', 'cherry', 'banana'}\n"
     ]
    }
   ],
   "source": [
    "thisset = {\"apple\", \"banana\", \"cherry\", True, 1, 2}\n",
    "\n",
    "print(thisset)\n",
    "#true=1"
   ]
  },
  {
   "cell_type": "markdown",
   "id": "f2c11df9-6283-4f04-ab86-36bf5992d0bf",
   "metadata": {},
   "source": [
    "task 1110"
   ]
  },
  {
   "cell_type": "code",
   "execution_count": 154,
   "id": "dcd09e9c-3ec1-4db0-b48b-01493a3920bd",
   "metadata": {},
   "outputs": [
    {
     "name": "stdout",
     "output_type": "stream",
     "text": [
      "{False, True, 'apple', 'cherry', 'banana'}\n"
     ]
    }
   ],
   "source": [
    "thisset = {\"apple\", \"banana\", \"cherry\", False, True, 0}\n",
    "\n",
    "print(thisset)"
   ]
  },
  {
   "cell_type": "markdown",
   "id": "2203a4f6-bd2d-4d00-bd54-11bb59eb78bb",
   "metadata": {},
   "source": [
    "111 task"
   ]
  },
  {
   "cell_type": "code",
   "execution_count": 155,
   "id": "4b5b25d8-a22b-4287-8e52-2dbf09fb650d",
   "metadata": {},
   "outputs": [
    {
     "name": "stdout",
     "output_type": "stream",
     "text": [
      "3\n"
     ]
    }
   ],
   "source": [
    "thiset={\"banna\", \"apple\", \"cherry\"}\n",
    "print(len(thiset))"
   ]
  },
  {
   "cell_type": "markdown",
   "id": "c4490632-f824-41af-887e-78185603784c",
   "metadata": {},
   "source": [
    "task 112"
   ]
  },
  {
   "cell_type": "code",
   "execution_count": 156,
   "id": "76d62ca5-7543-4061-b0d3-93a767faa629",
   "metadata": {},
   "outputs": [
    {
     "name": "stdout",
     "output_type": "stream",
     "text": [
      "{'banana', 'apple', 'cherry'}\n",
      "{1, 3, 5, 7, 9}\n",
      "{False, True}\n"
     ]
    }
   ],
   "source": [
    "set1 = {\"apple\", \"banana\",  \"banana\" ,\"cherry\"}\n",
    "set2 = {1, 5, 7, 9, 3}\n",
    "set3 = {True, False, False}\n",
    "\n",
    "print(set1)\n",
    "print(set2)\n",
    "print(set3)"
   ]
  },
  {
   "cell_type": "markdown",
   "id": "9484d3e8-0751-4ea8-80b8-a6fc565db0ad",
   "metadata": {},
   "source": [
    "task 113"
   ]
  },
  {
   "cell_type": "code",
   "execution_count": 157,
   "id": "37d6b290-6a7e-4c8d-8715-94b37bfffb96",
   "metadata": {},
   "outputs": [
    {
     "name": "stdout",
     "output_type": "stream",
     "text": [
      "<class 'set'>\n"
     ]
    }
   ],
   "source": [
    "myset = {\"apple\", \"banana\", \"cherry\"}\n",
    "print(type(myset))"
   ]
  },
  {
   "cell_type": "markdown",
   "id": "f655b887-a253-4be7-b923-27f83d6688e9",
   "metadata": {},
   "source": [
    "task 114"
   ]
  },
  {
   "cell_type": "markdown",
   "id": "0adf3f2c-eee1-4d00-be32-1c7f632960f7",
   "metadata": {},
   "source": [
    "task 114"
   ]
  },
  {
   "cell_type": "code",
   "execution_count": 159,
   "id": "46de90b0-1878-488b-934d-507888caaa1f",
   "metadata": {},
   "outputs": [
    {
     "name": "stdout",
     "output_type": "stream",
     "text": [
      "{'banana', 'apple', 'cherry'}\n"
     ]
    }
   ],
   "source": [
    "thisset = set((\"apple\", \"banana\", \"cherry\")) # note the double round-brackets\n",
    "print(thisset)\n",
    "#create set"
   ]
  },
  {
   "cell_type": "markdown",
   "id": "cad5c1b8-f795-4989-a6d8-297df430f13b",
   "metadata": {},
   "source": [
    "task 115"
   ]
  },
  {
   "cell_type": "code",
   "execution_count": 160,
   "id": "dbc7ebc2-35ca-42a3-8268-1638476b7b12",
   "metadata": {},
   "outputs": [
    {
     "name": "stdout",
     "output_type": "stream",
     "text": [
      "banana\n",
      "apple\n",
      "cherry\n"
     ]
    }
   ],
   "source": [
    "thisset = {\"apple\", \"banana\", \"cherry\"}\n",
    "\n",
    "for x in thisset:\n",
    "  print(x)"
   ]
  },
  {
   "cell_type": "markdown",
   "id": "a210096c-2e4a-4aec-b9fb-0e638e5a03b1",
   "metadata": {},
   "source": [
    "task 116"
   ]
  },
  {
   "cell_type": "code",
   "execution_count": 161,
   "id": "519b6287-0897-4d77-a64f-38b61f461c1a",
   "metadata": {},
   "outputs": [
    {
     "name": "stdout",
     "output_type": "stream",
     "text": [
      "True\n"
     ]
    }
   ],
   "source": [
    "thisset = {\"apple\", \"banana\", \"cherry\"}\n",
    "\n",
    "print(\"banana\" in thisset)"
   ]
  },
  {
   "cell_type": "markdown",
   "id": "ea996686-0275-4618-b1d7-2201ffe49fa3",
   "metadata": {},
   "source": [
    "task 117"
   ]
  },
  {
   "cell_type": "code",
   "execution_count": 162,
   "id": "03de63d9-d28a-419b-8b24-0c511d6414da",
   "metadata": {},
   "outputs": [
    {
     "name": "stdout",
     "output_type": "stream",
     "text": [
      "False\n"
     ]
    }
   ],
   "source": [
    "thisset = {\"apple\", \"banana\", \"cherry\"}\n",
    "\n",
    "print(\"banana\" not in thisset)"
   ]
  },
  {
   "cell_type": "markdown",
   "id": "3ea5e42c-ed58-45c7-9135-944df384a020",
   "metadata": {},
   "source": [
    "task 118"
   ]
  },
  {
   "cell_type": "code",
   "execution_count": 163,
   "id": "2d8e0c65-042d-46e9-ab89-96c3b8b1af38",
   "metadata": {},
   "outputs": [
    {
     "name": "stdout",
     "output_type": "stream",
     "text": [
      "{'banana', 'orange', 'apple', 'cherry'}\n"
     ]
    }
   ],
   "source": [
    "#use add\n",
    "thisset = {\"apple\", \"banana\", \"cherry\"}\n",
    "\n",
    "thisset.add(\"orange\")\n",
    "\n",
    "print(thisset)"
   ]
  },
  {
   "cell_type": "markdown",
   "id": "825ed12c-2d02-4fa3-8107-dbb9fb7ecdb6",
   "metadata": {},
   "source": [
    "task 119"
   ]
  },
  {
   "cell_type": "code",
   "execution_count": 165,
   "id": "22eab06d-ba0e-4296-b407-b12d2b10dbbd",
   "metadata": {},
   "outputs": [
    {
     "name": "stdout",
     "output_type": "stream",
     "text": [
      "{'apple', 'mango', 'cherry', 'banana', 'pineapple', 'papaya'}\n"
     ]
    }
   ],
   "source": [
    "#use update to sum two sets\n",
    "thisset = {\"apple\", \"banana\", \"cherry\"}\n",
    "tropical = {\"pineapple\", \"mango\", \"papaya\"}\n",
    "\n",
    "thisset.update(tropical)\n",
    "\n",
    "print(thisset)"
   ]
  },
  {
   "cell_type": "markdown",
   "id": "60fae617-0f26-43b8-9ca8-c322923f024a",
   "metadata": {},
   "source": [
    "task 120"
   ]
  },
  {
   "cell_type": "code",
   "execution_count": 166,
   "id": "57b3b1fc-afad-4403-a58d-190e02e77829",
   "metadata": {},
   "outputs": [
    {
     "name": "stdout",
     "output_type": "stream",
     "text": [
      "{'banana', 'cherry', 'orange', 'kiwi', 'apple'}\n"
     ]
    }
   ],
   "source": [
    "thisset = {\"apple\", \"banana\", \"cherry\"}\n",
    "mylist = [\"kiwi\", \"orange\"]\n",
    "\n",
    "thisset.update(mylist)\n",
    "\n",
    "print(thisset)"
   ]
  },
  {
   "cell_type": "markdown",
   "id": "42d196ee-0052-4169-869b-27fccc864622",
   "metadata": {},
   "source": [
    "task 121"
   ]
  },
  {
   "cell_type": "code",
   "execution_count": 167,
   "id": "d3c39b37-81fd-40e2-b9ff-6d73c4358892",
   "metadata": {},
   "outputs": [
    {
     "name": "stdout",
     "output_type": "stream",
     "text": [
      "{'apple', 'cherry'}\n"
     ]
    }
   ],
   "source": [
    "#use the remove(), or the discard() method.\n",
    "thisset = {\"apple\", \"banana\", \"cherry\"}\n",
    "\n",
    "thisset.remove(\"banana\")\n",
    "\n",
    "print(thisset)"
   ]
  },
  {
   "cell_type": "markdown",
   "id": "fbd6b1b6-01ad-4dba-9e57-e8267704b435",
   "metadata": {},
   "source": [
    "task 122"
   ]
  },
  {
   "cell_type": "code",
   "execution_count": 168,
   "id": "bbb25139-57fa-43f5-ba22-a34a863614e3",
   "metadata": {},
   "outputs": [
    {
     "name": "stdout",
     "output_type": "stream",
     "text": [
      "{'APPLE'}\n"
     ]
    }
   ],
   "source": [
    "tset={\"BANANA\" , \"APPLE\"}\n",
    "tset.discard(\"BANANA\")\n",
    "print(tset)"
   ]
  },
  {
   "cell_type": "markdown",
   "id": "31fbb144-a1ad-400f-ab8b-95078695c821",
   "metadata": {},
   "source": [
    "task 123"
   ]
  },
  {
   "cell_type": "code",
   "execution_count": 170,
   "id": "cd7c1bbe-fe63-47cf-932b-957d4a5a72aa",
   "metadata": {},
   "outputs": [
    {
     "name": "stdout",
     "output_type": "stream",
     "text": [
      "banana\n",
      "{'apple', 'cherry'}\n"
     ]
    }
   ],
   "source": [
    "#random\n",
    "thisset = {\"apple\", \"banana\", \"cherry\"}\n",
    "\n",
    "x = thisset.pop()\n",
    "\n",
    "print(x)\n",
    "\n",
    "print(thisset)"
   ]
  },
  {
   "cell_type": "markdown",
   "id": "ed83a5fe-abe0-4fe9-890a-9bcaa4578598",
   "metadata": {},
   "source": [
    "task 124"
   ]
  },
  {
   "cell_type": "code",
   "execution_count": 171,
   "id": "1666701a-d066-4872-8fcf-5e172cdd62fc",
   "metadata": {},
   "outputs": [
    {
     "name": "stdout",
     "output_type": "stream",
     "text": [
      "set()\n"
     ]
    }
   ],
   "source": [
    "thisset = {\"apple\", \"banana\", \"cherry\"}\n",
    "\n",
    "thisset.clear()\n",
    "\n",
    "print(thisset)"
   ]
  },
  {
   "cell_type": "markdown",
   "id": "f8b609f6-9644-4dca-a13f-e2a88accceb5",
   "metadata": {},
   "source": [
    "task 125"
   ]
  },
  {
   "cell_type": "code",
   "execution_count": 178,
   "id": "984e4af9-53eb-493c-b927-0ef6212f4d28",
   "metadata": {},
   "outputs": [
    {
     "name": "stdout",
     "output_type": "stream",
     "text": [
      "{1, 2, 3, 4, 5, 6, 7, 8}\n"
     ]
    }
   ],
   "source": [
    "set1={1,2,3,4}\n",
    "set2={5,6,7,8}\n",
    "set3=set1.union(set2)\n",
    "print (set3)"
   ]
  },
  {
   "cell_type": "markdown",
   "id": "67192919-612f-4630-b163-82be493fb00a",
   "metadata": {},
   "source": [
    "task 126"
   ]
  },
  {
   "cell_type": "code",
   "execution_count": 179,
   "id": "d9446604-e465-4378-a12f-89a812f39fe4",
   "metadata": {},
   "outputs": [
    {
     "name": "stdout",
     "output_type": "stream",
     "text": [
      "{1, 2, 3, 4, 5, 6, 7, 8}\n"
     ]
    }
   ],
   "source": [
    "set1={1,2,3,4}\n",
    "set2={5,6,7,8}\n",
    "set3=set1 | set2\n",
    "print (set3)"
   ]
  },
  {
   "cell_type": "markdown",
   "id": "f819e454-c312-486f-8914-adfe7bf3c4c7",
   "metadata": {},
   "source": [
    "task 127"
   ]
  },
  {
   "cell_type": "code",
   "execution_count": 180,
   "id": "95b76f2c-87a4-447c-8d97-4983a0580a16",
   "metadata": {},
   "outputs": [
    {
     "name": "stdout",
     "output_type": "stream",
     "text": [
      "{'a', 1, 2, 3, 'b', 'c'}\n"
     ]
    }
   ],
   "source": [
    "x = {\"a\", \"b\", \"c\"}\n",
    "y = (1, 2, 3)\n",
    "\n",
    "z = x.union(y)\n",
    "print(z)\n",
    "#u can use with another types, but answer will be in set format"
   ]
  },
  {
   "cell_type": "markdown",
   "id": "5ba94766-586b-46bb-a3e7-16884fa876ab",
   "metadata": {},
   "source": [
    "task 128"
   ]
  },
  {
   "cell_type": "code",
   "execution_count": 182,
   "id": "dc23cd89-3228-4f03-aee9-2c171ed0433b",
   "metadata": {},
   "outputs": [
    {
     "name": "stdout",
     "output_type": "stream",
     "text": [
      "{1, 2, 3, 'B', 'C', 4, 'A'}\n"
     ]
    }
   ],
   "source": [
    "set1={\"A\", \"B\", \"C\"}\n",
    "set2={1,2,3,4}\n",
    "set1.update(set2)\n",
    "print (set1)"
   ]
  },
  {
   "cell_type": "markdown",
   "id": "b65a1374-5a27-4cb4-b560-e942c90dd367",
   "metadata": {},
   "source": [
    "task 129"
   ]
  },
  {
   "cell_type": "code",
   "execution_count": 183,
   "id": "930b6b25-2b79-44fa-913c-736d0fd7ca19",
   "metadata": {},
   "outputs": [
    {
     "name": "stdout",
     "output_type": "stream",
     "text": [
      "{'apple'}\n"
     ]
    }
   ],
   "source": [
    "set1 = {\"apple\", \"banana\", \"cherry\"}\n",
    "set2 = {\"google\", \"microsoft\", \"apple\"}\n",
    "\n",
    "set3 = set1.intersection(set2)\n",
    "print(set3)"
   ]
  },
  {
   "cell_type": "markdown",
   "id": "03c53043-3252-4396-ba21-5a0fbc07df73",
   "metadata": {},
   "source": [
    "task 130"
   ]
  },
  {
   "cell_type": "code",
   "execution_count": 184,
   "id": "e6412b35-fc3f-46f8-bb28-5225309525c0",
   "metadata": {},
   "outputs": [
    {
     "name": "stdout",
     "output_type": "stream",
     "text": [
      "{'apple'}\n"
     ]
    }
   ],
   "source": [
    "#Use /\"&/\" to join two sets:\n",
    "\n",
    "set1 = {\"apple\", \"banana\", \"cherry\"}\n",
    "set2 = {\"google\", \"microsoft\", \"apple\"}\n",
    "\n",
    "set3 = set1 & set2\n",
    "print(set3)"
   ]
  },
  {
   "cell_type": "markdown",
   "id": "143257b6-eb2c-47bd-8c7d-d4a5855cb587",
   "metadata": {},
   "source": [
    "task 131"
   ]
  },
  {
   "cell_type": "code",
   "execution_count": 185,
   "id": "d248addd-6402-4e43-8b9a-96ca5a2f2f26",
   "metadata": {},
   "outputs": [
    {
     "name": "stdout",
     "output_type": "stream",
     "text": [
      "{'apple'}\n"
     ]
    }
   ],
   "source": [
    "set1 = {\"apple\", \"banana\", \"cherry\"}\n",
    "set2 = {\"google\", \"microsoft\", \"apple\"}\n",
    "\n",
    "set1.intersection_update(set2)\n",
    "\n",
    "print(set1)\n",
    "#donot create an additional set, keep only dublicate"
   ]
  },
  {
   "cell_type": "markdown",
   "id": "63144a2e-368b-4cfc-bef4-0b58e1e31caf",
   "metadata": {},
   "source": [
    "task 132"
   ]
  },
  {
   "cell_type": "code",
   "execution_count": 186,
   "id": "ef04144c-ceb2-4de8-a52c-22c6eaf450d9",
   "metadata": {},
   "outputs": [
    {
     "name": "stdout",
     "output_type": "stream",
     "text": [
      "{False, 1, 'apple'}\n"
     ]
    }
   ],
   "source": [
    "set1 = {\"apple\", 1,  \"banana\", 0, \"cherry\"}\n",
    "set2 = {False, \"google\", 1, \"apple\", 2, True}\n",
    "\n",
    "set3 = set1.intersection(set2)\n",
    "\n",
    "print(set3)"
   ]
  },
  {
   "cell_type": "markdown",
   "id": "32dee012-5964-49d9-a728-759af7c46f54",
   "metadata": {},
   "source": [
    "task 133"
   ]
  },
  {
   "cell_type": "code",
   "execution_count": 187,
   "id": "a5ea39b5-73ca-4a7e-b31c-457d63a4e045",
   "metadata": {},
   "outputs": [
    {
     "name": "stdout",
     "output_type": "stream",
     "text": [
      "{'banana', 'cherry'}\n"
     ]
    }
   ],
   "source": [
    "set1 = {\"apple\", \"banana\", \"cherry\"}\n",
    "set2 = {\"google\", \"microsoft\", \"apple\"}\n",
    "\n",
    "set3 = set1.difference(set2)\n",
    "\n",
    "print(set3)"
   ]
  },
  {
   "cell_type": "markdown",
   "id": "30d505a3-f220-4c94-bab4-65cfe7512e05",
   "metadata": {},
   "source": [
    "task 134"
   ]
  },
  {
   "cell_type": "code",
   "execution_count": 188,
   "id": "ea1c150b-a0e7-42f8-a708-f46174820d30",
   "metadata": {},
   "outputs": [
    {
     "name": "stdout",
     "output_type": "stream",
     "text": [
      "{'banana', 'cherry'}\n"
     ]
    }
   ],
   "source": [
    "set1 = {\"apple\", \"banana\", \"cherry\"}\n",
    "set2 = {\"google\", \"microsoft\", \"apple\"}\n",
    "\n",
    "set3 = set1-set2\n",
    "\n",
    "print(set3)"
   ]
  },
  {
   "cell_type": "markdown",
   "id": "84e1c64d-e98a-499c-b16a-8fb0082deed8",
   "metadata": {},
   "source": [
    "task 135"
   ]
  },
  {
   "cell_type": "code",
   "execution_count": 189,
   "id": "62ab24c1-30e4-45e4-81eb-c18fd8f2ae05",
   "metadata": {},
   "outputs": [
    {
     "name": "stdout",
     "output_type": "stream",
     "text": [
      "{'banana', 'cherry'}\n"
     ]
    }
   ],
   "source": [
    "set1 = {\"apple\", \"banana\", \"cherry\"}\n",
    "set2 = {\"google\", \"microsoft\", \"apple\"}\n",
    "\n",
    "set1.difference_update(set2)\n",
    "\n",
    "print(set1)"
   ]
  },
  {
   "cell_type": "markdown",
   "id": "c99bc392-3e93-4dc0-98d2-200184ba84b0",
   "metadata": {},
   "source": [
    "task 136"
   ]
  },
  {
   "cell_type": "code",
   "execution_count": 190,
   "id": "5a9796b2-01f8-43b1-9e45-e3fb955de7d1",
   "metadata": {},
   "outputs": [
    {
     "name": "stdout",
     "output_type": "stream",
     "text": [
      "{'banana', 'microsoft', 'cherry', 'google'}\n"
     ]
    }
   ],
   "source": [
    "set1 = {\"apple\", \"banana\", \"cherry\"}\n",
    "set2 = {\"google\", \"microsoft\", \"apple\"}\n",
    "\n",
    "set3 = set1.symmetric_difference(set2)\n",
    "\n",
    "print(set3)"
   ]
  },
  {
   "cell_type": "markdown",
   "id": "d00cfecd-d2cf-414f-b8d9-a3611f8b5f33",
   "metadata": {},
   "source": [
    "task 137"
   ]
  },
  {
   "cell_type": "code",
   "execution_count": 191,
   "id": "6e0f94ba-c97f-4ea0-8acd-2e7af3f22f8e",
   "metadata": {},
   "outputs": [
    {
     "name": "stdout",
     "output_type": "stream",
     "text": [
      "{'banana', 'microsoft', 'cherry', 'google'}\n"
     ]
    }
   ],
   "source": [
    "#You can use the ^ operator instead of the symmetric_difference() method, and you will get the same result.\n",
    "set1 = {\"apple\", \"banana\", \"cherry\"}\n",
    "set2 = {\"google\", \"microsoft\", \"apple\"}\n",
    "\n",
    "set3 = set1 ^ set2\n",
    "print(set3)"
   ]
  },
  {
   "cell_type": "markdown",
   "id": "f5deed39-0c7a-46a0-96e0-9e68e42193a1",
   "metadata": {},
   "source": [
    "task 138"
   ]
  },
  {
   "cell_type": "code",
   "execution_count": 192,
   "id": "c8a71ed0-2970-4215-8cac-1ad1d62f6541",
   "metadata": {},
   "outputs": [
    {
     "name": "stdout",
     "output_type": "stream",
     "text": [
      "{'banana', 'microsoft', 'google', 'cherry'}\n"
     ]
    }
   ],
   "source": [
    "set1 = {\"apple\", \"banana\", \"cherry\"}\n",
    "set2 = {\"google\", \"microsoft\", \"apple\"}\n",
    "\n",
    "set1.symmetric_difference_update(set2)\n",
    "\n",
    "print(set1)"
   ]
  },
  {
   "cell_type": "markdown",
   "id": "1796a732-0dfd-4043-9a13-8d7bab171666",
   "metadata": {},
   "source": [
    "task 139"
   ]
  },
  {
   "cell_type": "code",
   "execution_count": 193,
   "id": "290bf048-08bc-4b8d-8fc1-6c9f87f6f698",
   "metadata": {},
   "outputs": [
    {
     "name": "stdout",
     "output_type": "stream",
     "text": [
      "{'brand': 'Ford', 'model': 'Mustang', 'year': 1964}\n"
     ]
    }
   ],
   "source": [
    "thisdict = {\n",
    "  \"brand\": \"Ford\",\n",
    "  \"model\": \"Mustang\",\n",
    "  \"year\": 1964\n",
    "}\n",
    "print(thisdict)"
   ]
  },
  {
   "cell_type": "markdown",
   "id": "fdb7daf3-dd27-46f3-9719-49abd7fa6a30",
   "metadata": {},
   "source": [
    "task 140"
   ]
  },
  {
   "cell_type": "code",
   "execution_count": 195,
   "id": "62b21173-19cd-4baf-94f1-4347f9a3714e",
   "metadata": {},
   "outputs": [
    {
     "name": "stdout",
     "output_type": "stream",
     "text": [
      "Ford\n"
     ]
    }
   ],
   "source": [
    "thisdict = {\n",
    "  \"brand\": \"Ford\",\n",
    "  \"model\": \"Mustang\",\n",
    "  \"year\": 1964\n",
    "}\n",
    "print(thisdict[\"brand\"])"
   ]
  },
  {
   "cell_type": "markdown",
   "id": "abcd84d7-36c3-48a6-87ea-5ff36b946953",
   "metadata": {},
   "source": [
    "task 141"
   ]
  },
  {
   "cell_type": "code",
   "execution_count": 196,
   "id": "a94b8ff6-5bbb-43dd-81f4-e8240a61e93a",
   "metadata": {},
   "outputs": [
    {
     "name": "stdout",
     "output_type": "stream",
     "text": [
      "{'brand': 'Ford', 'model': 'Mustang', 'year': 2020}\n"
     ]
    }
   ],
   "source": [
    "thisdict = {\n",
    "  \"brand\": \"Ford\",\n",
    "  \"model\": \"Mustang\",\n",
    "  \"year\": 1964,\n",
    "  \"year\": 2020\n",
    "}\n",
    "print(thisdict)"
   ]
  },
  {
   "cell_type": "markdown",
   "id": "9522b80e-8aa7-4c71-975f-33a58827e4a0",
   "metadata": {},
   "source": [
    "task 142"
   ]
  },
  {
   "cell_type": "code",
   "execution_count": 197,
   "id": "aa06db06-45ca-489d-98f0-67433e1ba607",
   "metadata": {},
   "outputs": [
    {
     "name": "stdout",
     "output_type": "stream",
     "text": [
      "{'brand': 'Ford', 'electric': False, 'year': 1964, 'colors': ['red', 'white', 'blue']}\n"
     ]
    }
   ],
   "source": [
    "thisdict = {\n",
    "  \"brand\": \"Ford\",\n",
    "  \"electric\": False,\n",
    "  \"year\": 1964,\n",
    "  \"colors\": [\"red\", \"white\", \"blue\"]\n",
    "}\n",
    "\n",
    "print(thisdict)\n"
   ]
  },
  {
   "cell_type": "markdown",
   "id": "5fa4b151-72bd-4b07-a949-4fb975429fe0",
   "metadata": {},
   "source": [
    "TASK !$#"
   ]
  },
  {
   "cell_type": "code",
   "execution_count": 198,
   "id": "069559ba-e8bc-4c93-8368-3d975e334468",
   "metadata": {},
   "outputs": [
    {
     "name": "stdout",
     "output_type": "stream",
     "text": [
      "<class 'dict'>\n"
     ]
    }
   ],
   "source": [
    "thisdict = {\n",
    "  \"brand\": \"Ford\",\n",
    "  \"model\": \"Mustang\",\n",
    "  \"year\": 1964\n",
    "}\n",
    "print(type(thisdict))"
   ]
  },
  {
   "cell_type": "markdown",
   "id": "60de04c0-c756-4f4d-91fe-9673305f0e22",
   "metadata": {},
   "source": [
    "task 144"
   ]
  },
  {
   "cell_type": "code",
   "execution_count": 199,
   "id": "833bb403-88d1-4ba5-af5d-dd762e26150d",
   "metadata": {},
   "outputs": [
    {
     "name": "stdout",
     "output_type": "stream",
     "text": [
      "{'name': 'John', 'age': 36, 'country': 'Norway'}\n"
     ]
    }
   ],
   "source": [
    "thisdict = dict(name = \"John\", age = 36, country = \"Norway\")\n",
    "print(thisdict)"
   ]
  },
  {
   "cell_type": "markdown",
   "id": "e4643a61-1460-4558-b201-b414e84962df",
   "metadata": {},
   "source": [
    "task 145"
   ]
  },
  {
   "cell_type": "code",
   "execution_count": 201,
   "id": "acd0e8a4-6cad-4629-9c41-7e102e50cff8",
   "metadata": {},
   "outputs": [
    {
     "name": "stdout",
     "output_type": "stream",
     "text": [
      "Mustang\n"
     ]
    }
   ],
   "source": [
    "thisdict =\t{\n",
    "  \"brand\": \"Ford\",\n",
    "  \"model\": \"Mustang\",\n",
    "  \"year\": 1964\n",
    "}\n",
    "x = thisdict.get(\"model\")\n",
    "print(x)\n"
   ]
  },
  {
   "cell_type": "markdown",
   "id": "41ff4b18-4abf-4b6b-9229-9bafb83a9fa2",
   "metadata": {},
   "source": [
    "task 146"
   ]
  },
  {
   "cell_type": "code",
   "execution_count": 202,
   "id": "e7fa92da-3234-4e70-8022-0bb9fcb986f2",
   "metadata": {},
   "outputs": [
    {
     "name": "stdout",
     "output_type": "stream",
     "text": [
      "dict_keys(['brand', 'model', 'year'])\n"
     ]
    }
   ],
   "source": [
    "thisdict = {\n",
    "  \"brand\": \"Ford\",\n",
    "  \"model\": \"Mustang\",\n",
    "  \"year\": 1964\n",
    "}\n",
    "\n",
    "x = thisdict.keys()\n",
    "\n",
    "print(x)\n"
   ]
  },
  {
   "cell_type": "markdown",
   "id": "2e2ba59e-47c0-4a47-9d7b-342c4ce7b143",
   "metadata": {},
   "source": [
    "task 147"
   ]
  },
  {
   "cell_type": "code",
   "execution_count": 203,
   "id": "79c3b284-9e04-4a4c-9da2-7bfa89a5d4c1",
   "metadata": {},
   "outputs": [
    {
     "name": "stdout",
     "output_type": "stream",
     "text": [
      "dict_keys(['brand', 'model', 'year'])\n",
      "dict_keys(['brand', 'model', 'year', 'color'])\n"
     ]
    }
   ],
   "source": [
    "car = {\n",
    "\"brand\": \"Ford\",\n",
    "\"model\": \"Mustang\",\n",
    "\"year\": 1964\n",
    "}\n",
    "\n",
    "x = car.keys()\n",
    "\n",
    "print(x) \n",
    "\n",
    "car[\"color\"] = \"white\"\n",
    "\n",
    "print(x)"
   ]
  },
  {
   "cell_type": "markdown",
   "id": "c37813f7-5832-4382-bb49-da5df3fa8447",
   "metadata": {},
   "source": [
    "task 148"
   ]
  },
  {
   "cell_type": "code",
   "execution_count": 204,
   "id": "ed577765-3295-47cd-995a-2877f8f3c0de",
   "metadata": {},
   "outputs": [
    {
     "name": "stdout",
     "output_type": "stream",
     "text": [
      "dict_values(['Ford', 'Mustang', 1964])\n"
     ]
    }
   ],
   "source": [
    "thisdict = {\n",
    "  \"brand\": \"Ford\",\n",
    "  \"model\": \"Mustang\",\n",
    "  \"year\": 1964\n",
    "}\n",
    "\n",
    "x = thisdict.values()\n",
    "\n",
    "print(x)"
   ]
  },
  {
   "cell_type": "markdown",
   "id": "51276471-9613-49ab-899a-b308189a4909",
   "metadata": {},
   "source": [
    "task 149"
   ]
  },
  {
   "cell_type": "code",
   "execution_count": 205,
   "id": "62e09de8-a6da-41b4-a662-ab66d1eefdb4",
   "metadata": {},
   "outputs": [
    {
     "name": "stdout",
     "output_type": "stream",
     "text": [
      "dict_values(['Ford', 'Mustang', 1964])\n",
      "dict_values(['Ford', 'Mustang', 2020])\n"
     ]
    }
   ],
   "source": [
    "car = {\n",
    "\"brand\": \"Ford\",\n",
    "\"model\": \"Mustang\",\n",
    "\"year\": 1964\n",
    "}\n",
    "\n",
    "x = car.values()\n",
    "\n",
    "print(x)\n",
    "\n",
    "car[\"year\"] = 2020\n",
    "\n",
    "print(x)"
   ]
  },
  {
   "cell_type": "markdown",
   "id": "db9b8a69-d755-46ea-b7b2-f25c2266c9b8",
   "metadata": {},
   "source": [
    "task 150"
   ]
  },
  {
   "cell_type": "code",
   "execution_count": 206,
   "id": "e3f4c196-1189-4e84-8a10-6d438a57f114",
   "metadata": {},
   "outputs": [
    {
     "name": "stdout",
     "output_type": "stream",
     "text": [
      "dict_items([('brand', 'Ford'), ('model', 'Mustang'), ('year', 1964)])\n"
     ]
    }
   ],
   "source": [
    "thisdict = {\n",
    "  \"brand\": \"Ford\",\n",
    "  \"model\": \"Mustang\",\n",
    "  \"year\": 1964\n",
    "}\n",
    "\n",
    "x = thisdict.items()\n",
    "\n",
    "print(x)\n"
   ]
  },
  {
   "cell_type": "markdown",
   "id": "a1ea2481-8268-42ed-8dbb-42829475762f",
   "metadata": {},
   "source": [
    "task 151"
   ]
  },
  {
   "cell_type": "code",
   "execution_count": 207,
   "id": "75308448-0ece-4753-a42f-6e5cc8be7dcd",
   "metadata": {},
   "outputs": [
    {
     "name": "stdout",
     "output_type": "stream",
     "text": [
      "Yes, 'model' is one of the keys in the thisdict dictionary\n"
     ]
    }
   ],
   "source": [
    "thisdict = {\n",
    "  \"brand\": \"Ford\",\n",
    "  \"model\": \"Mustang\",\n",
    "  \"year\": 1964\n",
    "}\n",
    "if \"model\" in thisdict:\n",
    "  print(\"Yes, 'model' is one of the keys in the thisdict dictionary\")"
   ]
  },
  {
   "cell_type": "markdown",
   "id": "050cc418-131e-4e46-9142-07bf4bdc4ba1",
   "metadata": {},
   "source": [
    "task 152"
   ]
  },
  {
   "cell_type": "code",
   "execution_count": 208,
   "id": "8d5d80a4-c448-4168-b2c1-c4ee87d45f08",
   "metadata": {},
   "outputs": [],
   "source": [
    "thisdict = {\n",
    "  \"brand\": \"Ford\",\n",
    "  \"model\": \"Mustang\",\n",
    "  \"year\": 1964\n",
    "}\n",
    "thisdict.update({\"year\": 2020})"
   ]
  },
  {
   "cell_type": "markdown",
   "id": "9a80e0a3-9a57-417a-b55c-12819b6e4282",
   "metadata": {},
   "source": [
    "task 153"
   ]
  },
  {
   "cell_type": "code",
   "execution_count": 209,
   "id": "b8d16191-7dca-4491-909e-f3941bc7dbf9",
   "metadata": {},
   "outputs": [
    {
     "name": "stdout",
     "output_type": "stream",
     "text": [
      "{'brand': 'Ford', 'model': 'Mustang', 'year': 1964, 'color': 'red'}\n"
     ]
    }
   ],
   "source": [
    "thisdict = {\n",
    "  \"brand\": \"Ford\",\n",
    "  \"model\": \"Mustang\",\n",
    "  \"year\": 1964\n",
    "}\n",
    "thisdict[\"color\"] = \"red\"\n",
    "print(thisdict)"
   ]
  },
  {
   "cell_type": "markdown",
   "id": "a6611844-939f-4f7e-9b45-2716505593ac",
   "metadata": {},
   "source": [
    "task 154"
   ]
  },
  {
   "cell_type": "code",
   "execution_count": 210,
   "id": "34a4eb46-4c2d-4de3-8f74-de9f960a4fbd",
   "metadata": {},
   "outputs": [
    {
     "name": "stdout",
     "output_type": "stream",
     "text": [
      "{'brand': 'Ford', 'year': 1964}\n"
     ]
    }
   ],
   "source": [
    "thisdict = {\n",
    "  \"brand\": \"Ford\",\n",
    "  \"model\": \"Mustang\",\n",
    "  \"year\": 1964\n",
    "}\n",
    "thisdict.pop(\"model\")\n",
    "print(thisdict)"
   ]
  },
  {
   "cell_type": "markdown",
   "id": "ab09450d-2275-4894-8e8e-4e4c6330c107",
   "metadata": {},
   "source": [
    "task 155"
   ]
  },
  {
   "cell_type": "code",
   "execution_count": 211,
   "id": "7b651ac5-7779-4a15-873b-f29395f400da",
   "metadata": {},
   "outputs": [
    {
     "name": "stdout",
     "output_type": "stream",
     "text": [
      "{'brand': 'Ford', 'model': 'Mustang'}\n"
     ]
    }
   ],
   "source": [
    "#the last element\n",
    "thisdict = {\n",
    "  \"brand\": \"Ford\",\n",
    "  \"model\": \"Mustang\",\n",
    "  \"year\": 1964\n",
    "}\n",
    "thisdict.popitem()\n",
    "print(thisdict)"
   ]
  },
  {
   "cell_type": "markdown",
   "id": "3fdb1d42-b5d1-4d84-bc69-37ea911be7f6",
   "metadata": {},
   "source": [
    "task 156"
   ]
  },
  {
   "cell_type": "code",
   "execution_count": 212,
   "id": "485656d6-fc92-4705-aa2c-fd1868739d9a",
   "metadata": {},
   "outputs": [
    {
     "name": "stdout",
     "output_type": "stream",
     "text": [
      "{'brand': 'Ford', 'year': 1964}\n"
     ]
    }
   ],
   "source": [
    "thisdict = {\n",
    "  \"brand\": \"Ford\",\n",
    "  \"model\": \"Mustang\",\n",
    "  \"year\": 1964\n",
    "}\n",
    "del thisdict[\"model\"]\n",
    "print(thisdict)"
   ]
  },
  {
   "cell_type": "markdown",
   "id": "0e88b2e9-6d4a-4bbe-9b99-c6387f378cf7",
   "metadata": {},
   "source": [
    "task 157"
   ]
  },
  {
   "cell_type": "code",
   "execution_count": 213,
   "id": "884d2ad5-97c6-48ba-a7b4-dbe7e4e61303",
   "metadata": {},
   "outputs": [
    {
     "name": "stdout",
     "output_type": "stream",
     "text": [
      "{}\n"
     ]
    }
   ],
   "source": [
    "thisdict = {\n",
    "  \"brand\": \"Ford\",\n",
    "  \"model\": \"Mustang\",\n",
    "  \"year\": 1964\n",
    "}\n",
    "thisdict.clear()\n",
    "print(thisdict)"
   ]
  },
  {
   "cell_type": "markdown",
   "id": "988d6ebf-e7bf-4933-9ea4-94a59daf785d",
   "metadata": {},
   "source": [
    "task 158"
   ]
  },
  {
   "cell_type": "code",
   "execution_count": 214,
   "id": "8de57f43-51fd-4e30-b96d-b1a42a1412e7",
   "metadata": {},
   "outputs": [
    {
     "name": "stdout",
     "output_type": "stream",
     "text": [
      "brand\n",
      "model\n",
      "year\n"
     ]
    }
   ],
   "source": [
    "thisdict =\t{\n",
    "  \"brand\": \"Ford\",\n",
    "  \"model\": \"Mustang\",\n",
    "  \"year\": 1964\n",
    "}\n",
    "for x in thisdict:\n",
    "  print(x)"
   ]
  },
  {
   "cell_type": "markdown",
   "id": "5fa5775c-d5b6-4c02-bf73-4272f4015313",
   "metadata": {},
   "source": [
    "task 159"
   ]
  },
  {
   "cell_type": "code",
   "execution_count": 215,
   "id": "aa5719fc-8567-4349-941d-f93b029f478b",
   "metadata": {},
   "outputs": [
    {
     "name": "stdout",
     "output_type": "stream",
     "text": [
      "Ford\n",
      "Mustang\n",
      "1964\n"
     ]
    }
   ],
   "source": [
    "thisdict =\t{\n",
    "  \"brand\": \"Ford\",\n",
    "  \"model\": \"Mustang\",\n",
    "  \"year\": 1964\n",
    "}\n",
    "for x in thisdict:\n",
    "  print(thisdict[x])"
   ]
  },
  {
   "cell_type": "markdown",
   "id": "4e77c839-884e-4b4d-80ea-ada7ad4c007e",
   "metadata": {},
   "source": [
    "task 160"
   ]
  },
  {
   "cell_type": "code",
   "execution_count": 216,
   "id": "f9c3c9eb-8f20-4ea5-9bda-d6f617e05957",
   "metadata": {},
   "outputs": [
    {
     "name": "stdout",
     "output_type": "stream",
     "text": [
      "Ford\n",
      "Mustang\n",
      "1964\n"
     ]
    }
   ],
   "source": [
    "thisdict =\t{\n",
    "  \"brand\": \"Ford\",\n",
    "  \"model\": \"Mustang\",\n",
    "  \"year\": 1964\n",
    "}\n",
    "for x in thisdict.values():\n",
    "  print(x)\n"
   ]
  },
  {
   "cell_type": "markdown",
   "id": "bb4ddaae-d810-4084-945f-52c780089276",
   "metadata": {},
   "source": [
    "task 161"
   ]
  },
  {
   "cell_type": "code",
   "execution_count": 217,
   "id": "01ed9c72-b8ac-49df-8ce2-2792220d6f27",
   "metadata": {},
   "outputs": [
    {
     "name": "stdout",
     "output_type": "stream",
     "text": [
      "brand Ford\n",
      "model Mustang\n",
      "year 1964\n"
     ]
    }
   ],
   "source": [
    "thisdict =\t{\n",
    "  \"brand\": \"Ford\",\n",
    "  \"model\": \"Mustang\",\n",
    "  \"year\": 1964\n",
    "}\n",
    "for x, y in thisdict.items():\n",
    "  print(x, y)\n"
   ]
  },
  {
   "cell_type": "markdown",
   "id": "ce6afbe6-54f4-4dc8-ad8a-adca1960fbb7",
   "metadata": {},
   "source": [
    "task 162"
   ]
  },
  {
   "cell_type": "code",
   "execution_count": 218,
   "id": "6ab7a346-f557-4b24-9eb6-d7f1c5dbf604",
   "metadata": {},
   "outputs": [
    {
     "name": "stdout",
     "output_type": "stream",
     "text": [
      "{'brand': 'Ford', 'model': 'Mustang', 'year': 1964}\n"
     ]
    }
   ],
   "source": [
    "#only copy()\n",
    "\n",
    "thisdict = {\n",
    "  \"brand\": \"Ford\",\n",
    "  \"model\": \"Mustang\",\n",
    "  \"year\": 1964\n",
    "}\n",
    "mydict = thisdict.copy()\n",
    "print(mydict)"
   ]
  },
  {
   "cell_type": "markdown",
   "id": "cf3ae6ac-89b2-446c-93c6-faca32b9af77",
   "metadata": {},
   "source": [
    "task 163"
   ]
  },
  {
   "cell_type": "code",
   "execution_count": 219,
   "id": "1373f13a-d68e-4c79-8b84-e2d049a195a5",
   "metadata": {},
   "outputs": [
    {
     "name": "stdout",
     "output_type": "stream",
     "text": [
      "{'brand': 'Ford', 'model': 'Mustang', 'year': 1964}\n"
     ]
    }
   ],
   "source": [
    "#or dict()\n",
    "thisdict = {\n",
    "  \"brand\": \"Ford\",\n",
    "  \"model\": \"Mustang\",\n",
    "  \"year\": 1964\n",
    "}\n",
    "mydict = dict(thisdict)\n",
    "print(mydict)"
   ]
  },
  {
   "cell_type": "markdown",
   "id": "c93bd362-d96e-40da-bd55-b15b16e4b2f9",
   "metadata": {},
   "source": [
    "task 164"
   ]
  },
  {
   "cell_type": "code",
   "execution_count": 221,
   "id": "cc5ae473-6a1c-4834-a7bb-d4e3cc1ea95b",
   "metadata": {},
   "outputs": [
    {
     "name": "stdout",
     "output_type": "stream",
     "text": [
      "{'child1': {'name': 'Emil', 'year': 2004}, 'child2': {'name': 'Tobias', 'year': 2007}, 'child3': {'name': 'Linus', 'year': 2011}}\n"
     ]
    }
   ],
   "source": [
    "myfamily = {\n",
    "  \"child1\" : {\n",
    "    \"name\" : \"Emil\",\n",
    "    \"year\" : 2004\n",
    "  },\n",
    "  \"child2\" : {\n",
    "    \"name\" : \"Tobias\",\n",
    "    \"year\" : 2007\n",
    "  },\n",
    "  \"child3\" : {\n",
    "    \"name\" : \"Linus\",\n",
    "    \"year\" : 2011\n",
    "  }\n",
    "}\n",
    "\n",
    "print(myfamily)"
   ]
  },
  {
   "cell_type": "markdown",
   "id": "0afb0ab1-41d9-4d47-8e9c-36e4fe162aa6",
   "metadata": {},
   "source": [
    "task 165"
   ]
  },
  {
   "cell_type": "code",
   "execution_count": 222,
   "id": "13a0feea-8557-4eac-8da5-b377ce2614b1",
   "metadata": {},
   "outputs": [
    {
     "name": "stdout",
     "output_type": "stream",
     "text": [
      "{'child1': {'name': 'Emil', 'year': 2004}, 'child2': {'name': 'Tobias', 'year': 2007}, 'child3': {'name': 'Linus', 'year': 2011}}\n"
     ]
    }
   ],
   "source": [
    "#another way, to unite\n",
    "child1 = {\n",
    "  \"name\" : \"Emil\",\n",
    "  \"year\" : 2004\n",
    "}\n",
    "child2 = {\n",
    "  \"name\" : \"Tobias\",\n",
    "  \"year\" : 2007\n",
    "}\n",
    "child3 = {\n",
    "  \"name\" : \"Linus\",\n",
    "  \"year\" : 2011\n",
    "}\n",
    "\n",
    "myfamily = {\n",
    "  \"child1\" : child1,\n",
    "  \"child2\" : child2,\n",
    "  \"child3\" : child3\n",
    "}\n",
    "print(myfamily)"
   ]
  },
  {
   "cell_type": "markdown",
   "id": "42616fe9-8a16-435a-9c74-bb3e59e51ea2",
   "metadata": {},
   "source": [
    "task 166"
   ]
  },
  {
   "cell_type": "code",
   "execution_count": 224,
   "id": "b169a027-eda3-4126-b4a3-365ed2b1a273",
   "metadata": {},
   "outputs": [
    {
     "name": "stdout",
     "output_type": "stream",
     "text": [
      "Tobias\n"
     ]
    }
   ],
   "source": [
    "#to choose option\n",
    "\n",
    "child1 = {\n",
    "  \"name\" : \"Emil\",\n",
    "  \"year\" : 2004\n",
    "}\n",
    "child2 = {\n",
    "  \"name\" : \"Tobias\",\n",
    "  \"year\" : 2007\n",
    "}\n",
    "child3 = {\n",
    "  \"name\" : \"Linus\",\n",
    "  \"year\" : 2011\n",
    "}\n",
    "\n",
    "myfamily = {\n",
    "  \"child1\" : child1,\n",
    "  \"child2\" : child2,\n",
    "  \"child3\" : child3\n",
    "}\n",
    "\n",
    "print(myfamily[\"child2\"][\"name\"])"
   ]
  },
  {
   "cell_type": "markdown",
   "id": "4ac52108-58c2-465b-88af-5c4c9f3082da",
   "metadata": {},
   "source": [
    "task 167 ifelse"
   ]
  },
  {
   "cell_type": "code",
   "execution_count": 225,
   "id": "d02450e7-dfb7-4755-ab75-15a53a18e17e",
   "metadata": {},
   "outputs": [
    {
     "name": "stdout",
     "output_type": "stream",
     "text": [
      "a and b are equal\n"
     ]
    }
   ],
   "source": [
    "a = 33\n",
    "b = 33\n",
    "if b > a:\n",
    "  print(\"b is greater than a\")\n",
    "elif a == b:\n",
    "  print(\"a and b are equal\")"
   ]
  },
  {
   "cell_type": "markdown",
   "id": "aad5682b-f58c-469e-8214-46b6e49d1526",
   "metadata": {},
   "source": [
    "task 168"
   ]
  },
  {
   "cell_type": "code",
   "execution_count": 226,
   "id": "831e842c-130e-4626-835a-7fe6546ede54",
   "metadata": {},
   "outputs": [
    {
     "name": "stdout",
     "output_type": "stream",
     "text": [
      "a is greater than b\n"
     ]
    }
   ],
   "source": [
    "a = 200\n",
    "b = 33\n",
    "if b > a:\n",
    "  print(\"b is greater than a\")\n",
    "elif a == b:\n",
    "  print(\"a and b are equal\")\n",
    "else:\n",
    "  print(\"a is greater than b\")"
   ]
  },
  {
   "cell_type": "markdown",
   "id": "b97e9554-81de-4965-9775-e6d262492daf",
   "metadata": {},
   "source": [
    "task 169"
   ]
  },
  {
   "cell_type": "code",
   "execution_count": 228,
   "id": "85c65c2c-970b-4c43-8d93-d9208fbd62a0",
   "metadata": {},
   "outputs": [
    {
     "name": "stdout",
     "output_type": "stream",
     "text": [
      "b is not greater than a\n"
     ]
    }
   ],
   "source": [
    "a = 200\n",
    "b = 33\n",
    "if b > a:\n",
    "  print(\"b is greater than a\")\n",
    "else:\n",
    "  print(\"b is not greater than a\")"
   ]
  },
  {
   "cell_type": "markdown",
   "id": "bed2b63d-b997-4704-9f91-23970dbe3f9e",
   "metadata": {},
   "source": [
    "task 170"
   ]
  },
  {
   "cell_type": "code",
   "execution_count": 229,
   "id": "9a46b4c2-0fc3-418d-8815-ee3d4a98e536",
   "metadata": {},
   "outputs": [
    {
     "name": "stdout",
     "output_type": "stream",
     "text": [
      "a is greater than b\n"
     ]
    }
   ],
   "source": [
    "#one line\n",
    "a = 200\n",
    "b = 33\n",
    "\n",
    "if a > b: print(\"a is greater than b\")\n"
   ]
  },
  {
   "cell_type": "markdown",
   "id": "d4549bae-93a8-49ca-b8b5-a8cdd3a2b670",
   "metadata": {},
   "source": [
    "task 171"
   ]
  },
  {
   "cell_type": "code",
   "execution_count": 230,
   "id": "8ee5398e-7397-418b-84a7-0223a0d85a8b",
   "metadata": {},
   "outputs": [
    {
     "name": "stdout",
     "output_type": "stream",
     "text": [
      "B\n"
     ]
    }
   ],
   "source": [
    "a = 2\n",
    "b = 330\n",
    "print(\"A\") if a > b else print(\"B\")"
   ]
  },
  {
   "cell_type": "markdown",
   "id": "ee55ba19-8882-4cc4-b134-bd60de556308",
   "metadata": {},
   "source": [
    "task 172"
   ]
  },
  {
   "cell_type": "code",
   "execution_count": 231,
   "id": "ff3b0fd2-10f8-40ac-b086-5d5f0a3e6602",
   "metadata": {},
   "outputs": [
    {
     "name": "stdout",
     "output_type": "stream",
     "text": [
      "=\n"
     ]
    }
   ],
   "source": [
    "a = 330\n",
    "b = 330\n",
    "print(\"A\") if a > b else print(\"=\") if a == b else print(\"B\")"
   ]
  },
  {
   "cell_type": "markdown",
   "id": "ccf8c194-31c9-411f-a921-ae3c9da43932",
   "metadata": {},
   "source": [
    "task 173"
   ]
  },
  {
   "cell_type": "code",
   "execution_count": 232,
   "id": "70106ce1-427e-4fe4-8443-7346466a33e3",
   "metadata": {},
   "outputs": [
    {
     "name": "stdout",
     "output_type": "stream",
     "text": [
      "Both conditions are True\n"
     ]
    }
   ],
   "source": [
    "#logical and\n",
    "\n",
    "a = 200\n",
    "b = 33\n",
    "c = 500\n",
    "if a > b and c > a:\n",
    "  print(\"Both conditions are True\")"
   ]
  },
  {
   "cell_type": "markdown",
   "id": "cd51291b-84cc-41af-adc8-78d23f60c795",
   "metadata": {},
   "source": [
    "task 174"
   ]
  },
  {
   "cell_type": "code",
   "execution_count": 233,
   "id": "a6d09915-3d40-4b45-b5d9-347de34d9478",
   "metadata": {},
   "outputs": [
    {
     "name": "stdout",
     "output_type": "stream",
     "text": [
      "At least one of the conditions is True\n"
     ]
    }
   ],
   "source": [
    "a = 200\n",
    "b = 33\n",
    "c = 500\n",
    "if a > b or a > c:\n",
    "  print(\"At least one of the conditions is True\")\n",
    "    #logical or"
   ]
  },
  {
   "cell_type": "markdown",
   "id": "890a683f-0496-4b80-a804-efb54a283778",
   "metadata": {},
   "source": [
    "task 175"
   ]
  },
  {
   "cell_type": "code",
   "execution_count": 234,
   "id": "ffb88080-a569-49b8-a9d6-81af7e3453eb",
   "metadata": {},
   "outputs": [
    {
     "name": "stdout",
     "output_type": "stream",
     "text": [
      "a is NOT greater than b\n"
     ]
    }
   ],
   "source": [
    "a = 33\n",
    "b = 200\n",
    "if not a > b:\n",
    "  print(\"a is NOT greater than b\")"
   ]
  },
  {
   "cell_type": "markdown",
   "id": "b5bfc458-96b8-4286-a530-7f347501eddf",
   "metadata": {},
   "source": [
    "task 176"
   ]
  },
  {
   "cell_type": "code",
   "execution_count": 235,
   "id": "d097608d-b6ca-4d19-b558-d2498b42523b",
   "metadata": {},
   "outputs": [
    {
     "name": "stdout",
     "output_type": "stream",
     "text": [
      "Above ten,\n",
      "and also above 20!\n"
     ]
    }
   ],
   "source": [
    "#double if\n",
    "x = 41\n",
    "\n",
    "if x > 10:\n",
    "  print(\"Above ten,\")\n",
    "  if x > 20:\n",
    "    print(\"and also above 20!\")\n",
    "  else:\n",
    "    print(\"but not above 20.\")"
   ]
  },
  {
   "cell_type": "markdown",
   "id": "ba730652-a8f2-4c3d-9a8f-43f3f89567d0",
   "metadata": {},
   "source": [
    "task 177"
   ]
  },
  {
   "cell_type": "code",
   "execution_count": 236,
   "id": "1c3f816b-42bb-4811-872d-9de11ed8420c",
   "metadata": {},
   "outputs": [],
   "source": [
    "#if statements cannot be empty, but if you for some reason have an if statement with no content, put in the pass statement to avoid getting an error.\n",
    "\n",
    "a = 33\n",
    "b = 200\n",
    "\n",
    "if b > a:\n",
    "  pass"
   ]
  },
  {
   "cell_type": "markdown",
   "id": "b761b9eb-fb0c-4c35-b2c6-3f42c9764076",
   "metadata": {},
   "source": [
    "task 178"
   ]
  },
  {
   "cell_type": "code",
   "execution_count": 237,
   "id": "d49cd5e5-80d6-4b29-ae21-331ae6cbf955",
   "metadata": {},
   "outputs": [
    {
     "name": "stdout",
     "output_type": "stream",
     "text": [
      "1\n",
      "2\n",
      "3\n",
      "4\n",
      "5\n"
     ]
    }
   ],
   "source": [
    "i = 1\n",
    "while i < 6:\n",
    "  print(i)\n",
    "  i += 1"
   ]
  },
  {
   "cell_type": "markdown",
   "id": "5b4cc08c-85d3-4a0b-8df8-1f1cd8f7ea6e",
   "metadata": {},
   "source": [
    "task 179"
   ]
  },
  {
   "cell_type": "code",
   "execution_count": 238,
   "id": "e8c2baad-eb84-4d29-9039-1e72dbecf5a1",
   "metadata": {},
   "outputs": [
    {
     "name": "stdout",
     "output_type": "stream",
     "text": [
      "1\n",
      "2\n",
      "3\n"
     ]
    }
   ],
   "source": [
    "i = 1\n",
    "while i < 6:\n",
    "  print(i)\n",
    "  if i == 3:\n",
    "    break\n",
    "  i += 1"
   ]
  },
  {
   "cell_type": "markdown",
   "id": "f55e41c9-c0cf-4a68-8af2-42b30d013b7d",
   "metadata": {},
   "source": [
    "task 180"
   ]
  },
  {
   "cell_type": "code",
   "execution_count": 239,
   "id": "4f651da3-bedf-46cd-8422-86ade1a3e283",
   "metadata": {},
   "outputs": [
    {
     "name": "stdout",
     "output_type": "stream",
     "text": [
      "1\n",
      "2\n",
      "4\n",
      "5\n",
      "6\n"
     ]
    }
   ],
   "source": [
    "i = 0\n",
    "while i < 6:\n",
    "  i += 1\n",
    "  if i == 3:\n",
    "    continue\n",
    "  print(i)"
   ]
  },
  {
   "cell_type": "markdown",
   "id": "64c7418d-0c71-4a85-981f-691c841ef6d8",
   "metadata": {},
   "source": [
    "task 181"
   ]
  },
  {
   "cell_type": "code",
   "execution_count": 240,
   "id": "00838c0b-9747-4b64-b1e6-a83cb043dedd",
   "metadata": {},
   "outputs": [
    {
     "name": "stdout",
     "output_type": "stream",
     "text": [
      "apple\n",
      "banana\n",
      "cherry\n"
     ]
    }
   ],
   "source": [
    "fruits = [\"apple\", \"banana\", \"cherry\"]\n",
    "for x in fruits:\n",
    "  print(x)\n",
    "    "
   ]
  },
  {
   "cell_type": "markdown",
   "id": "4120a968-0e4a-43a8-a3ab-3b765c97a24a",
   "metadata": {},
   "source": [
    "tasl 182"
   ]
  },
  {
   "cell_type": "code",
   "execution_count": 241,
   "id": "1a295f00-c9b0-4133-921d-8cc0a81293f3",
   "metadata": {},
   "outputs": [
    {
     "name": "stdout",
     "output_type": "stream",
     "text": [
      "b\n",
      "a\n",
      "n\n",
      "a\n",
      "n\n",
      "a\n"
     ]
    }
   ],
   "source": [
    "for x in \"banana\":\n",
    "  print(x) \n"
   ]
  },
  {
   "cell_type": "markdown",
   "id": "0ce9526b-bc0a-406b-a50e-5a707caa8ed8",
   "metadata": {},
   "source": [
    "task 183"
   ]
  },
  {
   "cell_type": "code",
   "execution_count": 242,
   "id": "9ab9957a-0b49-4e7a-9b51-80dc11f25dc4",
   "metadata": {},
   "outputs": [
    {
     "name": "stdout",
     "output_type": "stream",
     "text": [
      "apple\n",
      "banana\n"
     ]
    }
   ],
   "source": [
    "fruits = [\"apple\", \"banana\", \"cherry\"]\n",
    "for x in fruits:\n",
    "  print(x)\n",
    "  if x == \"banana\":\n",
    "    break"
   ]
  },
  {
   "cell_type": "markdown",
   "id": "682c9c50-32bf-463a-8554-b3acaec9a58a",
   "metadata": {},
   "source": [
    "task 184"
   ]
  },
  {
   "cell_type": "code",
   "execution_count": 244,
   "id": "3cc55f50-338e-4342-8821-5f5bee19e8bb",
   "metadata": {},
   "outputs": [
    {
     "name": "stdout",
     "output_type": "stream",
     "text": [
      "apple\n",
      "BANANA\n"
     ]
    }
   ],
   "source": [
    "fruits = [\"apple\",\"BANANA\", \"banana\", \"cherry\"]\n",
    "for x in fruits:\n",
    "  if x == \"banana\":\n",
    "    break\n",
    "  print(x)"
   ]
  },
  {
   "cell_type": "markdown",
   "id": "ee858553-ed5e-4c76-908f-622a97736215",
   "metadata": {},
   "source": [
    "task 185"
   ]
  },
  {
   "cell_type": "code",
   "execution_count": 245,
   "id": "f8e363ed-3f1e-43a3-84ae-f022be0f786f",
   "metadata": {},
   "outputs": [
    {
     "name": "stdout",
     "output_type": "stream",
     "text": [
      "apple\n",
      "cherry\n"
     ]
    }
   ],
   "source": [
    "fruits = [\"apple\", \"banana\", \"cherry\"]\n",
    "for x in fruits:\n",
    "  if x == \"banana\":\n",
    "    continue\n",
    "  print(x)"
   ]
  },
  {
   "cell_type": "markdown",
   "id": "7b24f8df-b8e6-495b-95a5-3ec681363e5a",
   "metadata": {},
   "source": [
    "task 186"
   ]
  },
  {
   "cell_type": "code",
   "execution_count": 246,
   "id": "0e69b3f1-a611-4d43-af45-2088ce148783",
   "metadata": {},
   "outputs": [
    {
     "name": "stdout",
     "output_type": "stream",
     "text": [
      "0\n",
      "1\n",
      "2\n",
      "3\n",
      "4\n",
      "5\n"
     ]
    }
   ],
   "source": [
    "for x in range(6):\n",
    "  print(x)"
   ]
  },
  {
   "cell_type": "markdown",
   "id": "a3b66492-bcfc-46be-b49d-50f9ee0d245c",
   "metadata": {},
   "source": [
    "task 187"
   ]
  },
  {
   "cell_type": "code",
   "execution_count": 247,
   "id": "93e79c2d-7f3e-400c-97af-5e1aef90d77a",
   "metadata": {},
   "outputs": [
    {
     "name": "stdout",
     "output_type": "stream",
     "text": [
      "2\n",
      "3\n",
      "4\n",
      "5\n"
     ]
    }
   ],
   "source": [
    "for x in range(2, 6):\n",
    "  print(x)"
   ]
  },
  {
   "cell_type": "markdown",
   "id": "09d21adf-d2af-4209-af4a-ff2317fc5639",
   "metadata": {},
   "source": [
    "task 188"
   ]
  },
  {
   "cell_type": "code",
   "execution_count": 250,
   "id": "3105edcb-67f3-4eba-83bd-b589f4ba442c",
   "metadata": {},
   "outputs": [
    {
     "name": "stdout",
     "output_type": "stream",
     "text": [
      "2\n",
      "5\n",
      "8\n",
      "11\n",
      "14\n",
      "17\n",
      "20\n",
      "23\n",
      "26\n",
      "29\n"
     ]
    }
   ],
   "source": [
    "#the step\n",
    "for x in range(2, 30, 3):\n",
    "  print(x)"
   ]
  },
  {
   "cell_type": "markdown",
   "id": "9c0eec0a-3e62-4df7-9fe9-05b7d5a37835",
   "metadata": {},
   "source": [
    "task 189"
   ]
  },
  {
   "cell_type": "code",
   "execution_count": 251,
   "id": "89d33801-a079-44c6-b303-a9fd406570e7",
   "metadata": {},
   "outputs": [
    {
     "name": "stdout",
     "output_type": "stream",
     "text": [
      "0\n",
      "1\n",
      "2\n",
      "3\n",
      "4\n",
      "5\n",
      "Finally finished!\n"
     ]
    }
   ],
   "source": [
    "for x in range(6):\n",
    "  print(x)\n",
    "else:\n",
    "  print(\"Finally finished!\")"
   ]
  },
  {
   "cell_type": "markdown",
   "id": "abf827cf-e4c6-4787-931d-015d74949b68",
   "metadata": {},
   "source": [
    "TASK 190"
   ]
  },
  {
   "cell_type": "code",
   "execution_count": 252,
   "id": "90bbd518-94eb-4b25-903d-d6e50e42de89",
   "metadata": {},
   "outputs": [
    {
     "name": "stdout",
     "output_type": "stream",
     "text": [
      "0\n",
      "1\n",
      "2\n"
     ]
    }
   ],
   "source": [
    "for x in range(6):\n",
    "  if x == 3: break\n",
    "  print(x)\n",
    "else:\n",
    "  print(\"Finally finished!\")"
   ]
  },
  {
   "cell_type": "markdown",
   "id": "3c573232-fbe4-4d0a-afcf-0cda0341a0bd",
   "metadata": {},
   "source": [
    "task 191"
   ]
  },
  {
   "cell_type": "code",
   "execution_count": 254,
   "id": "203bceba-a0e8-44ac-9ec3-e57e42bfad04",
   "metadata": {},
   "outputs": [
    {
     "name": "stdout",
     "output_type": "stream",
     "text": [
      "red apple\n",
      "red banana\n",
      "red cherry\n",
      "big apple\n",
      "big banana\n",
      "big cherry\n",
      "tasty apple\n",
      "tasty banana\n",
      "tasty cherry\n"
     ]
    }
   ],
   "source": [
    "#double loop\n",
    "adj = [\"red\", \"big\", \"tasty\"]\n",
    "fruits = [\"apple\", \"banana\", \"cherry\"]\n",
    "\n",
    "for x in adj:\n",
    "  for y in fruits:\n",
    "    print(x, y)"
   ]
  },
  {
   "cell_type": "markdown",
   "id": "98a0126b-83da-4748-b419-b356e045e942",
   "metadata": {},
   "source": [
    "task 192\n",
    "for loops cannot be empty, but if you for some reason have a for loop with no content, put in the pass statement to avoid getting an error."
   ]
  },
  {
   "cell_type": "code",
   "execution_count": 255,
   "id": "40d6e9a0-7104-45af-8a8d-4a81cefb0063",
   "metadata": {},
   "outputs": [],
   "source": [
    "for x in [0, 1, 2]:\n",
    "  pass"
   ]
  },
  {
   "cell_type": "code",
   "execution_count": null,
   "id": "5f549e41-5c53-4401-87c3-158bfd346123",
   "metadata": {},
   "outputs": [],
   "source": []
  }
 ],
 "metadata": {
  "kernelspec": {
   "display_name": "Python 3 (ipykernel)",
   "language": "python",
   "name": "python3"
  },
  "language_info": {
   "codemirror_mode": {
    "name": "ipython",
    "version": 3
   },
   "file_extension": ".py",
   "mimetype": "text/x-python",
   "name": "python",
   "nbconvert_exporter": "python",
   "pygments_lexer": "ipython3",
   "version": "3.12.7"
  }
 },
 "nbformat": 4,
 "nbformat_minor": 5
}
