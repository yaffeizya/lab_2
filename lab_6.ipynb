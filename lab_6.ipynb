{
 "cells": [
  {
   "cell_type": "markdown",
   "id": "ef028a4a-e2b2-47ae-ac73-3e551104f8e4",
   "metadata": {},
   "source": [
    "builtin-functions\n",
    "\n",
    "task 1"
   ]
  },
  {
   "cell_type": "code",
   "execution_count": 1,
   "id": "74b540c8-07ef-4563-8812-1f39d5e9ef94",
   "metadata": {},
   "outputs": [
    {
     "name": "stdout",
     "output_type": "stream",
     "text": [
      "144\n"
     ]
    }
   ],
   "source": [
    "l = [1, 2, 3, 4, 3, 2]\n",
    "multiple = 1\n",
    "for i in l:\n",
    "    multiple *= i\n",
    "print(multiple)"
   ]
  },
  {
   "cell_type": "markdown",
   "id": "0e4f3777-9410-41f0-8874-da7c0b7ebeb8",
   "metadata": {},
   "source": [
    "task 2"
   ]
  },
  {
   "cell_type": "code",
   "execution_count": 2,
   "id": "5900c459-abf7-4102-9be1-f3ab3f14b8c9",
   "metadata": {},
   "outputs": [
    {
     "name": "stdin",
     "output_type": "stream",
     "text": [
      " Hello Aleykum to everyone\n"
     ]
    },
    {
     "name": "stdout",
     "output_type": "stream",
     "text": [
      "2\n",
      "20\n"
     ]
    }
   ],
   "source": [
    "s = input()\n",
    "upper_count = 0\n",
    "lower_count = 0\n",
    "for char in s:\n",
    "    if char.isupper():\n",
    "        upper_count += 1\n",
    "for char in s:\n",
    "    if char.islower():\n",
    "        lower_count += 1\n",
    "print(upper_count)\n",
    "print(lower_count)\n",
    "    "
   ]
  },
  {
   "cell_type": "markdown",
   "id": "d11c4efb-ef41-4b1d-8ca3-2e6a8aa43505",
   "metadata": {},
   "source": [
    "task 3"
   ]
  },
  {
   "cell_type": "code",
   "execution_count": 3,
   "id": "c22c1bd9-5cc8-4779-a4e2-f03d9cd6ef17",
   "metadata": {},
   "outputs": [
    {
     "name": "stdin",
     "output_type": "stream",
     "text": [
      " a b a\n"
     ]
    },
    {
     "name": "stdout",
     "output_type": "stream",
     "text": [
      "Oh yea\n"
     ]
    }
   ],
   "source": [
    "s = input()\n",
    "s = s.replace(' ', '') \n",
    "if s == s[::-1]:\n",
    "    print(\"Oh yea\")\n",
    "else:\n",
    "    print(\"nope\")"
   ]
  },
  {
   "cell_type": "markdown",
   "id": "ea336335-ff45-4c18-963f-d8e1a4d51c59",
   "metadata": {},
   "source": [
    "task 4"
   ]
  },
  {
   "cell_type": "code",
   "execution_count": 4,
   "id": "897f9bfe-12d0-4117-a0d0-ffa1c10dda30",
   "metadata": {},
   "outputs": [
    {
     "name": "stdin",
     "output_type": "stream",
     "text": [
      " 25100\n",
      " 2123\n"
     ]
    },
    {
     "name": "stdout",
     "output_type": "stream",
     "text": [
      "Square root of 25100 after 2123 is 158.42979517754858\n"
     ]
    }
   ],
   "source": [
    "\"\"\"\n",
    "25100\n",
    "2123\n",
    "Sample Output:\n",
    "Square root of 25100 after 2123 miliseconds is 158.42979517754858\n",
    "\"\"\"\n",
    "import time\n",
    "\n",
    "number = int(input())\n",
    "milliseconds = int(input())\n",
    "time.sleep(milliseconds/1000)\n",
    "square = number ** 0.5\n",
    "print('Square root of', number, 'after', milliseconds, 'is', square)"
   ]
  },
  {
   "cell_type": "markdown",
   "id": "109bf55a-1808-43db-b1ce-fd2c75f4401b",
   "metadata": {},
   "source": [
    "task 5\n"
   ]
  },
  {
   "cell_type": "code",
   "execution_count": 6,
   "id": "ba4442b6-65ca-4e78-bcab-7d6445fc5988",
   "metadata": {},
   "outputs": [
    {
     "name": "stdout",
     "output_type": "stream",
     "text": [
      "False\n"
     ]
    }
   ],
   "source": [
    "tup = (True, 0, 1, True)\n",
    "print(all(tup))"
   ]
  },
  {
   "cell_type": "markdown",
   "id": "2bde4aae-67e3-468a-8a2f-be06392bc292",
   "metadata": {},
   "source": [
    "Python Directories and Files exercises\n",
    "\n",
    "task 1\n"
   ]
  },
  {
   "cell_type": "code",
   "execution_count": 9,
   "id": "2c7b6672-bcc4-4455-b0bb-10aeafd0e379",
   "metadata": {},
   "outputs": [
    {
     "name": "stdout",
     "output_type": "stream",
     "text": [
      "Only directories:\n",
      "['.config', 'Music', 'pyton', '.local', 'Pictures', '.ipython', 'Desktop', 'Library', '.matplotlib', 'Public', '.yandex', '.virtual_documents', '.anaconda', 'Movies', 'Applications', '.Trash', '.ipynb_checkpoints', '.jupyter', 'Documents', '.vscode', '.swiftpm', 'Downloads', '.continuum', '.zsh_sessions', '.conda']\n",
      "\n",
      "Only files:\n",
      "['.condarc', '.DS_Store', '.CFUserTextEncoding', '.xonshrc', 'Untitled.ipynb', '.zshrc', '.zsh_history', 'untitled.txt', 'sample-data.json', '.tcshrc', 'lab_5.ipynb', 'lab3.ipynb', '.bash_profile', 'lab_2.ipynb', 'lab_6.ipynb', '.bash_history', 'lab_4.ipynb']\n",
      "\n",
      "All directories and files :\n",
      "['.config', 'Music', 'pyton', '.condarc', '.DS_Store', '.CFUserTextEncoding', '.xonshrc', 'Untitled.ipynb', '.zshrc', '.local', 'Pictures', '.zsh_history', '.ipython', 'Desktop', 'Library', '.matplotlib', 'untitled.txt', 'Public', '.yandex', 'sample-data.json', '.tcshrc', '.virtual_documents', 'lab_5.ipynb', '.anaconda', 'Movies', 'Applications', '.Trash', '.ipynb_checkpoints', '.jupyter', 'lab3.ipynb', 'Documents', '.vscode', '.bash_profile', '.swiftpm', 'lab_2.ipynb', 'Downloads', '.continuum', 'lab_6.ipynb', '.bash_history', '.zsh_sessions', '.conda', 'lab_4.ipynb']\n"
     ]
    }
   ],
   "source": [
    "import os\n",
    "path = '/Users/mukhametaliissayev/'\n",
    "\n",
    "print(\"Only directories:\")\n",
    "dirr = []\n",
    "for i in os.listdir(path):\n",
    "    if os.path.isdir(os.path.join(path,i)):\n",
    "        dirr.append(i)\n",
    "print(dirr)\n",
    "\n",
    "print(\"\\nOnly files:\")\n",
    "ffiles = []\n",
    "for i in os.listdir(path):\n",
    "    if not os.path.isdir(os.path.join(path,i)):\n",
    "        ffiles.append(i)\n",
    "print(ffiles)\n",
    "\n",
    "print(\"\\nAll directories and files :\")\n",
    "all = []\n",
    "for i in os.listdir(path):\n",
    "    all.append(i)\n",
    "print(all)"
   ]
  },
  {
   "cell_type": "markdown",
   "id": "af18eea5-08b5-4130-b5f8-5dffbf64db6d",
   "metadata": {},
   "source": [
    "task 2\n"
   ]
  },
  {
   "cell_type": "code",
   "execution_count": 14,
   "id": "7d773230-ab9f-4ad3-9fca-9ae9d4585c8d",
   "metadata": {},
   "outputs": [
    {
     "name": "stdout",
     "output_type": "stream",
     "text": [
      "Existence: True\n",
      "Readability: True\n",
      "Writability: True\n",
      "Executability: True\n"
     ]
    }
   ],
   "source": [
    "import os\n",
    "\n",
    "path = '/Users/mukhametaliissayev/'\n",
    "\n",
    "\n",
    "print(\"Existence:\",os.access(path, os.F_OK)) \n",
    "print(\"Readability:\",os.access(path, os.R_OK)) \n",
    "print(\"Writability:\",os.access(path, os.W_OK)) \n",
    "print(\"Executability:\",os.access(path, os.X_OK)) "
   ]
  },
  {
   "cell_type": "markdown",
   "id": "ca14d604-9052-4b54-818d-b4961b3671f3",
   "metadata": {},
   "source": [
    "task 3"
   ]
  },
  {
   "cell_type": "code",
   "execution_count": 15,
   "id": "061d9eb3-eab4-4640-8c0d-00e9e15e78eb",
   "metadata": {},
   "outputs": [
    {
     "name": "stdout",
     "output_type": "stream",
     "text": [
      "exists or not: True\n",
      "\n",
      "File name: lab_6.ipynb\n",
      "\n",
      "Dir name: /Users/mukhametaliissayev\n"
     ]
    }
   ],
   "source": [
    "import os\n",
    "path = '/Users/mukhametaliissayev/lab_6.ipynb'\n",
    "print(\"exists or not:\", os.path.exists(path))\n",
    "print(\"\\nFile name:\", os.path.basename(path))\n",
    "print(\"\\nDir name:\", os.path.dirname(path))"
   ]
  },
  {
   "cell_type": "markdown",
   "id": "669056b8-c3a0-4bed-a767-a81be2ccd795",
   "metadata": {},
   "source": [
    "task 4"
   ]
  },
  {
   "cell_type": "code",
   "execution_count": 16,
   "id": "db76d7a0-6f14-4362-abee-d32bfaddc23f",
   "metadata": {},
   "outputs": [
    {
     "name": "stdout",
     "output_type": "stream",
     "text": [
      "15\n"
     ]
    }
   ],
   "source": [
    "cnt = 0\n",
    "with open(\"/Users/mukhametaliissayev/lab6.txt\", 'r') as file:\n",
    "            for i in file:\n",
    "                cnt += 1\n",
    "print(cnt)"
   ]
  },
  {
   "cell_type": "markdown",
   "id": "d57ba51e-ee9b-436c-8613-8a0cb1065fb5",
   "metadata": {},
   "source": [
    "task 5"
   ]
  },
  {
   "cell_type": "code",
   "execution_count": 18,
   "id": "3bf50d12-0842-4129-9700-5d3407e4b2a9",
   "metadata": {},
   "outputs": [
    {
     "name": "stdout",
     "output_type": "stream",
     "text": [
      "-----------------------------------\n",
      "List has been written to lab6.txt\n",
      "-----------------------------------\n"
     ]
    }
   ],
   "source": [
    "list = [1, 2, 3, 4, 5, 'Hello', 'World']\n",
    "\n",
    "file = open(r'/Users/mukhametaliissayev/lab6.txt', 'w') \n",
    "\n",
    "file.write(str(list))\n",
    "print(\"-----------------------------------\")\n",
    "print('List has been written to lab6.txt')\n",
    "print(\"-----------------------------------\")"
   ]
  },
  {
   "cell_type": "markdown",
   "id": "7dfe6964-eb8d-4619-8c13-412d1fdc4c1d",
   "metadata": {},
   "source": [
    "task 6"
   ]
  },
  {
   "cell_type": "code",
   "execution_count": 19,
   "id": "1353e86b-bbc5-40e9-b35a-844e368f118d",
   "metadata": {},
   "outputs": [],
   "source": [
    "a = [chr(i) for i in range(65,91)]\n",
    "for x in a:\n",
    "    f = open(x,\"x\")"
   ]
  },
  {
   "cell_type": "markdown",
   "id": "b0c8c937-79f3-4dd8-aa51-f95eea42c028",
   "metadata": {},
   "source": [
    "task 7"
   ]
  },
  {
   "cell_type": "code",
   "execution_count": 27,
   "id": "67f9d0c8-72f5-4224-b8ea-b7f1ec3c0955",
   "metadata": {},
   "outputs": [
    {
     "data": {
      "text/plain": [
       "33"
      ]
     },
     "execution_count": 27,
     "metadata": {},
     "output_type": "execute_result"
    }
   ],
   "source": [
    "txt1=open(r'/Users/mukhametaliissayev/lab6.txt', 'r')\n",
    "txt_1=txt1.read()\n",
    "\n",
    "txt2=open(r'/Users/mukhametaliissayev/lab6_task7.txt', 'a')\n",
    "txt2.write(txt_1)"
   ]
  },
  {
   "cell_type": "markdown",
   "id": "2a54e1d7-8821-4307-b59d-63e7ad3b859f",
   "metadata": {},
   "source": [
    "task 8\n"
   ]
  },
  {
   "cell_type": "code",
   "execution_count": 28,
   "id": "f644c1ec-018a-450a-bb53-1e2d821be9ec",
   "metadata": {},
   "outputs": [],
   "source": [
    "import os\n",
    "\n",
    "path = \"/Users/mukhametaliissayev/lab6_task8.txt\"\n",
    "\n",
    "if not os.path.exists(path):\n",
    "    print(f\"error: the way of '{path}' does not exist\")\n",
    "\n",
    "if not os.access(path, os.W_OK):\n",
    "    print(f\"error: you have not enough rights to delete '{path}'\")\n",
    "        \n",
    "os.remove(path)"
   ]
  },
  {
   "cell_type": "code",
   "execution_count": null,
   "id": "b0aa767a-355c-4ef8-b507-8ace4361ff93",
   "metadata": {},
   "outputs": [],
   "source": []
  }
 ],
 "metadata": {
  "kernelspec": {
   "display_name": "Python 3 (ipykernel)",
   "language": "python",
   "name": "python3"
  },
  "language_info": {
   "codemirror_mode": {
    "name": "ipython",
    "version": 3
   },
   "file_extension": ".py",
   "mimetype": "text/x-python",
   "name": "python",
   "nbconvert_exporter": "python",
   "pygments_lexer": "ipython3",
   "version": "3.12.7"
  }
 },
 "nbformat": 4,
 "nbformat_minor": 5
}
